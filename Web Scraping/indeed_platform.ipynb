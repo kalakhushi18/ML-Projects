{
 "cells": [
  {
   "cell_type": "markdown",
   "metadata": {},
   "source": [
    "## Exercise 2\n"
   ]
  },
  {
   "cell_type": "markdown",
   "metadata": {},
   "source": [
    "### 1. Breif description of platform\n",
    "Name of Platform : Indeed => https://de.indeed.com/?r=us\n",
    "\n",
    "Platform usecase: Indeed, Inc. is an American worldwide employment website for job listings launched in November 2004.They generate revenue by selling premium job posting and resume features to employers and companies hiring. Thus user\n",
    "\n",
    "Features: There are many functionalities that can be done in the Website. With the help of searching for a particular job at a place, user can get the information about Job positions available in that firm. User can get recommendation for applying to a relevant job related to their profile and search. They keep a track of jobs searched by user. User can also upload there CV and directly apply to a company with this platform.\n",
    "\n",
    "Importance: In the growing need of jobs people require to apply to multiple jobs and with help of good description of job provided by \"Indeed\" and easy access to information at one place, user can utilize the feature for performing optimal search.\n",
    "\n",
    "\n",
    "Source: https://en.wikipedia.org/wiki/Indeed"
   ]
  },
  {
   "cell_type": "markdown",
   "metadata": {},
   "source": [
    "### 2. Structured Data Category \n",
    "\n",
    "Type of Data available is:\n",
    "1. Text\n",
    "2. Images\n",
    "3. Links\n",
    "4. Rating"
   ]
  },
  {
   "cell_type": "markdown",
   "metadata": {},
   "source": [
    "### 3. Accessing Data"
   ]
  },
  {
   "cell_type": "markdown",
   "metadata": {},
   "source": [
    "Importing Libraries"
   ]
  },
  {
   "cell_type": "code",
   "execution_count": 1,
   "metadata": {},
   "outputs": [],
   "source": [
    "from selenium import webdriver\n",
    "from selenium.webdriver.common.by import By  \n",
    "import pandas as pd\n",
    "from selenium.webdriver.common.keys import Keys\n",
    "import requests\n",
    "import pandas as pd\n",
    "from bs4 import BeautifulSoup\n",
    "\n",
    "import warnings\n",
    "warnings.filterwarnings('ignore')"
   ]
  },
  {
   "cell_type": "markdown",
   "metadata": {},
   "source": [
    "Chrome Engine Opening"
   ]
  },
  {
   "cell_type": "code",
   "execution_count": 2,
   "metadata": {},
   "outputs": [],
   "source": [
    "search_url = 'https://de.indeed.com/?r=us'\n",
    "driver = webdriver.Chrome()\n",
    "driver.get(search_url)\n",
    "driver.maximize_window()\n",
    "\n",
    "#Since the website is asking for cookie we will not accept or decline here, as we need only some data to be extracted."
   ]
  },
  {
   "cell_type": "markdown",
   "metadata": {},
   "source": [
    "Searching for \"Data Science\" job in Kiel"
   ]
  },
  {
   "cell_type": "code",
   "execution_count": 3,
   "metadata": {},
   "outputs": [],
   "source": [
    "job_to_search = \"Data Science\"\n",
    "job_place = \"Kiel\""
   ]
  },
  {
   "cell_type": "code",
   "execution_count": 4,
   "metadata": {},
   "outputs": [],
   "source": [
    "#selecting job input text \n",
    "job_input = driver.find_element(By.ID, 'text-input-what')\n",
    "job_input.click()\n",
    "job_input.send_keys(job_to_search)                       # enter job search word\n",
    "job_input.send_keys(Keys.RETURN) "
   ]
  },
  {
   "cell_type": "code",
   "execution_count": 7,
   "metadata": {},
   "outputs": [],
   "source": [
    "#selecting job location text\n",
    "job_location = driver.find_element(By.ID,'text-input-where')\n",
    "job_location.click()\n",
    "job_location.send_keys(job_place)\n",
    "job_location.send_keys(Keys.RETURN)"
   ]
  },
  {
   "cell_type": "markdown",
   "metadata": {},
   "source": [
    "Close Button concept code for Dialog box, which keeps on appearing"
   ]
  },
  {
   "cell_type": "code",
   "execution_count": 11,
   "metadata": {},
   "outputs": [],
   "source": [
    "# close_btn = driver.find_element(By.XPATH, '//*[@id=\"mosaic-desktopserpjapopup\"]/div[1]/button')\n",
    "# close_btn.send_keys(Keys.RETURN)\n"
   ]
  },
  {
   "cell_type": "code",
   "execution_count": 8,
   "metadata": {},
   "outputs": [],
   "source": [
    "# selecting the \"Job finden\" btn\n",
    "submit_btn = driver.find_element(By.CLASS_NAME, 'yosegi-InlineWhatWhere-primaryButton')\n",
    "submit_btn.send_keys(Keys.RETURN)"
   ]
  },
  {
   "cell_type": "code",
   "execution_count": 12,
   "metadata": {},
   "outputs": [],
   "source": [
    "# We will only select \"Datum\" to be 24hrs \n",
    "datum_btn = driver.find_element(By.ID, 'filter-dateposted')\n",
    "datum_btn.click()"
   ]
  },
  {
   "cell_type": "code",
   "execution_count": 13,
   "metadata": {},
   "outputs": [
    {
     "name": "stdout",
     "output_type": "stream",
     "text": [
      "https://de.indeed.com/jobs?q=Data+Science&l=Kiel&radius=35&fromage=1\n"
     ]
    }
   ],
   "source": [
    "list_of_dates = driver.find_element(By.ID, 'filter-dateposted-menu')\n",
    "selecting_list_items = list_of_dates.find_elements(By.TAG_NAME, 'li')\n",
    "\n",
    "for i, val in enumerate(selecting_list_items):\n",
    "    #Since last 24 hrs is in first place \n",
    "    if i == 0:\n",
    "       link_for_date =  val.find_element(By.TAG_NAME, 'a').get_property('href')\n",
    "       print(link_for_date)\n",
    "    else:\n",
    "        break\n",
    "    "
   ]
  },
  {
   "cell_type": "code",
   "execution_count": 14,
   "metadata": {},
   "outputs": [],
   "source": [
    "# Now we will use beautiful soup to extract from this new link \n",
    "url = link_for_date\n",
    "html = requests.get(url).text\n",
    "soup = BeautifulSoup(html, 'html.parser')\n"
   ]
  },
  {
   "cell_type": "code",
   "execution_count": 15,
   "metadata": {},
   "outputs": [
    {
     "data": {
      "text/plain": [
       "[]"
      ]
     },
     "execution_count": 15,
     "metadata": {},
     "output_type": "execute_result"
    }
   ],
   "source": [
    "#checking list of job\n",
    "div_job_list = soup.select('#mosaic-jobResults')\n",
    "\n",
    "div_job_list\n",
    "\n",
    "#resuled in empty list, as no data is extracted\n"
   ]
  },
  {
   "cell_type": "code",
   "execution_count": 16,
   "metadata": {},
   "outputs": [
    {
     "data": {
      "text/plain": [
       "[<div id=\"cf-wrapper\">\n",
       " <div class=\"cf-alert cf-alert-error cf-cookie-error\" data-translate=\"enable_cookies\" id=\"cookie-alert\">Please enable cookies.</div>\n",
       " <div class=\"cf-error-details-wrapper\" id=\"cf-error-details\">\n",
       " <div class=\"cf-wrapper cf-header cf-error-overview\">\n",
       " <h1 data-translate=\"block_headline\">Sorry, you have been blocked</h1>\n",
       " <h2 class=\"cf-subheadline\"><span data-translate=\"unable_to_access\">You are unable to access</span> indeed.com</h2>\n",
       " </div><!-- /.header -->\n",
       " <div class=\"cf-section cf-highlight\">\n",
       " <div class=\"cf-wrapper\">\n",
       " <div class=\"cf-screenshot-container cf-screenshot-full\">\n",
       " <span class=\"cf-no-screenshot error\"></span>\n",
       " </div>\n",
       " </div>\n",
       " </div><!-- /.captcha-container -->\n",
       " <div class=\"cf-section cf-wrapper\">\n",
       " <div class=\"cf-columns two\">\n",
       " <div class=\"cf-column\">\n",
       " <h2 data-translate=\"blocked_why_headline\">Why have I been blocked?</h2>\n",
       " <p data-translate=\"blocked_why_detail\">This website is using a security service to protect itself from online attacks. The action you just performed triggered the security solution. There are several actions that could trigger this block including submitting a certain word or phrase, a SQL command or malformed data.</p>\n",
       " </div>\n",
       " <div class=\"cf-column\">\n",
       " <h2 data-translate=\"blocked_resolve_headline\">What can I do to resolve this?</h2>\n",
       " <p data-translate=\"blocked_resolve_detail\">You can email the site owner to let them know you were blocked. Please include what you were doing when this page came up and the Cloudflare Ray ID found at the bottom of this page.</p>\n",
       " </div>\n",
       " </div>\n",
       " </div><!-- /.section -->\n",
       " <div class=\"cf-error-footer cf-wrapper w-240 lg:w-full py-10 sm:py-4 sm:px-8 mx-auto text-center sm:text-left border-solid border-0 border-t border-gray-300\">\n",
       " <p class=\"text-13\">\n",
       " <span class=\"cf-footer-item sm:block sm:mb-1\">Cloudflare Ray ID: <strong class=\"font-semibold\">8732e81bde7dca5c</strong></span>\n",
       " <span class=\"cf-footer-separator sm:hidden\">•</span>\n",
       " <span class=\"cf-footer-item hidden sm:block sm:mb-1\" id=\"cf-footer-item-ip\">\n",
       "       Your IP:\n",
       "       <button class=\"cf-footer-ip-reveal-btn\" id=\"cf-footer-ip-reveal\" type=\"button\">Click to reveal</button>\n",
       " <span class=\"hidden\" id=\"cf-footer-ip\">94.134.232.193</span>\n",
       " <span class=\"cf-footer-separator sm:hidden\">•</span>\n",
       " </span>\n",
       " <span class=\"cf-footer-item sm:block sm:mb-1\"><span>Performance &amp; security by</span> <a href=\"https://www.cloudflare.com/5xx-error-landing\" id=\"brand_link\" rel=\"noopener noreferrer\" target=\"_blank\">Cloudflare</a></span>\n",
       " </p>\n",
       " <script>(function(){function d(){var b=a.getElementById(\"cf-footer-item-ip\"),c=a.getElementById(\"cf-footer-ip-reveal\");b&&\"classList\"in b&&(b.classList.remove(\"hidden\"),c.addEventListener(\"click\",function(){c.classList.add(\"hidden\");a.getElementById(\"cf-footer-ip\").classList.remove(\"hidden\")}))}var a=document;document.addEventListener&&a.addEventListener(\"DOMContentLoaded\",d)})();</script>\n",
       " </div><!-- /.error-footer -->\n",
       " </div><!-- /#cf-error-details -->\n",
       " </div>,\n",
       " <div class=\"cf-alert cf-alert-error cf-cookie-error\" data-translate=\"enable_cookies\" id=\"cookie-alert\">Please enable cookies.</div>,\n",
       " <div class=\"cf-error-details-wrapper\" id=\"cf-error-details\">\n",
       " <div class=\"cf-wrapper cf-header cf-error-overview\">\n",
       " <h1 data-translate=\"block_headline\">Sorry, you have been blocked</h1>\n",
       " <h2 class=\"cf-subheadline\"><span data-translate=\"unable_to_access\">You are unable to access</span> indeed.com</h2>\n",
       " </div><!-- /.header -->\n",
       " <div class=\"cf-section cf-highlight\">\n",
       " <div class=\"cf-wrapper\">\n",
       " <div class=\"cf-screenshot-container cf-screenshot-full\">\n",
       " <span class=\"cf-no-screenshot error\"></span>\n",
       " </div>\n",
       " </div>\n",
       " </div><!-- /.captcha-container -->\n",
       " <div class=\"cf-section cf-wrapper\">\n",
       " <div class=\"cf-columns two\">\n",
       " <div class=\"cf-column\">\n",
       " <h2 data-translate=\"blocked_why_headline\">Why have I been blocked?</h2>\n",
       " <p data-translate=\"blocked_why_detail\">This website is using a security service to protect itself from online attacks. The action you just performed triggered the security solution. There are several actions that could trigger this block including submitting a certain word or phrase, a SQL command or malformed data.</p>\n",
       " </div>\n",
       " <div class=\"cf-column\">\n",
       " <h2 data-translate=\"blocked_resolve_headline\">What can I do to resolve this?</h2>\n",
       " <p data-translate=\"blocked_resolve_detail\">You can email the site owner to let them know you were blocked. Please include what you were doing when this page came up and the Cloudflare Ray ID found at the bottom of this page.</p>\n",
       " </div>\n",
       " </div>\n",
       " </div><!-- /.section -->\n",
       " <div class=\"cf-error-footer cf-wrapper w-240 lg:w-full py-10 sm:py-4 sm:px-8 mx-auto text-center sm:text-left border-solid border-0 border-t border-gray-300\">\n",
       " <p class=\"text-13\">\n",
       " <span class=\"cf-footer-item sm:block sm:mb-1\">Cloudflare Ray ID: <strong class=\"font-semibold\">8732e81bde7dca5c</strong></span>\n",
       " <span class=\"cf-footer-separator sm:hidden\">•</span>\n",
       " <span class=\"cf-footer-item hidden sm:block sm:mb-1\" id=\"cf-footer-item-ip\">\n",
       "       Your IP:\n",
       "       <button class=\"cf-footer-ip-reveal-btn\" id=\"cf-footer-ip-reveal\" type=\"button\">Click to reveal</button>\n",
       " <span class=\"hidden\" id=\"cf-footer-ip\">94.134.232.193</span>\n",
       " <span class=\"cf-footer-separator sm:hidden\">•</span>\n",
       " </span>\n",
       " <span class=\"cf-footer-item sm:block sm:mb-1\"><span>Performance &amp; security by</span> <a href=\"https://www.cloudflare.com/5xx-error-landing\" id=\"brand_link\" rel=\"noopener noreferrer\" target=\"_blank\">Cloudflare</a></span>\n",
       " </p>\n",
       " <script>(function(){function d(){var b=a.getElementById(\"cf-footer-item-ip\"),c=a.getElementById(\"cf-footer-ip-reveal\");b&&\"classList\"in b&&(b.classList.remove(\"hidden\"),c.addEventListener(\"click\",function(){c.classList.add(\"hidden\");a.getElementById(\"cf-footer-ip\").classList.remove(\"hidden\")}))}var a=document;document.addEventListener&&a.addEventListener(\"DOMContentLoaded\",d)})();</script>\n",
       " </div><!-- /.error-footer -->\n",
       " </div>,\n",
       " <div class=\"cf-wrapper cf-header cf-error-overview\">\n",
       " <h1 data-translate=\"block_headline\">Sorry, you have been blocked</h1>\n",
       " <h2 class=\"cf-subheadline\"><span data-translate=\"unable_to_access\">You are unable to access</span> indeed.com</h2>\n",
       " </div>,\n",
       " <div class=\"cf-section cf-highlight\">\n",
       " <div class=\"cf-wrapper\">\n",
       " <div class=\"cf-screenshot-container cf-screenshot-full\">\n",
       " <span class=\"cf-no-screenshot error\"></span>\n",
       " </div>\n",
       " </div>\n",
       " </div>,\n",
       " <div class=\"cf-wrapper\">\n",
       " <div class=\"cf-screenshot-container cf-screenshot-full\">\n",
       " <span class=\"cf-no-screenshot error\"></span>\n",
       " </div>\n",
       " </div>,\n",
       " <div class=\"cf-screenshot-container cf-screenshot-full\">\n",
       " <span class=\"cf-no-screenshot error\"></span>\n",
       " </div>,\n",
       " <div class=\"cf-section cf-wrapper\">\n",
       " <div class=\"cf-columns two\">\n",
       " <div class=\"cf-column\">\n",
       " <h2 data-translate=\"blocked_why_headline\">Why have I been blocked?</h2>\n",
       " <p data-translate=\"blocked_why_detail\">This website is using a security service to protect itself from online attacks. The action you just performed triggered the security solution. There are several actions that could trigger this block including submitting a certain word or phrase, a SQL command or malformed data.</p>\n",
       " </div>\n",
       " <div class=\"cf-column\">\n",
       " <h2 data-translate=\"blocked_resolve_headline\">What can I do to resolve this?</h2>\n",
       " <p data-translate=\"blocked_resolve_detail\">You can email the site owner to let them know you were blocked. Please include what you were doing when this page came up and the Cloudflare Ray ID found at the bottom of this page.</p>\n",
       " </div>\n",
       " </div>\n",
       " </div>,\n",
       " <div class=\"cf-columns two\">\n",
       " <div class=\"cf-column\">\n",
       " <h2 data-translate=\"blocked_why_headline\">Why have I been blocked?</h2>\n",
       " <p data-translate=\"blocked_why_detail\">This website is using a security service to protect itself from online attacks. The action you just performed triggered the security solution. There are several actions that could trigger this block including submitting a certain word or phrase, a SQL command or malformed data.</p>\n",
       " </div>\n",
       " <div class=\"cf-column\">\n",
       " <h2 data-translate=\"blocked_resolve_headline\">What can I do to resolve this?</h2>\n",
       " <p data-translate=\"blocked_resolve_detail\">You can email the site owner to let them know you were blocked. Please include what you were doing when this page came up and the Cloudflare Ray ID found at the bottom of this page.</p>\n",
       " </div>\n",
       " </div>,\n",
       " <div class=\"cf-column\">\n",
       " <h2 data-translate=\"blocked_why_headline\">Why have I been blocked?</h2>\n",
       " <p data-translate=\"blocked_why_detail\">This website is using a security service to protect itself from online attacks. The action you just performed triggered the security solution. There are several actions that could trigger this block including submitting a certain word or phrase, a SQL command or malformed data.</p>\n",
       " </div>,\n",
       " <div class=\"cf-column\">\n",
       " <h2 data-translate=\"blocked_resolve_headline\">What can I do to resolve this?</h2>\n",
       " <p data-translate=\"blocked_resolve_detail\">You can email the site owner to let them know you were blocked. Please include what you were doing when this page came up and the Cloudflare Ray ID found at the bottom of this page.</p>\n",
       " </div>,\n",
       " <div class=\"cf-error-footer cf-wrapper w-240 lg:w-full py-10 sm:py-4 sm:px-8 mx-auto text-center sm:text-left border-solid border-0 border-t border-gray-300\">\n",
       " <p class=\"text-13\">\n",
       " <span class=\"cf-footer-item sm:block sm:mb-1\">Cloudflare Ray ID: <strong class=\"font-semibold\">8732e81bde7dca5c</strong></span>\n",
       " <span class=\"cf-footer-separator sm:hidden\">•</span>\n",
       " <span class=\"cf-footer-item hidden sm:block sm:mb-1\" id=\"cf-footer-item-ip\">\n",
       "       Your IP:\n",
       "       <button class=\"cf-footer-ip-reveal-btn\" id=\"cf-footer-ip-reveal\" type=\"button\">Click to reveal</button>\n",
       " <span class=\"hidden\" id=\"cf-footer-ip\">94.134.232.193</span>\n",
       " <span class=\"cf-footer-separator sm:hidden\">•</span>\n",
       " </span>\n",
       " <span class=\"cf-footer-item sm:block sm:mb-1\"><span>Performance &amp; security by</span> <a href=\"https://www.cloudflare.com/5xx-error-landing\" id=\"brand_link\" rel=\"noopener noreferrer\" target=\"_blank\">Cloudflare</a></span>\n",
       " </p>\n",
       " <script>(function(){function d(){var b=a.getElementById(\"cf-footer-item-ip\"),c=a.getElementById(\"cf-footer-ip-reveal\");b&&\"classList\"in b&&(b.classList.remove(\"hidden\"),c.addEventListener(\"click\",function(){c.classList.add(\"hidden\");a.getElementById(\"cf-footer-ip\").classList.remove(\"hidden\")}))}var a=document;document.addEventListener&&a.addEventListener(\"DOMContentLoaded\",d)})();</script>\n",
       " </div>]"
      ]
     },
     "execution_count": 16,
     "metadata": {},
     "output_type": "execute_result"
    }
   ],
   "source": [
    "soup.select('div')"
   ]
  },
  {
   "cell_type": "markdown",
   "metadata": {},
   "source": [
    "Here instead of getting the result for first element which is present on the website and the process to fetch is also correct, so on investigation due to security purpose I got the error: \"This website is using a security service to protect itself from online attacks. The action you just performed triggered the security solution. There are several actions that could trigger this block including submitting a certain word or phrase, a SQL command or malformed data\" \n",
    "Thus my IP address got blocked if I request a certain selected Date data, thus this proves that we can't access a certain selected filter data from this website"
   ]
  },
  {
   "cell_type": "code",
   "execution_count": 17,
   "metadata": {},
   "outputs": [],
   "source": [
    "#list of jobs\n",
    "div_for_job = driver.find_element(By.ID, 'mosaic-jobResults')\n",
    "div_details = div_for_job.find_elements(By.CLASS_NAME, 'job_seen_beacon')"
   ]
  },
  {
   "cell_type": "code",
   "execution_count": 18,
   "metadata": {},
   "outputs": [],
   "source": [
    "headings_for_jobs =[]\n",
    "salaries_for_jobs = []\n",
    "job_description = []\n",
    "company_location = []\n",
    "company_name = []\n",
    "rating = []\n"
   ]
  },
  {
   "cell_type": "code",
   "execution_count": 19,
   "metadata": {},
   "outputs": [],
   "source": [
    "for i in div_details:\n",
    "\n",
    "    #heading\n",
    "    try:\n",
    "        heading = i.find_element(By.TAG_NAME, 'table').find_element(By.TAG_NAME, 'h2').text\n",
    "        headings_for_jobs.append(heading)\n",
    "    except:\n",
    "        headings_for_jobs.append(None)\n",
    "\n",
    "    #salary\n",
    "    try:\n",
    "        salary_snippet = i.find_element(By.TAG_NAME, 'table').find_element(By.CLASS_NAME, 'salary-snippet-container').text\n",
    "        salaries_for_jobs.append(salary_snippet)\n",
    "    except:\n",
    "      salaries_for_jobs.append(None)\n",
    "\n",
    "  \n",
    "    #job description\n",
    "    try:\n",
    "        div_second_table = i.find_element(By.CSS_SELECTOR, 'table.css-1u8dvic.eu4oa1w0').text\n",
    "        job_description.append(div_second_table)\n",
    "    except:\n",
    "        job_description.append(None)\n",
    "        \n",
    "\n",
    "    #Company Location, Company name and Rating\n",
    "    try:\n",
    "        location = i.find_element(By.TAG_NAME, 'table').find_element(By.CSS_SELECTOR,'div.company_location.css-17fky0v.e37uo190').text.split('\\n')\n",
    "        for j,val in enumerate(location):\n",
    "            if len(location) == 3:\n",
    "\n",
    "                if j == 0:\n",
    "                    company_name.append(val)\n",
    "                elif j == 1:\n",
    "                    rating.append(val)\n",
    "                else:\n",
    "                    company_location.append(val)\n",
    "            else:\n",
    "                \n",
    "                if j == 0:\n",
    "                    company_name.append(val)\n",
    "                    rating.append(None)\n",
    "                else:\n",
    "                    company_location.append(val)\n",
    "\n",
    "    except:\n",
    "        company_name.append(None)\n",
    "        rating.append(None)\n",
    "        company_location.append(None)\n"
   ]
  },
  {
   "cell_type": "code",
   "execution_count": 20,
   "metadata": {},
   "outputs": [],
   "source": [
    "job_dataframe = pd.DataFrame({\n",
    "    'job_title': headings_for_jobs,\n",
    "    'salary': salaries_for_jobs,\n",
    "    'job_decription':job_description,\n",
    "    'company_name':company_name,\n",
    "    'company_location': company_location,\n",
    "    'rating':rating})"
   ]
  },
  {
   "cell_type": "markdown",
   "metadata": {},
   "source": [
    "Printing Data"
   ]
  },
  {
   "cell_type": "code",
   "execution_count": 21,
   "metadata": {},
   "outputs": [
    {
     "data": {
      "text/html": [
       "<div>\n",
       "<style scoped>\n",
       "    .dataframe tbody tr th:only-of-type {\n",
       "        vertical-align: middle;\n",
       "    }\n",
       "\n",
       "    .dataframe tbody tr th {\n",
       "        vertical-align: top;\n",
       "    }\n",
       "\n",
       "    .dataframe thead th {\n",
       "        text-align: right;\n",
       "    }\n",
       "</style>\n",
       "<table border=\"1\" class=\"dataframe\">\n",
       "  <thead>\n",
       "    <tr style=\"text-align: right;\">\n",
       "      <th></th>\n",
       "      <th>job_title</th>\n",
       "      <th>salary</th>\n",
       "      <th>job_decription</th>\n",
       "      <th>company_name</th>\n",
       "      <th>company_location</th>\n",
       "      <th>rating</th>\n",
       "    </tr>\n",
       "  </thead>\n",
       "  <tbody>\n",
       "    <tr>\n",
       "      <th>0</th>\n",
       "      <td>DevOps Engineer KI &amp; Data Science / Linux (w/m/d)</td>\n",
       "      <td>3.729,19 € – 6.020,90 € pro Monat</td>\n",
       "      <td>Unsere Aufgabe war noch nie so wichtig wie heu...</td>\n",
       "      <td>Dataport AöR</td>\n",
       "      <td>Hybrides Arbeiten in 24161 Altenholz</td>\n",
       "      <td>4,2</td>\n",
       "    </tr>\n",
       "    <tr>\n",
       "      <th>1</th>\n",
       "      <td>Senior Consultant Data Analytics (m/w/d) in Ne...</td>\n",
       "      <td>None</td>\n",
       "      <td>Senior Consultant Data Analytics (m/w/d).\\nAls...</td>\n",
       "      <td>Lidl Stiftung</td>\n",
       "      <td>Deutschland</td>\n",
       "      <td>3,1</td>\n",
       "    </tr>\n",
       "    <tr>\n",
       "      <th>2</th>\n",
       "      <td>Data Scientist (Generative AI) (m/f/d)</td>\n",
       "      <td>None</td>\n",
       "      <td>_Keywords: data python data data analyst data ...</td>\n",
       "      <td>None</td>\n",
       "      <td>None</td>\n",
       "      <td>None</td>\n",
       "    </tr>\n",
       "    <tr>\n",
       "      <th>3</th>\n",
       "      <td>Bachelor of Science, Angewandte Informatik (m/...</td>\n",
       "      <td>None</td>\n",
       "      <td>Schnellbewerbung\\nHochschule: Duale Hochschule...</td>\n",
       "      <td>Bela</td>\n",
       "      <td>Kiel</td>\n",
       "      <td>None</td>\n",
       "    </tr>\n",
       "    <tr>\n",
       "      <th>4</th>\n",
       "      <td>Backend Developer (F/M/D)</td>\n",
       "      <td>None</td>\n",
       "      <td>Schnellbewerbung\\nYou help creating services i...</td>\n",
       "      <td>north.io</td>\n",
       "      <td>24118 Kiel</td>\n",
       "      <td>None</td>\n",
       "    </tr>\n",
       "    <tr>\n",
       "      <th>5</th>\n",
       "      <td>Senior Data Solution Engineers (m/f/d)</td>\n",
       "      <td>None</td>\n",
       "      <td>Keywords: data python data data analyst data s...</td>\n",
       "      <td>Mabanaft GmbH &amp; Co. KG</td>\n",
       "      <td>Schleswig-Holstein</td>\n",
       "      <td>4,5</td>\n",
       "    </tr>\n",
       "    <tr>\n",
       "      <th>6</th>\n",
       "      <td>Systems Engineer F126 Digital Communication Ne...</td>\n",
       "      <td>None</td>\n",
       "      <td>Have a technical degree (i.e. electrical engin...</td>\n",
       "      <td>Thales</td>\n",
       "      <td>24106 Kiel</td>\n",
       "      <td>None</td>\n",
       "    </tr>\n",
       "    <tr>\n",
       "      <th>7</th>\n",
       "      <td>PhD position (m/w/d) Biogeochemical Ecology</td>\n",
       "      <td>None</td>\n",
       "      <td>The project also offers the opportunity to fam...</td>\n",
       "      <td>Springer Nature</td>\n",
       "      <td>Kiel</td>\n",
       "      <td>None</td>\n",
       "    </tr>\n",
       "    <tr>\n",
       "      <th>8</th>\n",
       "      <td>Postdoctoral Researcher (part-time) in Economi...</td>\n",
       "      <td>None</td>\n",
       "      <td>Thus, interest and experience in empirical app...</td>\n",
       "      <td>Kiel Institut für Weltwirtschaft</td>\n",
       "      <td>24105 Kiel</td>\n",
       "      <td>None</td>\n",
       "    </tr>\n",
       "    <tr>\n",
       "      <th>9</th>\n",
       "      <td>PhD candidate position (m/w/d) in the project ...</td>\n",
       "      <td>None</td>\n",
       "      <td>As soon as the selection procedure has finishe...</td>\n",
       "      <td>Springer Nature</td>\n",
       "      <td>Kiel</td>\n",
       "      <td>None</td>\n",
       "    </tr>\n",
       "    <tr>\n",
       "      <th>10</th>\n",
       "      <td>Praktikant*in Machine Learning (w/m/d) bei U-G...</td>\n",
       "      <td>None</td>\n",
       "      <td>Schnellbewerbung\\nAnalysis of Connected Compon...</td>\n",
       "      <td>U-Glow GmbH</td>\n",
       "      <td>Kiel</td>\n",
       "      <td>None</td>\n",
       "    </tr>\n",
       "    <tr>\n",
       "      <th>11</th>\n",
       "      <td>Praktikant*in Computer Vision (w/m/d) bei U-Gl...</td>\n",
       "      <td>None</td>\n",
       "      <td>Schnellbewerbung\\nAnalysis of Connected Compon...</td>\n",
       "      <td>U-Glow GmbH</td>\n",
       "      <td>Kiel</td>\n",
       "      <td>None</td>\n",
       "    </tr>\n",
       "    <tr>\n",
       "      <th>12</th>\n",
       "      <td>Lead Data Engineer - Data Platform (m/f/d) Ham...</td>\n",
       "      <td>None</td>\n",
       "      <td>_Keywords: data python data data analyst data ...</td>\n",
       "      <td>Mabanaft GmbH &amp; Co. KG</td>\n",
       "      <td>Schleswig-Holstein</td>\n",
       "      <td>4,5</td>\n",
       "    </tr>\n",
       "    <tr>\n",
       "      <th>13</th>\n",
       "      <td>Lead DevOps Engineer - Data Platform(m/f/d) Ha...</td>\n",
       "      <td>None</td>\n",
       "      <td>Collaboration: Work closely with data engineer...</td>\n",
       "      <td>Mabanaft GmbH &amp; Co. KG</td>\n",
       "      <td>Schleswig-Holstein</td>\n",
       "      <td>4,5</td>\n",
       "    </tr>\n",
       "    <tr>\n",
       "      <th>14</th>\n",
       "      <td>Business Analyst (m/w/d) in Hamburg</td>\n",
       "      <td>None</td>\n",
       "      <td>Fuelling tomorrow *– das ist unsere Vision.\\nD...</td>\n",
       "      <td>Mabanaft GmbH &amp; Co. KG</td>\n",
       "      <td>Schleswig-Holstein</td>\n",
       "      <td>4,5</td>\n",
       "    </tr>\n",
       "  </tbody>\n",
       "</table>\n",
       "</div>"
      ],
      "text/plain": [
       "                                            job_title  \\\n",
       "0   DevOps Engineer KI & Data Science / Linux (w/m/d)   \n",
       "1   Senior Consultant Data Analytics (m/w/d) in Ne...   \n",
       "2              Data Scientist (Generative AI) (m/f/d)   \n",
       "3   Bachelor of Science, Angewandte Informatik (m/...   \n",
       "4                           Backend Developer (F/M/D)   \n",
       "5              Senior Data Solution Engineers (m/f/d)   \n",
       "6   Systems Engineer F126 Digital Communication Ne...   \n",
       "7         PhD position (m/w/d) Biogeochemical Ecology   \n",
       "8   Postdoctoral Researcher (part-time) in Economi...   \n",
       "9   PhD candidate position (m/w/d) in the project ...   \n",
       "10  Praktikant*in Machine Learning (w/m/d) bei U-G...   \n",
       "11  Praktikant*in Computer Vision (w/m/d) bei U-Gl...   \n",
       "12  Lead Data Engineer - Data Platform (m/f/d) Ham...   \n",
       "13  Lead DevOps Engineer - Data Platform(m/f/d) Ha...   \n",
       "14                Business Analyst (m/w/d) in Hamburg   \n",
       "\n",
       "                               salary  \\\n",
       "0   3.729,19 € – 6.020,90 € pro Monat   \n",
       "1                                None   \n",
       "2                                None   \n",
       "3                                None   \n",
       "4                                None   \n",
       "5                                None   \n",
       "6                                None   \n",
       "7                                None   \n",
       "8                                None   \n",
       "9                                None   \n",
       "10                               None   \n",
       "11                               None   \n",
       "12                               None   \n",
       "13                               None   \n",
       "14                               None   \n",
       "\n",
       "                                       job_decription  \\\n",
       "0   Unsere Aufgabe war noch nie so wichtig wie heu...   \n",
       "1   Senior Consultant Data Analytics (m/w/d).\\nAls...   \n",
       "2   _Keywords: data python data data analyst data ...   \n",
       "3   Schnellbewerbung\\nHochschule: Duale Hochschule...   \n",
       "4   Schnellbewerbung\\nYou help creating services i...   \n",
       "5   Keywords: data python data data analyst data s...   \n",
       "6   Have a technical degree (i.e. electrical engin...   \n",
       "7   The project also offers the opportunity to fam...   \n",
       "8   Thus, interest and experience in empirical app...   \n",
       "9   As soon as the selection procedure has finishe...   \n",
       "10  Schnellbewerbung\\nAnalysis of Connected Compon...   \n",
       "11  Schnellbewerbung\\nAnalysis of Connected Compon...   \n",
       "12  _Keywords: data python data data analyst data ...   \n",
       "13  Collaboration: Work closely with data engineer...   \n",
       "14  Fuelling tomorrow *– das ist unsere Vision.\\nD...   \n",
       "\n",
       "                        company_name                      company_location  \\\n",
       "0                       Dataport AöR  Hybrides Arbeiten in 24161 Altenholz   \n",
       "1                      Lidl Stiftung                           Deutschland   \n",
       "2                               None                                  None   \n",
       "3                               Bela                                  Kiel   \n",
       "4                           north.io                            24118 Kiel   \n",
       "5             Mabanaft GmbH & Co. KG                    Schleswig-Holstein   \n",
       "6                             Thales                            24106 Kiel   \n",
       "7                    Springer Nature                                  Kiel   \n",
       "8   Kiel Institut für Weltwirtschaft                            24105 Kiel   \n",
       "9                    Springer Nature                                  Kiel   \n",
       "10                       U-Glow GmbH                                  Kiel   \n",
       "11                       U-Glow GmbH                                  Kiel   \n",
       "12            Mabanaft GmbH & Co. KG                    Schleswig-Holstein   \n",
       "13            Mabanaft GmbH & Co. KG                    Schleswig-Holstein   \n",
       "14            Mabanaft GmbH & Co. KG                    Schleswig-Holstein   \n",
       "\n",
       "   rating  \n",
       "0     4,2  \n",
       "1     3,1  \n",
       "2    None  \n",
       "3    None  \n",
       "4    None  \n",
       "5     4,5  \n",
       "6    None  \n",
       "7    None  \n",
       "8    None  \n",
       "9    None  \n",
       "10   None  \n",
       "11   None  \n",
       "12    4,5  \n",
       "13    4,5  \n",
       "14    4,5  "
      ]
     },
     "execution_count": 21,
     "metadata": {},
     "output_type": "execute_result"
    }
   ],
   "source": [
    "job_dataframe"
   ]
  },
  {
   "cell_type": "markdown",
   "metadata": {},
   "source": [
    "Data Insights:\n",
    "\n",
    "The data can be extracted more but from the main page with not applying any filter. More fields such as job type could also be extracted, but due to IP blocking I am not able to access much more details. "
   ]
  },
  {
   "cell_type": "code",
   "execution_count": 23,
   "metadata": {},
   "outputs": [],
   "source": [
    "job_data_csv = job_dataframe.to_csv('job_data.csv')"
   ]
  },
  {
   "cell_type": "markdown",
   "metadata": {},
   "source": [
    "Closing the browser"
   ]
  },
  {
   "cell_type": "code",
   "execution_count": 24,
   "metadata": {},
   "outputs": [],
   "source": [
    "driver.quit()"
   ]
  },
  {
   "cell_type": "markdown",
   "metadata": {},
   "source": [
    "### 4. Insights\n",
    "\n",
    "<b>Challenges of accessing data</b>: Due to security issue I was not able to all the data through webscraping. Even when I applied filter through selenium I was not able to access the new link data with Beautiful soup. \n",
    "On the same website some data such as Job Description, I was able to load it first but later on due to several request I could not access it more.\n",
    "\n",
    "In the commented section, sometimes a dialog box opens all of sudden which then can't be handled with selenium as ID of closing changes, thus the alternative could be that we search from the start with the given job title and job location and then access the URL( which I have avoided here to test selenium work which is working fine when no dialog appears)\n",
    "\n",
    "<b> Recommendations</b>: For accessing data from this portal Webscraping is not a good option, instead API request has to be made.\n",
    "\n",
    "<b> Alternate ways to access data</b>: Using an Indeed Job Sync API https://docs.indeed.com/job-sync-api/job-sync-api-guide\n",
    "\n",
    "\n",
    "\n"
   ]
  },
  {
   "cell_type": "markdown",
   "metadata": {},
   "source": [
    "### 5. Data Usage\n",
    "\n",
    "<b> Problems that could be solved</b>: If we are able to collect this data, then job posting pattern can be fetched with details regarding several jobs, salaries, location and details. The problem we can solve is to find the location which is highly active for a certain job. This cluster could help people who search for the job for many hours and could not find a relevant one. If they would get the information that for a certain job, this location is suitable that the time cost of that person can be saved. \n",
    "\n",
    "Many more other problems like getting an idea of salary could help job seekers to get an overview of Market details. Many a times the fresher does not the know the salary which is right for the job he/she has applied, thus a cluster of job salaries under a category could help resolve this issue of lack of job Market knowledge.\n",
    "\n",
    "\n",
    "\n",
    "<b> Target Audience </b>\n",
    "\n",
    "The audience is the Job seekers and Job employers. "
   ]
  },
  {
   "cell_type": "markdown",
   "metadata": {},
   "source": [
    "<i>End of File</i>"
   ]
  }
 ],
 "metadata": {
  "kernelspec": {
   "display_name": "test",
   "language": "python",
   "name": "python3"
  },
  "language_info": {
   "codemirror_mode": {
    "name": "ipython",
    "version": 3
   },
   "file_extension": ".py",
   "mimetype": "text/x-python",
   "name": "python",
   "nbconvert_exporter": "python",
   "pygments_lexer": "ipython3",
   "version": "3.11.5"
  }
 },
 "nbformat": 4,
 "nbformat_minor": 2
}
