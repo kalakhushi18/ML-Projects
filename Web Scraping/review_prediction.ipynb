{
 "cells": [
  {
   "cell_type": "markdown",
   "metadata": {},
   "source": [
    "## Task \n",
    "\n",
    "Machine Learning experiment to predict the rating of a review on a scale from 1- 5 based only on the text of the review."
   ]
  },
  {
   "cell_type": "markdown",
   "metadata": {},
   "source": [
    "Importing Libraries"
   ]
  },
  {
   "cell_type": "code",
   "execution_count": 1,
   "metadata": {},
   "outputs": [
    {
     "name": "stderr",
     "output_type": "stream",
     "text": [
      "[nltk_data] Downloading package punkt to\n",
      "[nltk_data]     C:\\Users\\Asus\\AppData\\Roaming\\nltk_data...\n",
      "[nltk_data]   Package punkt is already up-to-date!\n",
      "[nltk_data] Downloading package stopwords to\n",
      "[nltk_data]     C:\\Users\\Asus\\AppData\\Roaming\\nltk_data...\n",
      "[nltk_data]   Package stopwords is already up-to-date!\n",
      "[nltk_data] Downloading package words to\n",
      "[nltk_data]     C:\\Users\\Asus\\AppData\\Roaming\\nltk_data...\n",
      "[nltk_data]   Package words is already up-to-date!\n"
     ]
    }
   ],
   "source": [
    "import pandas as pd\n",
    "import re\n",
    "import seaborn as sns\n",
    "import matplotlib.pyplot as plt\n",
    "import contractions\n",
    "import nltk\n",
    "from nltk.corpus import stopwords\n",
    "from nltk.tokenize import word_tokenize\n",
    "\n",
    "from nltk.stem import PorterStemmer\n",
    "import spacy\n",
    "import warnings\n",
    "from sklearn.ensemble import RandomForestClassifier\n",
    "from sklearn.feature_extraction.text import CountVectorizer,TfidfVectorizer\n",
    "from sklearn.model_selection import train_test_split, GridSearchCV\n",
    "from sklearn.linear_model import LogisticRegression\n",
    "from sklearn.naive_bayes import MultinomialNB\n",
    "warnings.filterwarnings('ignore')\n",
    "from sklearn.svm import SVC\n",
    "from sklearn.metrics import  accuracy_score, balanced_accuracy_score, precision_score, recall_score, f1_score\n",
    "from imblearn.over_sampling import RandomOverSampler\n",
    "import pickle"
   ]
  },
  {
   "cell_type": "markdown",
   "metadata": {},
   "source": [
    "### Loading Dataset and data visualization"
   ]
  },
  {
   "cell_type": "code",
   "execution_count": 2,
   "metadata": {},
   "outputs": [
    {
     "data": {
      "text/html": [
       "<div>\n",
       "<style scoped>\n",
       "    .dataframe tbody tr th:only-of-type {\n",
       "        vertical-align: middle;\n",
       "    }\n",
       "\n",
       "    .dataframe tbody tr th {\n",
       "        vertical-align: top;\n",
       "    }\n",
       "\n",
       "    .dataframe thead th {\n",
       "        text-align: right;\n",
       "    }\n",
       "</style>\n",
       "<table border=\"1\" class=\"dataframe\">\n",
       "  <thead>\n",
       "    <tr style=\"text-align: right;\">\n",
       "      <th></th>\n",
       "      <th>name</th>\n",
       "      <th>restaurant_url</th>\n",
       "      <th>title</th>\n",
       "      <th>text</th>\n",
       "      <th>rating</th>\n",
       "    </tr>\n",
       "  </thead>\n",
       "  <tbody>\n",
       "    <tr>\n",
       "      <th>0</th>\n",
       "      <td>Manufactur</td>\n",
       "      <td>https://www.tripadvisor.com/Restaurant_Review-g187412-d8410818-Reviews-Manufactur-Kiel_Schleswig_Holstein.html</td>\n",
       "      <td>Best in Kiel</td>\n",
       "      <td>The absolutely best restaurant in the town of Kiel! Nice decor, good space, super charming back-yard, with possibility to dine outdoor, great service, fresh food - I can really recomand their fish...</td>\n",
       "      <td>5.0</td>\n",
       "    </tr>\n",
       "    <tr>\n",
       "      <th>1</th>\n",
       "      <td>Manufactur</td>\n",
       "      <td>https://www.tripadvisor.com/Restaurant_Review-g187412-d8410818-Reviews-Manufactur-Kiel_Schleswig_Holstein.html</td>\n",
       "      <td>Simply, tasty and very good</td>\n",
       "      <td>Tasty and high quality food! A “healthier”way to propose comfort food. The guys are kind and helpful. Bear in mind: cash only payment so far</td>\n",
       "      <td>5.0</td>\n",
       "    </tr>\n",
       "    <tr>\n",
       "      <th>2</th>\n",
       "      <td>Manufactur</td>\n",
       "      <td>https://www.tripadvisor.com/Restaurant_Review-g187412-d8410818-Reviews-Manufactur-Kiel_Schleswig_Holstein.html</td>\n",
       "      <td>Delicious fast food!</td>\n",
       "      <td>The food was more than we asked for and we where happily surprised by the food in the small restaurant. The food was very affordable for a family and tasted delicious! It was also fast and friendl...</td>\n",
       "      <td>5.0</td>\n",
       "    </tr>\n",
       "  </tbody>\n",
       "</table>\n",
       "</div>"
      ],
      "text/plain": [
       "         name  \\\n",
       "0  Manufactur   \n",
       "1  Manufactur   \n",
       "2  Manufactur   \n",
       "\n",
       "                                                                                                   restaurant_url  \\\n",
       "0  https://www.tripadvisor.com/Restaurant_Review-g187412-d8410818-Reviews-Manufactur-Kiel_Schleswig_Holstein.html   \n",
       "1  https://www.tripadvisor.com/Restaurant_Review-g187412-d8410818-Reviews-Manufactur-Kiel_Schleswig_Holstein.html   \n",
       "2  https://www.tripadvisor.com/Restaurant_Review-g187412-d8410818-Reviews-Manufactur-Kiel_Schleswig_Holstein.html   \n",
       "\n",
       "                         title  \\\n",
       "0                 Best in Kiel   \n",
       "1  Simply, tasty and very good   \n",
       "2         Delicious fast food!   \n",
       "\n",
       "                                                                                                                                                                                                      text  \\\n",
       "0  The absolutely best restaurant in the town of Kiel! Nice decor, good space, super charming back-yard, with possibility to dine outdoor, great service, fresh food - I can really recomand their fish...   \n",
       "1                                                             Tasty and high quality food! A “healthier”way to propose comfort food. The guys are kind and helpful. Bear in mind: cash only payment so far   \n",
       "2  The food was more than we asked for and we where happily surprised by the food in the small restaurant. The food was very affordable for a family and tasted delicious! It was also fast and friendl...   \n",
       "\n",
       "   rating  \n",
       "0     5.0  \n",
       "1     5.0  \n",
       "2     5.0  "
      ]
     },
     "execution_count": 2,
     "metadata": {},
     "output_type": "execute_result"
    }
   ],
   "source": [
    "pd.set_option('display.max_colwidth', 200)\n",
    "restaurant_review_df =  pd.read_csv('restaurant-reviews.csv')\n",
    "restaurant_review_df.head(3)"
   ]
  },
  {
   "cell_type": "markdown",
   "metadata": {},
   "source": [
    "### IDA"
   ]
  },
  {
   "cell_type": "code",
   "execution_count": 3,
   "metadata": {},
   "outputs": [
    {
     "name": "stdout",
     "output_type": "stream",
     "text": [
      "Number of rows in dataset: 1000\n",
      "Number of cols in dataset: 5\n",
      "Null values are: \n",
      "name              0\n",
      "restaurant_url    0\n",
      "title             0\n",
      "text              0\n",
      "rating            0\n",
      "dtype: int64\n"
     ]
    }
   ],
   "source": [
    "#finding shape of dataset\n",
    "print(f\"Number of rows in dataset: {restaurant_review_df.shape[0]}\")\n",
    "print(f\"Number of cols in dataset: {restaurant_review_df.shape[1]}\")\n",
    "\n",
    "#checking null values\n",
    "null_values = restaurant_review_df.isnull().sum()\n",
    "print(f'Null values are: \\n{null_values}')\n",
    "\n",
    "#observation: no null values present in our dataset"
   ]
  },
  {
   "cell_type": "code",
   "execution_count": 4,
   "metadata": {},
   "outputs": [
    {
     "data": {
      "text/html": [
       "<div>\n",
       "<style scoped>\n",
       "    .dataframe tbody tr th:only-of-type {\n",
       "        vertical-align: middle;\n",
       "    }\n",
       "\n",
       "    .dataframe tbody tr th {\n",
       "        vertical-align: top;\n",
       "    }\n",
       "\n",
       "    .dataframe thead th {\n",
       "        text-align: right;\n",
       "    }\n",
       "</style>\n",
       "<table border=\"1\" class=\"dataframe\">\n",
       "  <thead>\n",
       "    <tr style=\"text-align: right;\">\n",
       "      <th></th>\n",
       "      <th>final_text</th>\n",
       "      <th>rating</th>\n",
       "    </tr>\n",
       "  </thead>\n",
       "  <tbody>\n",
       "    <tr>\n",
       "      <th>0</th>\n",
       "      <td>Best in Kiel The absolutely best restaurant in the town of Kiel! Nice decor, good space, super charming back-yard, with possibility to dine outdoor, great service, fresh food - I can really recoma...</td>\n",
       "      <td>5.0</td>\n",
       "    </tr>\n",
       "    <tr>\n",
       "      <th>1</th>\n",
       "      <td>Simply, tasty and very good Tasty and high quality food! A “healthier”way to propose comfort food. The guys are kind and helpful. Bear in mind: cash only payment so far</td>\n",
       "      <td>5.0</td>\n",
       "    </tr>\n",
       "  </tbody>\n",
       "</table>\n",
       "</div>"
      ],
      "text/plain": [
       "                                                                                                                                                                                                final_text  \\\n",
       "0  Best in Kiel The absolutely best restaurant in the town of Kiel! Nice decor, good space, super charming back-yard, with possibility to dine outdoor, great service, fresh food - I can really recoma...   \n",
       "1                                 Simply, tasty and very good Tasty and high quality food! A “healthier”way to propose comfort food. The guys are kind and helpful. Bear in mind: cash only payment so far   \n",
       "\n",
       "   rating  \n",
       "0     5.0  \n",
       "1     5.0  "
      ]
     },
     "execution_count": 4,
     "metadata": {},
     "output_type": "execute_result"
    }
   ],
   "source": [
    "# prediction of rating on the basis of text of review, thus using only text and rating column\n",
    "restaurant_review_df_cpy = restaurant_review_df.copy()\n",
    "restaurant_review_df_cpy['final_text'] = restaurant_review_df_cpy['title'].astype(str) + ' ' + restaurant_review_df_cpy['text'].astype(str)\n",
    "restaurant_review_df_cpy = restaurant_review_df_cpy[['final_text', 'rating']]\n",
    "restaurant_review_df_cpy.head(2)\n"
   ]
  },
  {
   "cell_type": "code",
   "execution_count": 5,
   "metadata": {},
   "outputs": [
    {
     "data": {
      "text/html": [
       "<div>\n",
       "<style scoped>\n",
       "    .dataframe tbody tr th:only-of-type {\n",
       "        vertical-align: middle;\n",
       "    }\n",
       "\n",
       "    .dataframe tbody tr th {\n",
       "        vertical-align: top;\n",
       "    }\n",
       "\n",
       "    .dataframe thead th {\n",
       "        text-align: right;\n",
       "    }\n",
       "</style>\n",
       "<table border=\"1\" class=\"dataframe\">\n",
       "  <thead>\n",
       "    <tr style=\"text-align: right;\">\n",
       "      <th></th>\n",
       "      <th>final_text</th>\n",
       "    </tr>\n",
       "    <tr>\n",
       "      <th>rating</th>\n",
       "      <th></th>\n",
       "    </tr>\n",
       "  </thead>\n",
       "  <tbody>\n",
       "    <tr>\n",
       "      <th>1.0</th>\n",
       "      <td>40</td>\n",
       "    </tr>\n",
       "    <tr>\n",
       "      <th>2.0</th>\n",
       "      <td>54</td>\n",
       "    </tr>\n",
       "    <tr>\n",
       "      <th>3.0</th>\n",
       "      <td>104</td>\n",
       "    </tr>\n",
       "    <tr>\n",
       "      <th>4.0</th>\n",
       "      <td>333</td>\n",
       "    </tr>\n",
       "    <tr>\n",
       "      <th>5.0</th>\n",
       "      <td>469</td>\n",
       "    </tr>\n",
       "  </tbody>\n",
       "</table>\n",
       "</div>"
      ],
      "text/plain": [
       "        final_text\n",
       "rating            \n",
       "1.0             40\n",
       "2.0             54\n",
       "3.0            104\n",
       "4.0            333\n",
       "5.0            469"
      ]
     },
     "execution_count": 5,
     "metadata": {},
     "output_type": "execute_result"
    }
   ],
   "source": [
    "# visualizing \n",
    "rating_grp_count = restaurant_review_df_cpy.groupby('rating').count() \n",
    "rating_grp_count"
   ]
  },
  {
   "cell_type": "code",
   "execution_count": 6,
   "metadata": {},
   "outputs": [
    {
     "data": {
      "image/png": "[encoded data removed]",
      "text/plain": [
       "<Figure size 300x300 with 1 Axes>"
      ]
     },
     "metadata": {},
     "output_type": "display_data"
    }
   ],
   "source": [
    "#Bar graph plotting\n",
    "plt.figure(figsize=(3,3))\n",
    "sns.barplot(x=rating_grp_count.index, y=rating_grp_count['final_text'])\n",
    "\n",
    "# Add labels and title using matplotlib\n",
    "plt.xlabel('Categories')\n",
    "plt.ylabel('Values')\n",
    "plt.title('Simple Bar Graph with Seaborn')\n",
    "\n",
    "# Display the plot\n",
    "plt.show()"
   ]
  },
  {
   "cell_type": "markdown",
   "metadata": {},
   "source": [
    "We can observe that there is large number of classes for rating of 5 as compared to rating of 1, which results in class imbalance. Thus we need to handle this case for proper prediction. Therefore, we will use Random oversampling method to generate the minority classes samples. We will apply random oversampling after feature engineering method."
   ]
  },
  {
   "cell_type": "markdown",
   "metadata": {},
   "source": [
    "## Exercise 1\n",
    "\n",
    "Systematic analysis of the effectiveness of different text preprocessing techniques"
   ]
  },
  {
   "cell_type": "markdown",
   "metadata": {},
   "source": [
    "### Text Preprocessing Methods Analysis"
   ]
  },
  {
   "cell_type": "markdown",
   "metadata": {},
   "source": [
    "Lowercasing"
   ]
  },
  {
   "cell_type": "code",
   "execution_count": 7,
   "metadata": {},
   "outputs": [
    {
     "data": {
      "text/html": [
       "<div>\n",
       "<style scoped>\n",
       "    .dataframe tbody tr th:only-of-type {\n",
       "        vertical-align: middle;\n",
       "    }\n",
       "\n",
       "    .dataframe tbody tr th {\n",
       "        vertical-align: top;\n",
       "    }\n",
       "\n",
       "    .dataframe thead th {\n",
       "        text-align: right;\n",
       "    }\n",
       "</style>\n",
       "<table border=\"1\" class=\"dataframe\">\n",
       "  <thead>\n",
       "    <tr style=\"text-align: right;\">\n",
       "      <th></th>\n",
       "      <th>final_text</th>\n",
       "      <th>rating</th>\n",
       "      <th>lower_cased</th>\n",
       "    </tr>\n",
       "  </thead>\n",
       "  <tbody>\n",
       "    <tr>\n",
       "      <th>0</th>\n",
       "      <td>Best in Kiel The absolutely best restaurant in the town of Kiel! Nice decor, good space, super charming back-yard, with possibility to dine outdoor, great service, fresh food - I can really recoma...</td>\n",
       "      <td>5.0</td>\n",
       "      <td>best in kiel the absolutely best restaurant in the town of kiel! nice decor, good space, super charming back-yard, with possibility to dine outdoor, great service, fresh food - i can really recoma...</td>\n",
       "    </tr>\n",
       "    <tr>\n",
       "      <th>1</th>\n",
       "      <td>Simply, tasty and very good Tasty and high quality food! A “healthier”way to propose comfort food. The guys are kind and helpful. Bear in mind: cash only payment so far</td>\n",
       "      <td>5.0</td>\n",
       "      <td>simply, tasty and very good tasty and high quality food! a “healthier”way to propose comfort food. the guys are kind and helpful. bear in mind: cash only payment so far</td>\n",
       "    </tr>\n",
       "  </tbody>\n",
       "</table>\n",
       "</div>"
      ],
      "text/plain": [
       "                                                                                                                                                                                                final_text  \\\n",
       "0  Best in Kiel The absolutely best restaurant in the town of Kiel! Nice decor, good space, super charming back-yard, with possibility to dine outdoor, great service, fresh food - I can really recoma...   \n",
       "1                                 Simply, tasty and very good Tasty and high quality food! A “healthier”way to propose comfort food. The guys are kind and helpful. Bear in mind: cash only payment so far   \n",
       "\n",
       "   rating  \\\n",
       "0     5.0   \n",
       "1     5.0   \n",
       "\n",
       "                                                                                                                                                                                               lower_cased  \n",
       "0  best in kiel the absolutely best restaurant in the town of kiel! nice decor, good space, super charming back-yard, with possibility to dine outdoor, great service, fresh food - i can really recoma...  \n",
       "1                                 simply, tasty and very good tasty and high quality food! a “healthier”way to propose comfort food. the guys are kind and helpful. bear in mind: cash only payment so far  "
      ]
     },
     "execution_count": 7,
     "metadata": {},
     "output_type": "execute_result"
    }
   ],
   "source": [
    "# applying lower case for text consistency \n",
    "restaurant_review_df_cpy.loc[:,'lower_cased'] = restaurant_review_df_cpy['final_text'].apply(lambda x : x.lower())\n",
    "restaurant_review_df_cpy.head(2)"
   ]
  },
  {
   "cell_type": "markdown",
   "metadata": {},
   "source": [
    "Cleaning Dataset by removing Punctuation Marks"
   ]
  },
  {
   "cell_type": "code",
   "execution_count": 8,
   "metadata": {},
   "outputs": [
    {
     "data": {
      "text/html": [
       "<div>\n",
       "<style scoped>\n",
       "    .dataframe tbody tr th:only-of-type {\n",
       "        vertical-align: middle;\n",
       "    }\n",
       "\n",
       "    .dataframe tbody tr th {\n",
       "        vertical-align: top;\n",
       "    }\n",
       "\n",
       "    .dataframe thead th {\n",
       "        text-align: right;\n",
       "    }\n",
       "</style>\n",
       "<table border=\"1\" class=\"dataframe\">\n",
       "  <thead>\n",
       "    <tr style=\"text-align: right;\">\n",
       "      <th></th>\n",
       "      <th>final_text</th>\n",
       "      <th>rating</th>\n",
       "      <th>lower_cased</th>\n",
       "      <th>clean_text</th>\n",
       "    </tr>\n",
       "  </thead>\n",
       "  <tbody>\n",
       "    <tr>\n",
       "      <th>0</th>\n",
       "      <td>Best in Kiel The absolutely best restaurant in the town of Kiel! Nice decor, good space, super charming back-yard, with possibility to dine outdoor, great service, fresh food - I can really recoma...</td>\n",
       "      <td>5.0</td>\n",
       "      <td>best in kiel the absolutely best restaurant in the town of kiel! nice decor, good space, super charming back-yard, with possibility to dine outdoor, great service, fresh food - i can really recoma...</td>\n",
       "      <td>best in kiel the absolutely best restaurant in the town of kiel! nice decor good space super charming backyard with possibility to dine outdoor great service fresh food i can really recomand their...</td>\n",
       "    </tr>\n",
       "    <tr>\n",
       "      <th>1</th>\n",
       "      <td>Simply, tasty and very good Tasty and high quality food! A “healthier”way to propose comfort food. The guys are kind and helpful. Bear in mind: cash only payment so far</td>\n",
       "      <td>5.0</td>\n",
       "      <td>simply, tasty and very good tasty and high quality food! a “healthier”way to propose comfort food. the guys are kind and helpful. bear in mind: cash only payment so far</td>\n",
       "      <td>simply tasty and very good tasty and high quality food! a healthierway to propose comfort food the guys are kind and helpful bear in mind cash only payment so far</td>\n",
       "    </tr>\n",
       "  </tbody>\n",
       "</table>\n",
       "</div>"
      ],
      "text/plain": [
       "                                                                                                                                                                                                final_text  \\\n",
       "0  Best in Kiel The absolutely best restaurant in the town of Kiel! Nice decor, good space, super charming back-yard, with possibility to dine outdoor, great service, fresh food - I can really recoma...   \n",
       "1                                 Simply, tasty and very good Tasty and high quality food! A “healthier”way to propose comfort food. The guys are kind and helpful. Bear in mind: cash only payment so far   \n",
       "\n",
       "   rating  \\\n",
       "0     5.0   \n",
       "1     5.0   \n",
       "\n",
       "                                                                                                                                                                                               lower_cased  \\\n",
       "0  best in kiel the absolutely best restaurant in the town of kiel! nice decor, good space, super charming back-yard, with possibility to dine outdoor, great service, fresh food - i can really recoma...   \n",
       "1                                 simply, tasty and very good tasty and high quality food! a “healthier”way to propose comfort food. the guys are kind and helpful. bear in mind: cash only payment so far   \n",
       "\n",
       "                                                                                                                                                                                                clean_text  \n",
       "0  best in kiel the absolutely best restaurant in the town of kiel! nice decor good space super charming backyard with possibility to dine outdoor great service fresh food i can really recomand their...  \n",
       "1                                       simply tasty and very good tasty and high quality food! a healthierway to propose comfort food the guys are kind and helpful bear in mind cash only payment so far  "
      ]
     },
     "execution_count": 8,
     "metadata": {},
     "output_type": "execute_result"
    }
   ],
   "source": [
    "def clean_data(text):\n",
    "    # some punctuations which can convey emptions\n",
    "    retention_list = ['!', '?'] \n",
    "\n",
    "    pattern_punc = r\"[^\\w\\s\" + re.escape(''.join(retention_list)) + r\"]\"\n",
    "\n",
    "    #removing punctuation\n",
    "    result =  re.sub(pattern_punc, '', text)\n",
    "\n",
    "    #removing unnnecessary space\n",
    "    result = re.sub(r'\\s+', ' ', result)\n",
    "\n",
    "    #expanding contractions\n",
    "    result = contractions.fix(result)\n",
    "\n",
    "    #removing html tags \n",
    "    result = re.sub(r'<.*?>', '', result)\n",
    "\n",
    "    return result.strip()\n",
    "\n",
    "\n",
    "restaurant_review_df_cpy.loc[:,\"clean_text\"] = restaurant_review_df_cpy['lower_cased'].apply(clean_data)\n",
    "restaurant_review_df_cpy.head(2)"
   ]
  },
  {
   "cell_type": "markdown",
   "metadata": {},
   "source": [
    "Finding out stop words from our document which are not relevant for analysis of review"
   ]
  },
  {
   "cell_type": "code",
   "execution_count": 10,
   "metadata": {},
   "outputs": [],
   "source": [
    "#using nlp to detect adjective and verbs\n",
    "nlp = spacy.load('en_core_web_md')\n",
    "\n",
    "restaurant_review_df_cpy[\"doc\"] = list(nlp.pipe(restaurant_review_df_cpy['lower_cased']))\n",
    "\n",
    "restaurant_review_df_cpy[\"entites\"] = restaurant_review_df_cpy['doc'].apply(lambda x: [entity.text for entity in x.ents if entity.label_ == \"PERSON\" or entity.label_ == \"ORG\" or entity.label_ == \"GPE\" ])\n",
    "\n",
    "restaurant_review_df_cpy['entites'].values\n",
    "entities = set()\n",
    "\n",
    "for i in restaurant_review_df_cpy['entites']:\n",
    "    for j in i: \n",
    "        entities.add(j)"
   ]
  },
  {
   "cell_type": "markdown",
   "metadata": {},
   "source": [
    "Tokenization and Stop words Removal"
   ]
  },
  {
   "cell_type": "code",
   "execution_count": 11,
   "metadata": {},
   "outputs": [
    {
     "data": {
      "text/html": [
       "<div>\n",
       "<style scoped>\n",
       "    .dataframe tbody tr th:only-of-type {\n",
       "        vertical-align: middle;\n",
       "    }\n",
       "\n",
       "    .dataframe tbody tr th {\n",
       "        vertical-align: top;\n",
       "    }\n",
       "\n",
       "    .dataframe thead th {\n",
       "        text-align: right;\n",
       "    }\n",
       "</style>\n",
       "<table border=\"1\" class=\"dataframe\">\n",
       "  <thead>\n",
       "    <tr style=\"text-align: right;\">\n",
       "      <th></th>\n",
       "      <th>final_text</th>\n",
       "      <th>rating</th>\n",
       "      <th>lower_cased</th>\n",
       "      <th>clean_text</th>\n",
       "      <th>doc</th>\n",
       "      <th>entites</th>\n",
       "      <th>stop_words_removed</th>\n",
       "    </tr>\n",
       "  </thead>\n",
       "  <tbody>\n",
       "    <tr>\n",
       "      <th>0</th>\n",
       "      <td>Best in Kiel The absolutely best restaurant in the town of Kiel! Nice decor, good space, super charming back-yard, with possibility to dine outdoor, great service, fresh food - I can really recoma...</td>\n",
       "      <td>5.0</td>\n",
       "      <td>best in kiel the absolutely best restaurant in the town of kiel! nice decor, good space, super charming back-yard, with possibility to dine outdoor, great service, fresh food - i can really recoma...</td>\n",
       "      <td>best in kiel the absolutely best restaurant in the town of kiel! nice decor good space super charming backyard with possibility to dine outdoor great service fresh food i can really recomand their...</td>\n",
       "      <td>(best, in, kiel, the, absolutely, best, restaurant, in, the, town, of, kiel, !, nice, decor, ,, good, space, ,, super, charming, back, -, yard, ,, with, possibility, to, dine, outdoor, ,, great, s...</td>\n",
       "      <td>[kiel]</td>\n",
       "      <td>best absolutely best restaurant town nice good space super charming possibility dine outdoor great service fresh food really fish absolutely delicious mention best friendly staff next time back</td>\n",
       "    </tr>\n",
       "    <tr>\n",
       "      <th>1</th>\n",
       "      <td>Simply, tasty and very good Tasty and high quality food! A “healthier”way to propose comfort food. The guys are kind and helpful. Bear in mind: cash only payment so far</td>\n",
       "      <td>5.0</td>\n",
       "      <td>simply, tasty and very good tasty and high quality food! a “healthier”way to propose comfort food. the guys are kind and helpful. bear in mind: cash only payment so far</td>\n",
       "      <td>simply tasty and very good tasty and high quality food! a healthierway to propose comfort food the guys are kind and helpful bear in mind cash only payment so far</td>\n",
       "      <td>(simply, ,, tasty, and, very, good, tasty, and, high, quality, food, !, a, “, healthier”way, to, propose, comfort, food, ., the, guys, are, kind, and, helpful, ., bear, in, mind, :, cash, only, pa...</td>\n",
       "      <td>[]</td>\n",
       "      <td>simply tasty good tasty high quality food way propose comfort food kind helpful bear mind cash payment far</td>\n",
       "    </tr>\n",
       "  </tbody>\n",
       "</table>\n",
       "</div>"
      ],
      "text/plain": [
       "                                                                                                                                                                                                final_text  \\\n",
       "0  Best in Kiel The absolutely best restaurant in the town of Kiel! Nice decor, good space, super charming back-yard, with possibility to dine outdoor, great service, fresh food - I can really recoma...   \n",
       "1                                 Simply, tasty and very good Tasty and high quality food! A “healthier”way to propose comfort food. The guys are kind and helpful. Bear in mind: cash only payment so far   \n",
       "\n",
       "   rating  \\\n",
       "0     5.0   \n",
       "1     5.0   \n",
       "\n",
       "                                                                                                                                                                                               lower_cased  \\\n",
       "0  best in kiel the absolutely best restaurant in the town of kiel! nice decor, good space, super charming back-yard, with possibility to dine outdoor, great service, fresh food - i can really recoma...   \n",
       "1                                 simply, tasty and very good tasty and high quality food! a “healthier”way to propose comfort food. the guys are kind and helpful. bear in mind: cash only payment so far   \n",
       "\n",
       "                                                                                                                                                                                                clean_text  \\\n",
       "0  best in kiel the absolutely best restaurant in the town of kiel! nice decor good space super charming backyard with possibility to dine outdoor great service fresh food i can really recomand their...   \n",
       "1                                       simply tasty and very good tasty and high quality food! a healthierway to propose comfort food the guys are kind and helpful bear in mind cash only payment so far   \n",
       "\n",
       "                                                                                                                                                                                                       doc  \\\n",
       "0  (best, in, kiel, the, absolutely, best, restaurant, in, the, town, of, kiel, !, nice, decor, ,, good, space, ,, super, charming, back, -, yard, ,, with, possibility, to, dine, outdoor, ,, great, s...   \n",
       "1  (simply, ,, tasty, and, very, good, tasty, and, high, quality, food, !, a, “, healthier”way, to, propose, comfort, food, ., the, guys, are, kind, and, helpful, ., bear, in, mind, :, cash, only, pa...   \n",
       "\n",
       "  entites  \\\n",
       "0  [kiel]   \n",
       "1      []   \n",
       "\n",
       "                                                                                                                                                                                  stop_words_removed  \n",
       "0  best absolutely best restaurant town nice good space super charming possibility dine outdoor great service fresh food really fish absolutely delicious mention best friendly staff next time back  \n",
       "1                                                                                         simply tasty good tasty high quality food way propose comfort food kind helpful bear mind cash payment far  "
      ]
     },
     "execution_count": 11,
     "metadata": {},
     "output_type": "execute_result"
    }
   ],
   "source": [
    "def remove_stopwords(text):\n",
    "    stop_words = set(stopwords.words('english')) \n",
    "    en_words = set(nltk.corpus.words.words())\n",
    "   \n",
    "#    #updating stop words\n",
    "#     stop_words.update(['restaurant', 'food', 'service', 'experience', \"pizza\", \"burger\", \"sushi\",\"beef\",\"drinks\",\"meat\",\"pasta\",\"cheese\",\"steak\", \"beer\"\n",
    "#                         \"italian\", \"mexican\", \"asian\",\"kiel\",\"germany\",\"hamburg\", \"dish\", \"menu\", \"place\",\"town\", \"cheeseburger\"])\n",
    "    stop_words.update(entities)\n",
    "\n",
    "    tokens = word_tokenize(text)\n",
    "\n",
    "    filtered_words = [token for token in tokens if token not in stop_words and token.isalpha()] \n",
    "\n",
    "    filtered_words = [w for w in filtered_words if w in en_words]\n",
    "\n",
    "    return ' '.join(filtered_words) \n",
    "\n",
    "restaurant_review_df_cpy.loc[:,'stop_words_removed'] = restaurant_review_df_cpy['lower_cased'].apply(remove_stopwords)\n",
    "restaurant_review_df_cpy.head(2)\n"
   ]
  },
  {
   "cell_type": "markdown",
   "metadata": {},
   "source": [
    "Lemmatization"
   ]
  },
  {
   "cell_type": "code",
   "execution_count": 12,
   "metadata": {},
   "outputs": [
    {
     "data": {
      "text/html": [
       "<div>\n",
       "<style scoped>\n",
       "    .dataframe tbody tr th:only-of-type {\n",
       "        vertical-align: middle;\n",
       "    }\n",
       "\n",
       "    .dataframe tbody tr th {\n",
       "        vertical-align: top;\n",
       "    }\n",
       "\n",
       "    .dataframe thead th {\n",
       "        text-align: right;\n",
       "    }\n",
       "</style>\n",
       "<table border=\"1\" class=\"dataframe\">\n",
       "  <thead>\n",
       "    <tr style=\"text-align: right;\">\n",
       "      <th></th>\n",
       "      <th>final_text</th>\n",
       "      <th>rating</th>\n",
       "      <th>lower_cased</th>\n",
       "      <th>clean_text</th>\n",
       "      <th>doc</th>\n",
       "      <th>entites</th>\n",
       "      <th>stop_words_removed</th>\n",
       "      <th>lemmatized_text</th>\n",
       "    </tr>\n",
       "  </thead>\n",
       "  <tbody>\n",
       "    <tr>\n",
       "      <th>0</th>\n",
       "      <td>Best in Kiel The absolutely best restaurant in the town of Kiel! Nice decor, good space, super charming back-yard, with possibility to dine outdoor, great service, fresh food - I can really recoma...</td>\n",
       "      <td>5.0</td>\n",
       "      <td>best in kiel the absolutely best restaurant in the town of kiel! nice decor, good space, super charming back-yard, with possibility to dine outdoor, great service, fresh food - i can really recoma...</td>\n",
       "      <td>best in kiel the absolutely best restaurant in the town of kiel! nice decor good space super charming backyard with possibility to dine outdoor great service fresh food i can really recomand their...</td>\n",
       "      <td>(best, in, kiel, the, absolutely, best, restaurant, in, the, town, of, kiel, !, nice, decor, ,, good, space, ,, super, charming, back, -, yard, ,, with, possibility, to, dine, outdoor, ,, great, s...</td>\n",
       "      <td>[kiel]</td>\n",
       "      <td>best absolutely best restaurant town nice good space super charming possibility dine outdoor great service fresh food really fish absolutely delicious mention best friendly staff next time back</td>\n",
       "      <td>well in kiel the absolutely good restaurant in the town of kiel ! nice decor , good space , super charming back - yard , with possibility to dine outdoor , great service , fresh food - I can reall...</td>\n",
       "    </tr>\n",
       "    <tr>\n",
       "      <th>1</th>\n",
       "      <td>Simply, tasty and very good Tasty and high quality food! A “healthier”way to propose comfort food. The guys are kind and helpful. Bear in mind: cash only payment so far</td>\n",
       "      <td>5.0</td>\n",
       "      <td>simply, tasty and very good tasty and high quality food! a “healthier”way to propose comfort food. the guys are kind and helpful. bear in mind: cash only payment so far</td>\n",
       "      <td>simply tasty and very good tasty and high quality food! a healthierway to propose comfort food the guys are kind and helpful bear in mind cash only payment so far</td>\n",
       "      <td>(simply, ,, tasty, and, very, good, tasty, and, high, quality, food, !, a, “, healthier”way, to, propose, comfort, food, ., the, guys, are, kind, and, helpful, ., bear, in, mind, :, cash, only, pa...</td>\n",
       "      <td>[]</td>\n",
       "      <td>simply tasty good tasty high quality food way propose comfort food kind helpful bear mind cash payment far</td>\n",
       "      <td>simply , tasty and very good tasty and high quality food ! a \" healthier”way to propose comfort food . the guy be kind and helpful . bear in mind : cash only payment so far</td>\n",
       "    </tr>\n",
       "  </tbody>\n",
       "</table>\n",
       "</div>"
      ],
      "text/plain": [
       "                                                                                                                                                                                                final_text  \\\n",
       "0  Best in Kiel The absolutely best restaurant in the town of Kiel! Nice decor, good space, super charming back-yard, with possibility to dine outdoor, great service, fresh food - I can really recoma...   \n",
       "1                                 Simply, tasty and very good Tasty and high quality food! A “healthier”way to propose comfort food. The guys are kind and helpful. Bear in mind: cash only payment so far   \n",
       "\n",
       "   rating  \\\n",
       "0     5.0   \n",
       "1     5.0   \n",
       "\n",
       "                                                                                                                                                                                               lower_cased  \\\n",
       "0  best in kiel the absolutely best restaurant in the town of kiel! nice decor, good space, super charming back-yard, with possibility to dine outdoor, great service, fresh food - i can really recoma...   \n",
       "1                                 simply, tasty and very good tasty and high quality food! a “healthier”way to propose comfort food. the guys are kind and helpful. bear in mind: cash only payment so far   \n",
       "\n",
       "                                                                                                                                                                                                clean_text  \\\n",
       "0  best in kiel the absolutely best restaurant in the town of kiel! nice decor good space super charming backyard with possibility to dine outdoor great service fresh food i can really recomand their...   \n",
       "1                                       simply tasty and very good tasty and high quality food! a healthierway to propose comfort food the guys are kind and helpful bear in mind cash only payment so far   \n",
       "\n",
       "                                                                                                                                                                                                       doc  \\\n",
       "0  (best, in, kiel, the, absolutely, best, restaurant, in, the, town, of, kiel, !, nice, decor, ,, good, space, ,, super, charming, back, -, yard, ,, with, possibility, to, dine, outdoor, ,, great, s...   \n",
       "1  (simply, ,, tasty, and, very, good, tasty, and, high, quality, food, !, a, “, healthier”way, to, propose, comfort, food, ., the, guys, are, kind, and, helpful, ., bear, in, mind, :, cash, only, pa...   \n",
       "\n",
       "  entites  \\\n",
       "0  [kiel]   \n",
       "1      []   \n",
       "\n",
       "                                                                                                                                                                                  stop_words_removed  \\\n",
       "0  best absolutely best restaurant town nice good space super charming possibility dine outdoor great service fresh food really fish absolutely delicious mention best friendly staff next time back   \n",
       "1                                                                                         simply tasty good tasty high quality food way propose comfort food kind helpful bear mind cash payment far   \n",
       "\n",
       "                                                                                                                                                                                           lemmatized_text  \n",
       "0  well in kiel the absolutely good restaurant in the town of kiel ! nice decor , good space , super charming back - yard , with possibility to dine outdoor , great service , fresh food - I can reall...  \n",
       "1                             simply , tasty and very good tasty and high quality food ! a \" healthier”way to propose comfort food . the guy be kind and helpful . bear in mind : cash only payment so far  "
      ]
     },
     "execution_count": 12,
     "metadata": {},
     "output_type": "execute_result"
    }
   ],
   "source": [
    "def lemmatize_text(text):\n",
    "    lemmatized_text = ' '.join([token.lemma_ for token in text])\n",
    "    return lemmatized_text\n",
    "\n",
    "restaurant_review_df_cpy['lemmatized_text'] = restaurant_review_df_cpy['doc'].apply(lemmatize_text)\n",
    "restaurant_review_df_cpy.head(2)"
   ]
  },
  {
   "cell_type": "markdown",
   "metadata": {},
   "source": [
    "Stemming"
   ]
  },
  {
   "cell_type": "code",
   "execution_count": 13,
   "metadata": {},
   "outputs": [
    {
     "data": {
      "text/html": [
       "<div>\n",
       "<style scoped>\n",
       "    .dataframe tbody tr th:only-of-type {\n",
       "        vertical-align: middle;\n",
       "    }\n",
       "\n",
       "    .dataframe tbody tr th {\n",
       "        vertical-align: top;\n",
       "    }\n",
       "\n",
       "    .dataframe thead th {\n",
       "        text-align: right;\n",
       "    }\n",
       "</style>\n",
       "<table border=\"1\" class=\"dataframe\">\n",
       "  <thead>\n",
       "    <tr style=\"text-align: right;\">\n",
       "      <th></th>\n",
       "      <th>final_text</th>\n",
       "      <th>rating</th>\n",
       "      <th>lower_cased</th>\n",
       "      <th>clean_text</th>\n",
       "      <th>doc</th>\n",
       "      <th>entites</th>\n",
       "      <th>stop_words_removed</th>\n",
       "      <th>lemmatized_text</th>\n",
       "      <th>stemmed_text</th>\n",
       "    </tr>\n",
       "  </thead>\n",
       "  <tbody>\n",
       "    <tr>\n",
       "      <th>0</th>\n",
       "      <td>Best in Kiel The absolutely best restaurant in the town of Kiel! Nice decor, good space, super charming back-yard, with possibility to dine outdoor, great service, fresh food - I can really recoma...</td>\n",
       "      <td>5.0</td>\n",
       "      <td>best in kiel the absolutely best restaurant in the town of kiel! nice decor, good space, super charming back-yard, with possibility to dine outdoor, great service, fresh food - i can really recoma...</td>\n",
       "      <td>best in kiel the absolutely best restaurant in the town of kiel! nice decor good space super charming backyard with possibility to dine outdoor great service fresh food i can really recomand their...</td>\n",
       "      <td>(best, in, kiel, the, absolutely, best, restaurant, in, the, town, of, kiel, !, nice, decor, ,, good, space, ,, super, charming, back, -, yard, ,, with, possibility, to, dine, outdoor, ,, great, s...</td>\n",
       "      <td>[kiel]</td>\n",
       "      <td>best absolutely best restaurant town nice good space super charming possibility dine outdoor great service fresh food really fish absolutely delicious mention best friendly staff next time back</td>\n",
       "      <td>well in kiel the absolutely good restaurant in the town of kiel ! nice decor , good space , super charming back - yard , with possibility to dine outdoor , great service , fresh food - I can reall...</td>\n",
       "      <td>best in kiel the absolut best restaur in the town of kiel ! nice decor , good space , super charm back-yard , with possibl to dine outdoor , great servic , fresh food - i can realli recomand their...</td>\n",
       "    </tr>\n",
       "    <tr>\n",
       "      <th>1</th>\n",
       "      <td>Simply, tasty and very good Tasty and high quality food! A “healthier”way to propose comfort food. The guys are kind and helpful. Bear in mind: cash only payment so far</td>\n",
       "      <td>5.0</td>\n",
       "      <td>simply, tasty and very good tasty and high quality food! a “healthier”way to propose comfort food. the guys are kind and helpful. bear in mind: cash only payment so far</td>\n",
       "      <td>simply tasty and very good tasty and high quality food! a healthierway to propose comfort food the guys are kind and helpful bear in mind cash only payment so far</td>\n",
       "      <td>(simply, ,, tasty, and, very, good, tasty, and, high, quality, food, !, a, “, healthier”way, to, propose, comfort, food, ., the, guys, are, kind, and, helpful, ., bear, in, mind, :, cash, only, pa...</td>\n",
       "      <td>[]</td>\n",
       "      <td>simply tasty good tasty high quality food way propose comfort food kind helpful bear mind cash payment far</td>\n",
       "      <td>simply , tasty and very good tasty and high quality food ! a \" healthier”way to propose comfort food . the guy be kind and helpful . bear in mind : cash only payment so far</td>\n",
       "      <td>simpli , tasti and veri good tasti and high qualiti food ! a “ healthier ” way to propos comfort food . the guy are kind and help . bear in mind : cash onli payment so far</td>\n",
       "    </tr>\n",
       "  </tbody>\n",
       "</table>\n",
       "</div>"
      ],
      "text/plain": [
       "                                                                                                                                                                                                final_text  \\\n",
       "0  Best in Kiel The absolutely best restaurant in the town of Kiel! Nice decor, good space, super charming back-yard, with possibility to dine outdoor, great service, fresh food - I can really recoma...   \n",
       "1                                 Simply, tasty and very good Tasty and high quality food! A “healthier”way to propose comfort food. The guys are kind and helpful. Bear in mind: cash only payment so far   \n",
       "\n",
       "   rating  \\\n",
       "0     5.0   \n",
       "1     5.0   \n",
       "\n",
       "                                                                                                                                                                                               lower_cased  \\\n",
       "0  best in kiel the absolutely best restaurant in the town of kiel! nice decor, good space, super charming back-yard, with possibility to dine outdoor, great service, fresh food - i can really recoma...   \n",
       "1                                 simply, tasty and very good tasty and high quality food! a “healthier”way to propose comfort food. the guys are kind and helpful. bear in mind: cash only payment so far   \n",
       "\n",
       "                                                                                                                                                                                                clean_text  \\\n",
       "0  best in kiel the absolutely best restaurant in the town of kiel! nice decor good space super charming backyard with possibility to dine outdoor great service fresh food i can really recomand their...   \n",
       "1                                       simply tasty and very good tasty and high quality food! a healthierway to propose comfort food the guys are kind and helpful bear in mind cash only payment so far   \n",
       "\n",
       "                                                                                                                                                                                                       doc  \\\n",
       "0  (best, in, kiel, the, absolutely, best, restaurant, in, the, town, of, kiel, !, nice, decor, ,, good, space, ,, super, charming, back, -, yard, ,, with, possibility, to, dine, outdoor, ,, great, s...   \n",
       "1  (simply, ,, tasty, and, very, good, tasty, and, high, quality, food, !, a, “, healthier”way, to, propose, comfort, food, ., the, guys, are, kind, and, helpful, ., bear, in, mind, :, cash, only, pa...   \n",
       "\n",
       "  entites  \\\n",
       "0  [kiel]   \n",
       "1      []   \n",
       "\n",
       "                                                                                                                                                                                  stop_words_removed  \\\n",
       "0  best absolutely best restaurant town nice good space super charming possibility dine outdoor great service fresh food really fish absolutely delicious mention best friendly staff next time back   \n",
       "1                                                                                         simply tasty good tasty high quality food way propose comfort food kind helpful bear mind cash payment far   \n",
       "\n",
       "                                                                                                                                                                                           lemmatized_text  \\\n",
       "0  well in kiel the absolutely good restaurant in the town of kiel ! nice decor , good space , super charming back - yard , with possibility to dine outdoor , great service , fresh food - I can reall...   \n",
       "1                             simply , tasty and very good tasty and high quality food ! a \" healthier”way to propose comfort food . the guy be kind and helpful . bear in mind : cash only payment so far   \n",
       "\n",
       "                                                                                                                                                                                              stemmed_text  \n",
       "0  best in kiel the absolut best restaur in the town of kiel ! nice decor , good space , super charm back-yard , with possibl to dine outdoor , great servic , fresh food - i can realli recomand their...  \n",
       "1                              simpli , tasti and veri good tasti and high qualiti food ! a “ healthier ” way to propos comfort food . the guy are kind and help . bear in mind : cash onli payment so far  "
      ]
     },
     "execution_count": 13,
     "metadata": {},
     "output_type": "execute_result"
    }
   ],
   "source": [
    "# Provide an example sentence that highlights the differences between the three stemmers (Porter, Snowball, Lancaster)\n",
    "def stemming(text):\n",
    "    tokens = word_tokenize(text)\n",
    "    filtered_words = [PorterStemmer().stem(token) for token in tokens]\n",
    "    return ' '.join(filtered_words) \n",
    "\n",
    "restaurant_review_df_cpy['stemmed_text'] = restaurant_review_df_cpy['lower_cased'].apply(stemming)\n",
    "restaurant_review_df_cpy.head(2)"
   ]
  },
  {
   "cell_type": "markdown",
   "metadata": {},
   "source": [
    "Here we have done the various methods of text preprocessing, we will move forward to apply this in ML Algo and check which method or combination of suits best with highest accuracy score."
   ]
  },
  {
   "cell_type": "markdown",
   "metadata": {},
   "source": [
    "### Testing Model on different Text preprocessing Methods"
   ]
  },
  {
   "cell_type": "code",
   "execution_count": 14,
   "metadata": {},
   "outputs": [],
   "source": [
    "#data splitting\n",
    "def splitting_text_preprocessing(X,y, name_of_preprocessing, stratify):\n",
    "    X_train, X_test, y_train, y_test = train_test_split(X, y, test_size=0.2, random_state=42, stratify=stratify)\n",
    "    return   X_train, X_test, y_train, y_test, name_of_preprocessing"
   ]
  },
  {
   "cell_type": "markdown",
   "metadata": {},
   "source": [
    "### Feature Engineering Methods"
   ]
  },
  {
   "cell_type": "code",
   "execution_count": 15,
   "metadata": {},
   "outputs": [],
   "source": [
    "def bag_of_words(X_train, X_test): \n",
    "    vectorizer = CountVectorizer()\n",
    "    X_train = vectorizer.fit_transform(X_train)\n",
    "    X_test = vectorizer.transform(X_test)\n",
    "    return X_train, X_test, vectorizer\n",
    "\n",
    "def tf_idf(X_train, X_test):\n",
    "    vectorizer = TfidfVectorizer(max_features=1000, stop_words='english')\n",
    "    X_train = vectorizer.fit_transform(X_train)\n",
    "    X_test = vectorizer.transform(X_test)\n",
    "    return X_train, X_test, vectorizer\n",
    "\n",
    "#Taking two consecutive words\n",
    "def bag_of_2grams(X_train, X_test):\n",
    "    vectorizer = CountVectorizer(ngram_range=(2, 2))\n",
    "    X_train = vectorizer.fit_transform(X_train)\n",
    "    X_test = vectorizer.transform(X_test)\n",
    "    return X_train, X_test, vectorizer\n"
   ]
  },
  {
   "cell_type": "markdown",
   "metadata": {},
   "source": [
    "### Baseline Model"
   ]
  },
  {
   "cell_type": "code",
   "execution_count": 16,
   "metadata": {},
   "outputs": [],
   "source": [
    "#Random Forest Classifier\n",
    "def baseline_model(X_train, X_test, y_train): \n",
    "    clf = RandomForestClassifier(n_estimators=1000, random_state=42)\n",
    "    clf.fit(X_train, y_train)\n",
    "    y_pred = clf.predict(X_test)\n",
    "    return y_pred"
   ]
  },
  {
   "cell_type": "markdown",
   "metadata": {},
   "source": [
    "### Model Evalutation"
   ]
  },
  {
   "cell_type": "code",
   "execution_count": 17,
   "metadata": {},
   "outputs": [],
   "source": [
    "df_evalutation = pd.DataFrame()\n",
    "def eval(y_true, y_pred, name_of_preprocessing, df_evalutation):\n",
    "    df_evalutation = pd.concat([df_evalutation, pd.DataFrame([{\n",
    "        'text_preprocessing_method': name_of_preprocessing,\n",
    "        'accuracy': accuracy_score(y_true, y_pred),\n",
    "        'precision_macro': precision_score(y_true, y_pred, average='macro'),\n",
    "        'recall_macro': recall_score(y_true, y_pred, average='macro'),\n",
    "        'f1_macro': f1_score(y_true, y_pred, average='macro'),\n",
    "        'balanced_accuracy': balanced_accuracy_score(y_true, y_pred)\n",
    "    }]) ], ignore_index=True)\n",
    "   \n",
    "    return df_evalutation"
   ]
  },
  {
   "cell_type": "markdown",
   "metadata": {},
   "source": [
    "Cleaned Text Analysis"
   ]
  },
  {
   "cell_type": "code",
   "execution_count": 19,
   "metadata": {},
   "outputs": [
    {
     "data": {
      "text/html": [
       "<div>\n",
       "<style scoped>\n",
       "    .dataframe tbody tr th:only-of-type {\n",
       "        vertical-align: middle;\n",
       "    }\n",
       "\n",
       "    .dataframe tbody tr th {\n",
       "        vertical-align: top;\n",
       "    }\n",
       "\n",
       "    .dataframe thead th {\n",
       "        text-align: right;\n",
       "    }\n",
       "</style>\n",
       "<table border=\"1\" class=\"dataframe\">\n",
       "  <thead>\n",
       "    <tr style=\"text-align: right;\">\n",
       "      <th></th>\n",
       "      <th>text_preprocessing_method</th>\n",
       "      <th>accuracy</th>\n",
       "      <th>precision_macro</th>\n",
       "      <th>recall_macro</th>\n",
       "      <th>f1_macro</th>\n",
       "      <th>balanced_accuracy</th>\n",
       "    </tr>\n",
       "  </thead>\n",
       "  <tbody>\n",
       "    <tr>\n",
       "      <th>0</th>\n",
       "      <td>cleaned_text_only</td>\n",
       "      <td>0.625</td>\n",
       "      <td>0.77434</td>\n",
       "      <td>0.393806</td>\n",
       "      <td>0.436889</td>\n",
       "      <td>0.393806</td>\n",
       "    </tr>\n",
       "  </tbody>\n",
       "</table>\n",
       "</div>"
      ],
      "text/plain": [
       "  text_preprocessing_method  accuracy  precision_macro  recall_macro  \\\n",
       "0         cleaned_text_only     0.625          0.77434      0.393806   \n",
       "\n",
       "   f1_macro  balanced_accuracy  \n",
       "0  0.436889           0.393806  "
      ]
     },
     "execution_count": 19,
     "metadata": {},
     "output_type": "execute_result"
    }
   ],
   "source": [
    "# testing with only clean text \n",
    "X_train, X_test, y_train, y_test,name_of_preprocessing = splitting_text_preprocessing( X=restaurant_review_df_cpy['clean_text'],y=restaurant_review_df_cpy['rating'], \n",
    "                                                                                       name_of_preprocessing= 'cleaned_text_only' ,stratify=restaurant_review_df_cpy['rating'])\n",
    "\n",
    "#applying bag of words\n",
    "X_train, X_test, bag_of_words_vectorizer = bag_of_words(X_train= X_train, X_test= X_test)\n",
    "\n",
    "#oversampling \n",
    "ros = RandomOverSampler(random_state=0)\n",
    "\n",
    "# resampled training data\n",
    "X_train_resampled, y_train_resampled = ros.fit_resample(X_train, y_train)\n",
    "\n",
    "#applying model\n",
    "y_pred = baseline_model(X_train=X_train_resampled, X_test=X_test, y_train=y_train_resampled)\n",
    "\n",
    "#Evaluating model\n",
    "df_evalutation = eval(y_true=y_test, y_pred=y_pred,name_of_preprocessing=name_of_preprocessing, df_evalutation=df_evalutation)\n",
    "df_evalutation"
   ]
  },
  {
   "cell_type": "markdown",
   "metadata": {},
   "source": [
    "No Cleaning and using Stop Words removal text analysis"
   ]
  },
  {
   "cell_type": "code",
   "execution_count": 20,
   "metadata": {},
   "outputs": [
    {
     "data": {
      "text/html": [
       "<div>\n",
       "<style scoped>\n",
       "    .dataframe tbody tr th:only-of-type {\n",
       "        vertical-align: middle;\n",
       "    }\n",
       "\n",
       "    .dataframe tbody tr th {\n",
       "        vertical-align: top;\n",
       "    }\n",
       "\n",
       "    .dataframe thead th {\n",
       "        text-align: right;\n",
       "    }\n",
       "</style>\n",
       "<table border=\"1\" class=\"dataframe\">\n",
       "  <thead>\n",
       "    <tr style=\"text-align: right;\">\n",
       "      <th></th>\n",
       "      <th>text_preprocessing_method</th>\n",
       "      <th>accuracy</th>\n",
       "      <th>precision_macro</th>\n",
       "      <th>recall_macro</th>\n",
       "      <th>f1_macro</th>\n",
       "      <th>balanced_accuracy</th>\n",
       "    </tr>\n",
       "  </thead>\n",
       "  <tbody>\n",
       "    <tr>\n",
       "      <th>0</th>\n",
       "      <td>cleaned_text_only</td>\n",
       "      <td>0.625</td>\n",
       "      <td>0.774340</td>\n",
       "      <td>0.393806</td>\n",
       "      <td>0.436889</td>\n",
       "      <td>0.393806</td>\n",
       "    </tr>\n",
       "    <tr>\n",
       "      <th>1</th>\n",
       "      <td>stop_word_removal_only</td>\n",
       "      <td>0.655</td>\n",
       "      <td>0.794137</td>\n",
       "      <td>0.500444</td>\n",
       "      <td>0.539084</td>\n",
       "      <td>0.500444</td>\n",
       "    </tr>\n",
       "  </tbody>\n",
       "</table>\n",
       "</div>"
      ],
      "text/plain": [
       "  text_preprocessing_method  accuracy  precision_macro  recall_macro  \\\n",
       "0         cleaned_text_only     0.625         0.774340      0.393806   \n",
       "1    stop_word_removal_only     0.655         0.794137      0.500444   \n",
       "\n",
       "   f1_macro  balanced_accuracy  \n",
       "0  0.436889           0.393806  \n",
       "1  0.539084           0.500444  "
      ]
     },
     "execution_count": 20,
     "metadata": {},
     "output_type": "execute_result"
    }
   ],
   "source": [
    "# testing with stop words removal\n",
    "X_train, X_test, y_train, y_test,name_of_preprocessing = splitting_text_preprocessing( X=restaurant_review_df_cpy['stop_words_removed'],y=restaurant_review_df_cpy['rating'],\n",
    "                                                                                       name_of_preprocessing= 'stop_word_removal_only' ,stratify=restaurant_review_df_cpy['rating'])\n",
    "\n",
    "#applying bag of words\n",
    "X_train, X_test, bag_of_words_vectorizer  = bag_of_words(X_train= X_train, X_test= X_test)\n",
    "\n",
    "#oversampling \n",
    "ros = RandomOverSampler(random_state=0)\n",
    "\n",
    "# resampled training data\n",
    "X_train_resampled, y_train_resampled = ros.fit_resample(X_train, y_train)\n",
    "\n",
    "#applying model\n",
    "y_pred = baseline_model(X_train=X_train_resampled, X_test=X_test, y_train=y_train_resampled)\n",
    "\n",
    "#Evaluating model\n",
    "df_evalutation = eval(y_true=y_test, y_pred=y_pred,name_of_preprocessing=name_of_preprocessing, df_evalutation=df_evalutation)\n",
    "df_evalutation"
   ]
  },
  {
   "cell_type": "markdown",
   "metadata": {},
   "source": [
    "No Cleaning and using Stemming text analysis"
   ]
  },
  {
   "cell_type": "code",
   "execution_count": 21,
   "metadata": {},
   "outputs": [
    {
     "data": {
      "text/html": [
       "<div>\n",
       "<style scoped>\n",
       "    .dataframe tbody tr th:only-of-type {\n",
       "        vertical-align: middle;\n",
       "    }\n",
       "\n",
       "    .dataframe tbody tr th {\n",
       "        vertical-align: top;\n",
       "    }\n",
       "\n",
       "    .dataframe thead th {\n",
       "        text-align: right;\n",
       "    }\n",
       "</style>\n",
       "<table border=\"1\" class=\"dataframe\">\n",
       "  <thead>\n",
       "    <tr style=\"text-align: right;\">\n",
       "      <th></th>\n",
       "      <th>text_preprocessing_method</th>\n",
       "      <th>accuracy</th>\n",
       "      <th>precision_macro</th>\n",
       "      <th>recall_macro</th>\n",
       "      <th>f1_macro</th>\n",
       "      <th>balanced_accuracy</th>\n",
       "    </tr>\n",
       "  </thead>\n",
       "  <tbody>\n",
       "    <tr>\n",
       "      <th>0</th>\n",
       "      <td>cleaned_text_only</td>\n",
       "      <td>0.625</td>\n",
       "      <td>0.774340</td>\n",
       "      <td>0.393806</td>\n",
       "      <td>0.436889</td>\n",
       "      <td>0.393806</td>\n",
       "    </tr>\n",
       "    <tr>\n",
       "      <th>1</th>\n",
       "      <td>stop_word_removal_only</td>\n",
       "      <td>0.655</td>\n",
       "      <td>0.794137</td>\n",
       "      <td>0.500444</td>\n",
       "      <td>0.539084</td>\n",
       "      <td>0.500444</td>\n",
       "    </tr>\n",
       "    <tr>\n",
       "      <th>2</th>\n",
       "      <td>stemmed_text_only</td>\n",
       "      <td>0.635</td>\n",
       "      <td>0.777619</td>\n",
       "      <td>0.398061</td>\n",
       "      <td>0.440592</td>\n",
       "      <td>0.398061</td>\n",
       "    </tr>\n",
       "  </tbody>\n",
       "</table>\n",
       "</div>"
      ],
      "text/plain": [
       "  text_preprocessing_method  accuracy  precision_macro  recall_macro  \\\n",
       "0         cleaned_text_only     0.625         0.774340      0.393806   \n",
       "1    stop_word_removal_only     0.655         0.794137      0.500444   \n",
       "2         stemmed_text_only     0.635         0.777619      0.398061   \n",
       "\n",
       "   f1_macro  balanced_accuracy  \n",
       "0  0.436889           0.393806  \n",
       "1  0.539084           0.500444  \n",
       "2  0.440592           0.398061  "
      ]
     },
     "execution_count": 21,
     "metadata": {},
     "output_type": "execute_result"
    }
   ],
   "source": [
    "# testing with stemmed text\n",
    "X_train, X_test, y_train, y_test,name_of_preprocessing = splitting_text_preprocessing(X= restaurant_review_df_cpy['stemmed_text'],y=restaurant_review_df_cpy['rating'],\n",
    "                                                                                      name_of_preprocessing= 'stemmed_text_only' ,stratify=restaurant_review_df_cpy['rating'] )\n",
    "\n",
    "#applying bag of words\n",
    "X_train, X_test, bag_of_words_vectorizer  = bag_of_words(X_train= X_train, X_test= X_test)\n",
    "\n",
    "#oversampling \n",
    "ros = RandomOverSampler(random_state=0)\n",
    "\n",
    "# resampled training data\n",
    "X_train_resampled, y_train_resampled = ros.fit_resample(X_train, y_train)\n",
    "\n",
    "#applying model\n",
    "y_pred = baseline_model(X_train=X_train_resampled, X_test=X_test, y_train=y_train_resampled)\n",
    "\n",
    "#Evaluating model\n",
    "df_evalutation = eval(y_true=y_test, y_pred=y_pred,name_of_preprocessing=name_of_preprocessing, df_evalutation=df_evalutation)\n",
    "df_evalutation"
   ]
  },
  {
   "cell_type": "markdown",
   "metadata": {},
   "source": [
    "No Cleaning and using Lemmatization text analysis"
   ]
  },
  {
   "cell_type": "code",
   "execution_count": 23,
   "metadata": {},
   "outputs": [
    {
     "data": {
      "text/html": [
       "<div>\n",
       "<style scoped>\n",
       "    .dataframe tbody tr th:only-of-type {\n",
       "        vertical-align: middle;\n",
       "    }\n",
       "\n",
       "    .dataframe tbody tr th {\n",
       "        vertical-align: top;\n",
       "    }\n",
       "\n",
       "    .dataframe thead th {\n",
       "        text-align: right;\n",
       "    }\n",
       "</style>\n",
       "<table border=\"1\" class=\"dataframe\">\n",
       "  <thead>\n",
       "    <tr style=\"text-align: right;\">\n",
       "      <th></th>\n",
       "      <th>text_preprocessing_method</th>\n",
       "      <th>accuracy</th>\n",
       "      <th>precision_macro</th>\n",
       "      <th>recall_macro</th>\n",
       "      <th>f1_macro</th>\n",
       "      <th>balanced_accuracy</th>\n",
       "    </tr>\n",
       "  </thead>\n",
       "  <tbody>\n",
       "    <tr>\n",
       "      <th>0</th>\n",
       "      <td>cleaned_text_only</td>\n",
       "      <td>0.625</td>\n",
       "      <td>0.774340</td>\n",
       "      <td>0.393806</td>\n",
       "      <td>0.436889</td>\n",
       "      <td>0.393806</td>\n",
       "    </tr>\n",
       "    <tr>\n",
       "      <th>1</th>\n",
       "      <td>stop_word_removal_only</td>\n",
       "      <td>0.655</td>\n",
       "      <td>0.794137</td>\n",
       "      <td>0.500444</td>\n",
       "      <td>0.539084</td>\n",
       "      <td>0.500444</td>\n",
       "    </tr>\n",
       "    <tr>\n",
       "      <th>2</th>\n",
       "      <td>stemmed_text_only</td>\n",
       "      <td>0.635</td>\n",
       "      <td>0.777619</td>\n",
       "      <td>0.398061</td>\n",
       "      <td>0.440592</td>\n",
       "      <td>0.398061</td>\n",
       "    </tr>\n",
       "    <tr>\n",
       "      <th>3</th>\n",
       "      <td>lemmatized_text_only</td>\n",
       "      <td>0.615</td>\n",
       "      <td>0.733284</td>\n",
       "      <td>0.414403</td>\n",
       "      <td>0.460168</td>\n",
       "      <td>0.414403</td>\n",
       "    </tr>\n",
       "  </tbody>\n",
       "</table>\n",
       "</div>"
      ],
      "text/plain": [
       "  text_preprocessing_method  accuracy  precision_macro  recall_macro  \\\n",
       "0         cleaned_text_only     0.625         0.774340      0.393806   \n",
       "1    stop_word_removal_only     0.655         0.794137      0.500444   \n",
       "2         stemmed_text_only     0.635         0.777619      0.398061   \n",
       "3      lemmatized_text_only     0.615         0.733284      0.414403   \n",
       "\n",
       "   f1_macro  balanced_accuracy  \n",
       "0  0.436889           0.393806  \n",
       "1  0.539084           0.500444  \n",
       "2  0.440592           0.398061  \n",
       "3  0.460168           0.414403  "
      ]
     },
     "execution_count": 23,
     "metadata": {},
     "output_type": "execute_result"
    }
   ],
   "source": [
    "# testing with lemmatized text\n",
    "X_train, X_test, y_train, y_test,name_of_preprocessing = splitting_text_preprocessing(X= restaurant_review_df_cpy['lemmatized_text'],y=restaurant_review_df_cpy['rating'], \n",
    "                                                                                      name_of_preprocessing= 'lemmatized_text_only' ,stratify=restaurant_review_df_cpy['rating'])\n",
    "\n",
    "#applying bag of words\n",
    "X_train, X_test, bag_of_words_vectorizer  = bag_of_words(X_train= X_train, X_test= X_test)\n",
    "\n",
    "#oversampling \n",
    "ros = RandomOverSampler(random_state=0)\n",
    "\n",
    "# resampled training data\n",
    "X_train_resampled, y_train_resampled = ros.fit_resample(X_train, y_train)\n",
    "\n",
    "#applying model\n",
    "y_pred = baseline_model(X_train=X_train_resampled, X_test=X_test, y_train=y_train_resampled)\n",
    "\n",
    "#Evaluating model\n",
    "df_evalutation = eval(y_true=y_test, y_pred=y_pred,name_of_preprocessing=name_of_preprocessing, df_evalutation=df_evalutation)\n",
    "df_evalutation"
   ]
  },
  {
   "cell_type": "markdown",
   "metadata": {},
   "source": [
    "Combination of Cleaning, Stop word Removal and Stemming"
   ]
  },
  {
   "cell_type": "code",
   "execution_count": 25,
   "metadata": {},
   "outputs": [
    {
     "data": {
      "text/html": [
       "<div>\n",
       "<style scoped>\n",
       "    .dataframe tbody tr th:only-of-type {\n",
       "        vertical-align: middle;\n",
       "    }\n",
       "\n",
       "    .dataframe tbody tr th {\n",
       "        vertical-align: top;\n",
       "    }\n",
       "\n",
       "    .dataframe thead th {\n",
       "        text-align: right;\n",
       "    }\n",
       "</style>\n",
       "<table border=\"1\" class=\"dataframe\">\n",
       "  <thead>\n",
       "    <tr style=\"text-align: right;\">\n",
       "      <th></th>\n",
       "      <th>text_preprocessing_method</th>\n",
       "      <th>accuracy</th>\n",
       "      <th>precision_macro</th>\n",
       "      <th>recall_macro</th>\n",
       "      <th>f1_macro</th>\n",
       "      <th>balanced_accuracy</th>\n",
       "    </tr>\n",
       "  </thead>\n",
       "  <tbody>\n",
       "    <tr>\n",
       "      <th>0</th>\n",
       "      <td>cleaned_text_only</td>\n",
       "      <td>0.625</td>\n",
       "      <td>0.774340</td>\n",
       "      <td>0.393806</td>\n",
       "      <td>0.436889</td>\n",
       "      <td>0.393806</td>\n",
       "    </tr>\n",
       "    <tr>\n",
       "      <th>1</th>\n",
       "      <td>stop_word_removal_only</td>\n",
       "      <td>0.655</td>\n",
       "      <td>0.794137</td>\n",
       "      <td>0.500444</td>\n",
       "      <td>0.539084</td>\n",
       "      <td>0.500444</td>\n",
       "    </tr>\n",
       "    <tr>\n",
       "      <th>2</th>\n",
       "      <td>stemmed_text_only</td>\n",
       "      <td>0.635</td>\n",
       "      <td>0.777619</td>\n",
       "      <td>0.398061</td>\n",
       "      <td>0.440592</td>\n",
       "      <td>0.398061</td>\n",
       "    </tr>\n",
       "    <tr>\n",
       "      <th>3</th>\n",
       "      <td>lemmatized_text_only</td>\n",
       "      <td>0.615</td>\n",
       "      <td>0.733284</td>\n",
       "      <td>0.414403</td>\n",
       "      <td>0.460168</td>\n",
       "      <td>0.414403</td>\n",
       "    </tr>\n",
       "    <tr>\n",
       "      <th>4</th>\n",
       "      <td>cleaned_stop_stemm</td>\n",
       "      <td>0.615</td>\n",
       "      <td>0.754808</td>\n",
       "      <td>0.433165</td>\n",
       "      <td>0.480601</td>\n",
       "      <td>0.433165</td>\n",
       "    </tr>\n",
       "  </tbody>\n",
       "</table>\n",
       "</div>"
      ],
      "text/plain": [
       "  text_preprocessing_method  accuracy  precision_macro  recall_macro  \\\n",
       "0         cleaned_text_only     0.625         0.774340      0.393806   \n",
       "1    stop_word_removal_only     0.655         0.794137      0.500444   \n",
       "2         stemmed_text_only     0.635         0.777619      0.398061   \n",
       "3      lemmatized_text_only     0.615         0.733284      0.414403   \n",
       "4        cleaned_stop_stemm     0.615         0.754808      0.433165   \n",
       "\n",
       "   f1_macro  balanced_accuracy  \n",
       "0  0.436889           0.393806  \n",
       "1  0.539084           0.500444  \n",
       "2  0.440592           0.398061  \n",
       "3  0.460168           0.414403  \n",
       "4  0.480601           0.433165  "
      ]
     },
     "execution_count": 25,
     "metadata": {},
     "output_type": "execute_result"
    }
   ],
   "source": [
    "def clean_stop_stemm(text): \n",
    "    #removing stop words\n",
    "    result = remove_stopwords(text)\n",
    "    #stemming\n",
    "    result = stemming(result)\n",
    "\n",
    "    return result\n",
    "\n",
    "restaurant_review_df_cpy.loc[:, 'cleaned_stop_stemm'] = restaurant_review_df_cpy['clean_text'].apply(clean_stop_stemm)\n",
    "\n",
    "X_train, X_test, y_train, y_test,name_of_preprocessing = splitting_text_preprocessing( X=restaurant_review_df_cpy['cleaned_stop_stemm'],y=restaurant_review_df_cpy['rating'], name_of_preprocessing= 'cleaned_stop_stemm' ,stratify=restaurant_review_df_cpy['rating'])\n",
    "X_train, X_test,  bag_of_words_vectorizer  = bag_of_words(X_train= X_train, X_test= X_test)\n",
    "X_train_resampled, y_train_resampled = ros.fit_resample(X_train, y_train)\n",
    "y_pred = baseline_model(X_train=X_train_resampled, X_test=X_test, y_train=y_train_resampled)\n",
    "df_evalutation = eval(y_true=y_test, y_pred=y_pred,name_of_preprocessing=name_of_preprocessing, df_evalutation=df_evalutation)\n",
    "df_evalutation"
   ]
  },
  {
   "cell_type": "markdown",
   "metadata": {},
   "source": [
    "Combination of Cleaning and Stopwords removal"
   ]
  },
  {
   "cell_type": "code",
   "execution_count": 26,
   "metadata": {},
   "outputs": [
    {
     "data": {
      "text/html": [
       "<div>\n",
       "<style scoped>\n",
       "    .dataframe tbody tr th:only-of-type {\n",
       "        vertical-align: middle;\n",
       "    }\n",
       "\n",
       "    .dataframe tbody tr th {\n",
       "        vertical-align: top;\n",
       "    }\n",
       "\n",
       "    .dataframe thead th {\n",
       "        text-align: right;\n",
       "    }\n",
       "</style>\n",
       "<table border=\"1\" class=\"dataframe\">\n",
       "  <thead>\n",
       "    <tr style=\"text-align: right;\">\n",
       "      <th></th>\n",
       "      <th>text_preprocessing_method</th>\n",
       "      <th>accuracy</th>\n",
       "      <th>precision_macro</th>\n",
       "      <th>recall_macro</th>\n",
       "      <th>f1_macro</th>\n",
       "      <th>balanced_accuracy</th>\n",
       "    </tr>\n",
       "  </thead>\n",
       "  <tbody>\n",
       "    <tr>\n",
       "      <th>0</th>\n",
       "      <td>cleaned_text_only</td>\n",
       "      <td>0.625</td>\n",
       "      <td>0.774340</td>\n",
       "      <td>0.393806</td>\n",
       "      <td>0.436889</td>\n",
       "      <td>0.393806</td>\n",
       "    </tr>\n",
       "    <tr>\n",
       "      <th>1</th>\n",
       "      <td>stop_word_removal_only</td>\n",
       "      <td>0.655</td>\n",
       "      <td>0.794137</td>\n",
       "      <td>0.500444</td>\n",
       "      <td>0.539084</td>\n",
       "      <td>0.500444</td>\n",
       "    </tr>\n",
       "    <tr>\n",
       "      <th>2</th>\n",
       "      <td>stemmed_text_only</td>\n",
       "      <td>0.635</td>\n",
       "      <td>0.777619</td>\n",
       "      <td>0.398061</td>\n",
       "      <td>0.440592</td>\n",
       "      <td>0.398061</td>\n",
       "    </tr>\n",
       "    <tr>\n",
       "      <th>3</th>\n",
       "      <td>lemmatized_text_only</td>\n",
       "      <td>0.615</td>\n",
       "      <td>0.733284</td>\n",
       "      <td>0.414403</td>\n",
       "      <td>0.460168</td>\n",
       "      <td>0.414403</td>\n",
       "    </tr>\n",
       "    <tr>\n",
       "      <th>4</th>\n",
       "      <td>cleaned_stop_stemm</td>\n",
       "      <td>0.615</td>\n",
       "      <td>0.754808</td>\n",
       "      <td>0.433165</td>\n",
       "      <td>0.480601</td>\n",
       "      <td>0.433165</td>\n",
       "    </tr>\n",
       "    <tr>\n",
       "      <th>5</th>\n",
       "      <td>cleaned_stop_comb</td>\n",
       "      <td>0.660</td>\n",
       "      <td>0.797291</td>\n",
       "      <td>0.502572</td>\n",
       "      <td>0.541472</td>\n",
       "      <td>0.502572</td>\n",
       "    </tr>\n",
       "  </tbody>\n",
       "</table>\n",
       "</div>"
      ],
      "text/plain": [
       "  text_preprocessing_method  accuracy  precision_macro  recall_macro  \\\n",
       "0         cleaned_text_only     0.625         0.774340      0.393806   \n",
       "1    stop_word_removal_only     0.655         0.794137      0.500444   \n",
       "2         stemmed_text_only     0.635         0.777619      0.398061   \n",
       "3      lemmatized_text_only     0.615         0.733284      0.414403   \n",
       "4        cleaned_stop_stemm     0.615         0.754808      0.433165   \n",
       "5         cleaned_stop_comb     0.660         0.797291      0.502572   \n",
       "\n",
       "   f1_macro  balanced_accuracy  \n",
       "0  0.436889           0.393806  \n",
       "1  0.539084           0.500444  \n",
       "2  0.440592           0.398061  \n",
       "3  0.460168           0.414403  \n",
       "4  0.480601           0.433165  \n",
       "5  0.541472           0.502572  "
      ]
     },
     "execution_count": 26,
     "metadata": {},
     "output_type": "execute_result"
    }
   ],
   "source": [
    "def clean_combination(text): \n",
    "    #removing stop words\n",
    "    text = remove_stopwords(text)\n",
    "    return text\n",
    "\n",
    "restaurant_review_df_cpy.loc[:, 'cleaned_stop_comb'] = restaurant_review_df_cpy['clean_text'].apply(clean_combination) \n",
    "X_train, X_test, y_train, y_test,name_of_preprocessing = splitting_text_preprocessing( X=restaurant_review_df_cpy['cleaned_stop_comb'],y=restaurant_review_df_cpy['rating'], name_of_preprocessing= 'cleaned_stop_comb' ,stratify=restaurant_review_df_cpy['rating'] )\n",
    "X_train, X_test,  bag_of_words_vectorizer  = bag_of_words(X_train= X_train, X_test= X_test)\n",
    "X_train_resampled, y_train_resampled = ros.fit_resample(X_train, y_train)\n",
    "y_pred = baseline_model(X_train=X_train_resampled, X_test=X_test, y_train=y_train_resampled)\n",
    "df_evalutation = eval(y_true=y_test, y_pred=y_pred,name_of_preprocessing=name_of_preprocessing, df_evalutation=df_evalutation)\n",
    "df_evalutation"
   ]
  },
  {
   "cell_type": "markdown",
   "metadata": {},
   "source": [
    "Combination of Stop word Removal and Stemming and no cleaning"
   ]
  },
  {
   "cell_type": "code",
   "execution_count": 28,
   "metadata": {},
   "outputs": [
    {
     "data": {
      "text/html": [
       "<div>\n",
       "<style scoped>\n",
       "    .dataframe tbody tr th:only-of-type {\n",
       "        vertical-align: middle;\n",
       "    }\n",
       "\n",
       "    .dataframe tbody tr th {\n",
       "        vertical-align: top;\n",
       "    }\n",
       "\n",
       "    .dataframe thead th {\n",
       "        text-align: right;\n",
       "    }\n",
       "</style>\n",
       "<table border=\"1\" class=\"dataframe\">\n",
       "  <thead>\n",
       "    <tr style=\"text-align: right;\">\n",
       "      <th></th>\n",
       "      <th>text_preprocessing_method</th>\n",
       "      <th>accuracy</th>\n",
       "      <th>precision_macro</th>\n",
       "      <th>recall_macro</th>\n",
       "      <th>f1_macro</th>\n",
       "      <th>balanced_accuracy</th>\n",
       "    </tr>\n",
       "  </thead>\n",
       "  <tbody>\n",
       "    <tr>\n",
       "      <th>0</th>\n",
       "      <td>cleaned_text_only</td>\n",
       "      <td>0.625</td>\n",
       "      <td>0.774340</td>\n",
       "      <td>0.393806</td>\n",
       "      <td>0.436889</td>\n",
       "      <td>0.393806</td>\n",
       "    </tr>\n",
       "    <tr>\n",
       "      <th>1</th>\n",
       "      <td>stop_word_removal_only</td>\n",
       "      <td>0.655</td>\n",
       "      <td>0.794137</td>\n",
       "      <td>0.500444</td>\n",
       "      <td>0.539084</td>\n",
       "      <td>0.500444</td>\n",
       "    </tr>\n",
       "    <tr>\n",
       "      <th>2</th>\n",
       "      <td>stemmed_text_only</td>\n",
       "      <td>0.635</td>\n",
       "      <td>0.777619</td>\n",
       "      <td>0.398061</td>\n",
       "      <td>0.440592</td>\n",
       "      <td>0.398061</td>\n",
       "    </tr>\n",
       "    <tr>\n",
       "      <th>3</th>\n",
       "      <td>lemmatized_text_only</td>\n",
       "      <td>0.615</td>\n",
       "      <td>0.733284</td>\n",
       "      <td>0.414403</td>\n",
       "      <td>0.460168</td>\n",
       "      <td>0.414403</td>\n",
       "    </tr>\n",
       "    <tr>\n",
       "      <th>4</th>\n",
       "      <td>cleaned_stop_stemm</td>\n",
       "      <td>0.615</td>\n",
       "      <td>0.754808</td>\n",
       "      <td>0.433165</td>\n",
       "      <td>0.480601</td>\n",
       "      <td>0.433165</td>\n",
       "    </tr>\n",
       "    <tr>\n",
       "      <th>5</th>\n",
       "      <td>cleaned_stop_comb</td>\n",
       "      <td>0.660</td>\n",
       "      <td>0.797291</td>\n",
       "      <td>0.502572</td>\n",
       "      <td>0.541472</td>\n",
       "      <td>0.502572</td>\n",
       "    </tr>\n",
       "    <tr>\n",
       "      <th>6</th>\n",
       "      <td>stop_stemm_comb</td>\n",
       "      <td>0.635</td>\n",
       "      <td>0.763996</td>\n",
       "      <td>0.443481</td>\n",
       "      <td>0.490292</td>\n",
       "      <td>0.443481</td>\n",
       "    </tr>\n",
       "  </tbody>\n",
       "</table>\n",
       "</div>"
      ],
      "text/plain": [
       "  text_preprocessing_method  accuracy  precision_macro  recall_macro  \\\n",
       "0         cleaned_text_only     0.625         0.774340      0.393806   \n",
       "1    stop_word_removal_only     0.655         0.794137      0.500444   \n",
       "2         stemmed_text_only     0.635         0.777619      0.398061   \n",
       "3      lemmatized_text_only     0.615         0.733284      0.414403   \n",
       "4        cleaned_stop_stemm     0.615         0.754808      0.433165   \n",
       "5         cleaned_stop_comb     0.660         0.797291      0.502572   \n",
       "6           stop_stemm_comb     0.635         0.763996      0.443481   \n",
       "\n",
       "   f1_macro  balanced_accuracy  \n",
       "0  0.436889           0.393806  \n",
       "1  0.539084           0.500444  \n",
       "2  0.440592           0.398061  \n",
       "3  0.460168           0.414403  \n",
       "4  0.480601           0.433165  \n",
       "5  0.541472           0.502572  \n",
       "6  0.490292           0.443481  "
      ]
     },
     "execution_count": 28,
     "metadata": {},
     "output_type": "execute_result"
    }
   ],
   "source": [
    "def stop_stemm(text): \n",
    "    #removing stop words\n",
    "    text = stemming(text)\n",
    "    return text\n",
    "\n",
    "restaurant_review_df_cpy.loc[:, 'stop_stemm_comb'] = restaurant_review_df_cpy['stop_words_removed'].apply(stop_stemm) \n",
    "X_train, X_test, y_train, y_test,name_of_preprocessing = splitting_text_preprocessing( X=restaurant_review_df_cpy['stop_stemm_comb'],y=restaurant_review_df_cpy['rating'], name_of_preprocessing= 'stop_stemm_comb' ,stratify=restaurant_review_df_cpy['rating'] )\n",
    "X_train, X_test,  bag_of_words_vectorizer  = bag_of_words(X_train= X_train, X_test= X_test)\n",
    "X_train_resampled, y_train_resampled = ros.fit_resample(X_train, y_train)\n",
    "y_pred = baseline_model(X_train=X_train_resampled, X_test=X_test, y_train=y_train_resampled)\n",
    "df_evalutation = eval(y_true=y_test, y_pred=y_pred,name_of_preprocessing=name_of_preprocessing, df_evalutation=df_evalutation)\n",
    "df_evalutation"
   ]
  },
  {
   "cell_type": "markdown",
   "metadata": {},
   "source": [
    "### Summary\n",
    "\n",
    "1. According to the text preprocessing methods, the accuracy is not so high, but still if we only consider the cleaning and stop words removal as the accuracy and precision is higher than the other combinations. \n",
    "\n",
    "2. Thus we will proceed with feature engineering methods on the combination of stop word removal and cleaning"
   ]
  },
  {
   "cell_type": "markdown",
   "metadata": {},
   "source": [
    "### Result of Text Preprocessing Method"
   ]
  },
  {
   "cell_type": "code",
   "execution_count": 29,
   "metadata": {},
   "outputs": [],
   "source": [
    "# with highest accuracy and precision\n",
    "restaurant_review_df_cpy['processed_text'] = restaurant_review_df_cpy['cleaned_stop_comb']"
   ]
  },
  {
   "cell_type": "markdown",
   "metadata": {},
   "source": [
    "## Exercise 2\n",
    "\n",
    "Systematic analysis of the effectiveness of different feature engineering techniques. "
   ]
  },
  {
   "cell_type": "markdown",
   "metadata": {},
   "source": [
    "### Feature Engineering Techniques on selected Text preprocessing strategy\n",
    "\n",
    "Now using Bag of words TF-IDF and Bag of 2 grams techniques on the processed text and evaluating the model"
   ]
  },
  {
   "cell_type": "markdown",
   "metadata": {},
   "source": [
    "Bag of Words"
   ]
  },
  {
   "cell_type": "code",
   "execution_count": 30,
   "metadata": {},
   "outputs": [
    {
     "data": {
      "text/html": [
       "<div>\n",
       "<style scoped>\n",
       "    .dataframe tbody tr th:only-of-type {\n",
       "        vertical-align: middle;\n",
       "    }\n",
       "\n",
       "    .dataframe tbody tr th {\n",
       "        vertical-align: top;\n",
       "    }\n",
       "\n",
       "    .dataframe thead th {\n",
       "        text-align: right;\n",
       "    }\n",
       "</style>\n",
       "<table border=\"1\" class=\"dataframe\">\n",
       "  <thead>\n",
       "    <tr style=\"text-align: right;\">\n",
       "      <th></th>\n",
       "      <th>text_preprocessing_method</th>\n",
       "      <th>accuracy</th>\n",
       "      <th>precision_macro</th>\n",
       "      <th>recall_macro</th>\n",
       "      <th>f1_macro</th>\n",
       "      <th>balanced_accuracy</th>\n",
       "    </tr>\n",
       "  </thead>\n",
       "  <tbody>\n",
       "    <tr>\n",
       "      <th>0</th>\n",
       "      <td>bag_of_words</td>\n",
       "      <td>0.66</td>\n",
       "      <td>0.797291</td>\n",
       "      <td>0.502572</td>\n",
       "      <td>0.541472</td>\n",
       "      <td>0.502572</td>\n",
       "    </tr>\n",
       "  </tbody>\n",
       "</table>\n",
       "</div>"
      ],
      "text/plain": [
       "  text_preprocessing_method  accuracy  precision_macro  recall_macro  \\\n",
       "0              bag_of_words      0.66         0.797291      0.502572   \n",
       "\n",
       "   f1_macro  balanced_accuracy  \n",
       "0  0.541472           0.502572  "
      ]
     },
     "execution_count": 30,
     "metadata": {},
     "output_type": "execute_result"
    }
   ],
   "source": [
    "df_feature_engg_eval = pd.DataFrame()\n",
    "X_train, X_test, y_train, y_test,name_of_preprocessing = splitting_text_preprocessing( X=restaurant_review_df_cpy['processed_text'],y=restaurant_review_df_cpy['rating'], name_of_preprocessing= 'bag_of_words' ,stratify=restaurant_review_df_cpy['rating'])\n",
    "X_train, X_test, bag_of_words_vectorizer = bag_of_words(X_train= X_train, X_test= X_test)\n",
    "X_train_resampled, y_train_resampled = ros.fit_resample(X_train, y_train)\n",
    "y_pred = baseline_model(X_train=X_train_resampled, X_test=X_test, y_train=y_train_resampled)\n",
    "df_feature_engg_eval = eval(y_true=y_test, y_pred=y_pred,name_of_preprocessing=name_of_preprocessing, df_evalutation=df_feature_engg_eval)\n",
    "df_feature_engg_eval"
   ]
  },
  {
   "cell_type": "markdown",
   "metadata": {},
   "source": [
    " TF-IDF"
   ]
  },
  {
   "cell_type": "code",
   "execution_count": 34,
   "metadata": {},
   "outputs": [
    {
     "data": {
      "text/html": [
       "<div>\n",
       "<style scoped>\n",
       "    .dataframe tbody tr th:only-of-type {\n",
       "        vertical-align: middle;\n",
       "    }\n",
       "\n",
       "    .dataframe tbody tr th {\n",
       "        vertical-align: top;\n",
       "    }\n",
       "\n",
       "    .dataframe thead th {\n",
       "        text-align: right;\n",
       "    }\n",
       "</style>\n",
       "<table border=\"1\" class=\"dataframe\">\n",
       "  <thead>\n",
       "    <tr style=\"text-align: right;\">\n",
       "      <th></th>\n",
       "      <th>text_preprocessing_method</th>\n",
       "      <th>accuracy</th>\n",
       "      <th>precision_macro</th>\n",
       "      <th>recall_macro</th>\n",
       "      <th>f1_macro</th>\n",
       "      <th>balanced_accuracy</th>\n",
       "    </tr>\n",
       "  </thead>\n",
       "  <tbody>\n",
       "    <tr>\n",
       "      <th>0</th>\n",
       "      <td>bag_of_words</td>\n",
       "      <td>0.66</td>\n",
       "      <td>0.797291</td>\n",
       "      <td>0.502572</td>\n",
       "      <td>0.541472</td>\n",
       "      <td>0.502572</td>\n",
       "    </tr>\n",
       "    <tr>\n",
       "      <th>1</th>\n",
       "      <td>tf_Idf</td>\n",
       "      <td>0.66</td>\n",
       "      <td>0.757931</td>\n",
       "      <td>0.504412</td>\n",
       "      <td>0.541940</td>\n",
       "      <td>0.504412</td>\n",
       "    </tr>\n",
       "  </tbody>\n",
       "</table>\n",
       "</div>"
      ],
      "text/plain": [
       "  text_preprocessing_method  accuracy  precision_macro  recall_macro  \\\n",
       "0              bag_of_words      0.66         0.797291      0.502572   \n",
       "1                    tf_Idf      0.66         0.757931      0.504412   \n",
       "\n",
       "   f1_macro  balanced_accuracy  \n",
       "0  0.541472           0.502572  \n",
       "1  0.541940           0.504412  "
      ]
     },
     "execution_count": 34,
     "metadata": {},
     "output_type": "execute_result"
    }
   ],
   "source": [
    "X_train, X_test, y_train, y_test,name_of_preprocessing = splitting_text_preprocessing( X=restaurant_review_df_cpy['processed_text'],y=restaurant_review_df_cpy['rating'], name_of_preprocessing= 'tf_Idf' ,stratify=restaurant_review_df_cpy['rating'] )\n",
    "X_train, X_test, tf_idf_vectorizer = tf_idf(X_train= X_train, X_test= X_test)\n",
    "X_train_resampled, y_train_resampled = ros.fit_resample(X_train, y_train)\n",
    "y_pred = baseline_model(X_train=X_train_resampled, X_test=X_test, y_train=y_train_resampled)\n",
    "df_feature_engg_eval = eval(y_true=y_test, y_pred=y_pred,name_of_preprocessing=name_of_preprocessing, df_evalutation=df_feature_engg_eval)\n",
    "df_feature_engg_eval"
   ]
  },
  {
   "cell_type": "markdown",
   "metadata": {},
   "source": [
    " Bag of 2 grams"
   ]
  },
  {
   "cell_type": "code",
   "execution_count": 35,
   "metadata": {},
   "outputs": [
    {
     "data": {
      "text/html": [
       "<div>\n",
       "<style scoped>\n",
       "    .dataframe tbody tr th:only-of-type {\n",
       "        vertical-align: middle;\n",
       "    }\n",
       "\n",
       "    .dataframe tbody tr th {\n",
       "        vertical-align: top;\n",
       "    }\n",
       "\n",
       "    .dataframe thead th {\n",
       "        text-align: right;\n",
       "    }\n",
       "</style>\n",
       "<table border=\"1\" class=\"dataframe\">\n",
       "  <thead>\n",
       "    <tr style=\"text-align: right;\">\n",
       "      <th></th>\n",
       "      <th>text_preprocessing_method</th>\n",
       "      <th>accuracy</th>\n",
       "      <th>precision_macro</th>\n",
       "      <th>recall_macro</th>\n",
       "      <th>f1_macro</th>\n",
       "      <th>balanced_accuracy</th>\n",
       "    </tr>\n",
       "  </thead>\n",
       "  <tbody>\n",
       "    <tr>\n",
       "      <th>0</th>\n",
       "      <td>bag_of_words</td>\n",
       "      <td>0.660</td>\n",
       "      <td>0.797291</td>\n",
       "      <td>0.502572</td>\n",
       "      <td>0.541472</td>\n",
       "      <td>0.502572</td>\n",
       "    </tr>\n",
       "    <tr>\n",
       "      <th>1</th>\n",
       "      <td>tf_Idf</td>\n",
       "      <td>0.660</td>\n",
       "      <td>0.757931</td>\n",
       "      <td>0.504412</td>\n",
       "      <td>0.541940</td>\n",
       "      <td>0.504412</td>\n",
       "    </tr>\n",
       "    <tr>\n",
       "      <th>2</th>\n",
       "      <td>bag_of_2grams</td>\n",
       "      <td>0.515</td>\n",
       "      <td>0.763496</td>\n",
       "      <td>0.363245</td>\n",
       "      <td>0.394199</td>\n",
       "      <td>0.363245</td>\n",
       "    </tr>\n",
       "  </tbody>\n",
       "</table>\n",
       "</div>"
      ],
      "text/plain": [
       "  text_preprocessing_method  accuracy  precision_macro  recall_macro  \\\n",
       "0              bag_of_words     0.660         0.797291      0.502572   \n",
       "1                    tf_Idf     0.660         0.757931      0.504412   \n",
       "2             bag_of_2grams     0.515         0.763496      0.363245   \n",
       "\n",
       "   f1_macro  balanced_accuracy  \n",
       "0  0.541472           0.502572  \n",
       "1  0.541940           0.504412  \n",
       "2  0.394199           0.363245  "
      ]
     },
     "execution_count": 35,
     "metadata": {},
     "output_type": "execute_result"
    }
   ],
   "source": [
    "X_train, X_test, y_train, y_test,name_of_preprocessing = splitting_text_preprocessing(  X=restaurant_review_df_cpy['processed_text'],y=restaurant_review_df_cpy['rating'], name_of_preprocessing= 'bag_of_2grams' ,stratify=restaurant_review_df_cpy['rating']  )\n",
    "X_train, X_test, bag_of_2grams_vectorizer = bag_of_2grams(X_train = X_train, X_test = X_test)\n",
    "X_train_resampled, y_train_resampled = ros.fit_resample(X_train, y_train)\n",
    "y_pred = baseline_model(X_train=X_train_resampled, X_test=X_test, y_train=y_train_resampled)\n",
    "df_feature_engg_eval = eval(y_true=y_test, y_pred=y_pred,name_of_preprocessing=name_of_preprocessing, df_evalutation=df_feature_engg_eval)\n",
    "df_feature_engg_eval"
   ]
  },
  {
   "cell_type": "markdown",
   "metadata": {},
   "source": [
    "### Summary\n",
    "\n",
    "1. The best method for the prediction of rating has been Bag of Words, but again with not that good accuracy score. \n",
    "\n",
    "2. Now we will proceed with different ML models and Fine tuning the hyperparameters to achieve higher accuracy score."
   ]
  },
  {
   "cell_type": "markdown",
   "metadata": {},
   "source": [
    "### Result of Feature Engineering"
   ]
  },
  {
   "cell_type": "code",
   "execution_count": 57,
   "metadata": {},
   "outputs": [],
   "source": [
    "bag_of_words_vectorizer_path = 'bag_of_words.pkl'\n",
    "\n",
    "#saving the object\n",
    "with open(bag_of_words_vectorizer_path, 'wb') as file:\n",
    "    pickle.dump(bag_of_words_vectorizer, file)\n",
    "\n",
    "# Load the TF-IDF vectorizer object from file using pickle\n",
    "with open(bag_of_words_vectorizer_path, 'rb') as file:\n",
    "    bag_of_words_loaded_vectorizer = pickle.load(file)"
   ]
  },
  {
   "cell_type": "markdown",
   "metadata": {},
   "source": [
    "## Exercise 3\n",
    "\n",
    "Improving performance of the experiment"
   ]
  },
  {
   "cell_type": "markdown",
   "metadata": {},
   "source": [
    "### Machine Learning Algorithms"
   ]
  },
  {
   "cell_type": "markdown",
   "metadata": {},
   "source": [
    "Naive Bayes"
   ]
  },
  {
   "cell_type": "code",
   "execution_count": 73,
   "metadata": {},
   "outputs": [
    {
     "data": {
      "text/html": [
       "<div>\n",
       "<style scoped>\n",
       "    .dataframe tbody tr th:only-of-type {\n",
       "        vertical-align: middle;\n",
       "    }\n",
       "\n",
       "    .dataframe tbody tr th {\n",
       "        vertical-align: top;\n",
       "    }\n",
       "\n",
       "    .dataframe thead th {\n",
       "        text-align: right;\n",
       "    }\n",
       "</style>\n",
       "<table border=\"1\" class=\"dataframe\">\n",
       "  <thead>\n",
       "    <tr style=\"text-align: right;\">\n",
       "      <th></th>\n",
       "      <th>text_preprocessing_method</th>\n",
       "      <th>accuracy</th>\n",
       "      <th>precision_macro</th>\n",
       "      <th>recall_macro</th>\n",
       "      <th>f1_macro</th>\n",
       "      <th>balanced_accuracy</th>\n",
       "    </tr>\n",
       "  </thead>\n",
       "  <tbody>\n",
       "    <tr>\n",
       "      <th>0</th>\n",
       "      <td>ml_model_naive</td>\n",
       "      <td>0.585</td>\n",
       "      <td>0.566182</td>\n",
       "      <td>0.508216</td>\n",
       "      <td>0.529828</td>\n",
       "      <td>0.508216</td>\n",
       "    </tr>\n",
       "  </tbody>\n",
       "</table>\n",
       "</div>"
      ],
      "text/plain": [
       "  text_preprocessing_method  accuracy  precision_macro  recall_macro  \\\n",
       "0            ml_model_naive     0.585         0.566182      0.508216   \n",
       "\n",
       "   f1_macro  balanced_accuracy  \n",
       "0  0.529828           0.508216  "
      ]
     },
     "execution_count": 73,
     "metadata": {},
     "output_type": "execute_result"
    }
   ],
   "source": [
    "df_ml_model = pd.DataFrame()\n",
    "\n",
    "def naive_bayes_model(X_train, X_test, y_train):\n",
    "    model_naive_bayes = MultinomialNB()\n",
    "    model_naive_bayes.fit(X_train, y_train)\n",
    "    y_pred = model_naive_bayes.predict(X_test)\n",
    "    return y_pred, model_naive_bayes\n",
    "\n",
    "X_train, X_test, y_train, y_test,name_of_preprocessing = splitting_text_preprocessing(  X=restaurant_review_df_cpy['processed_text'],y=restaurant_review_df_cpy['rating'], name_of_preprocessing= 'ml_model_naive' ,stratify=restaurant_review_df_cpy['rating']  )\n",
    "X_train, X_test, bag_of_w = bag_of_words(X_train= X_train, X_test= X_test)\n",
    "X_train_resampled, y_train_resampled = ros.fit_resample(X_train, y_train)\n",
    "y_pred,model_ml_naive = naive_bayes_model(X_train=X_train_resampled, X_test=X_test, y_train=y_train_resampled)\n",
    "df_ml_model = eval(y_true=y_test, y_pred=y_pred,name_of_preprocessing=name_of_preprocessing, df_evalutation=df_ml_model)\n",
    "df_ml_model"
   ]
  },
  {
   "cell_type": "markdown",
   "metadata": {},
   "source": [
    "Logistic Regression"
   ]
  },
  {
   "cell_type": "code",
   "execution_count": 74,
   "metadata": {},
   "outputs": [
    {
     "data": {
      "text/html": [
       "<div>\n",
       "<style scoped>\n",
       "    .dataframe tbody tr th:only-of-type {\n",
       "        vertical-align: middle;\n",
       "    }\n",
       "\n",
       "    .dataframe tbody tr th {\n",
       "        vertical-align: top;\n",
       "    }\n",
       "\n",
       "    .dataframe thead th {\n",
       "        text-align: right;\n",
       "    }\n",
       "</style>\n",
       "<table border=\"1\" class=\"dataframe\">\n",
       "  <thead>\n",
       "    <tr style=\"text-align: right;\">\n",
       "      <th></th>\n",
       "      <th>text_preprocessing_method</th>\n",
       "      <th>accuracy</th>\n",
       "      <th>precision_macro</th>\n",
       "      <th>recall_macro</th>\n",
       "      <th>f1_macro</th>\n",
       "      <th>balanced_accuracy</th>\n",
       "    </tr>\n",
       "  </thead>\n",
       "  <tbody>\n",
       "    <tr>\n",
       "      <th>0</th>\n",
       "      <td>ml_model_naive</td>\n",
       "      <td>0.585</td>\n",
       "      <td>0.566182</td>\n",
       "      <td>0.508216</td>\n",
       "      <td>0.529828</td>\n",
       "      <td>0.508216</td>\n",
       "    </tr>\n",
       "    <tr>\n",
       "      <th>1</th>\n",
       "      <td>ml_model_logistic</td>\n",
       "      <td>0.555</td>\n",
       "      <td>0.491716</td>\n",
       "      <td>0.435737</td>\n",
       "      <td>0.453866</td>\n",
       "      <td>0.435737</td>\n",
       "    </tr>\n",
       "  </tbody>\n",
       "</table>\n",
       "</div>"
      ],
      "text/plain": [
       "  text_preprocessing_method  accuracy  precision_macro  recall_macro  \\\n",
       "0            ml_model_naive     0.585         0.566182      0.508216   \n",
       "1         ml_model_logistic     0.555         0.491716      0.435737   \n",
       "\n",
       "   f1_macro  balanced_accuracy  \n",
       "0  0.529828           0.508216  \n",
       "1  0.453866           0.435737  "
      ]
     },
     "execution_count": 74,
     "metadata": {},
     "output_type": "execute_result"
    }
   ],
   "source": [
    "def logistic_regression_model(X_train, X_test, y_train): \n",
    "    model_logistic_regression = LogisticRegression(random_state=42)\n",
    "    model_logistic_regression.fit(X_train, y_train)\n",
    "    y_pred = model_logistic_regression.predict(X_test)\n",
    "    return y_pred, model_logistic_regression\n",
    "\n",
    "X_train, X_test, y_train, y_test,name_of_preprocessing = splitting_text_preprocessing(  X=restaurant_review_df_cpy['processed_text'],y=restaurant_review_df_cpy['rating'], name_of_preprocessing= 'ml_model_logistic' ,stratify=restaurant_review_df_cpy['rating']  )\n",
    "X_train, X_test, bag_of_w = bag_of_words(X_train= X_train, X_test= X_test)\n",
    "X_train_resampled, y_train_resampled = ros.fit_resample(X_train, y_train)\n",
    "y_pred, model_ml_logistic = logistic_regression_model(X_train=X_train_resampled, X_test=X_test, y_train=y_train_resampled)\n",
    "df_ml_model = eval(y_true=y_test, y_pred=y_pred,name_of_preprocessing=name_of_preprocessing, df_evalutation=df_ml_model)\n",
    "df_ml_model\n"
   ]
  },
  {
   "cell_type": "markdown",
   "metadata": {},
   "source": [
    "SVM"
   ]
  },
  {
   "cell_type": "code",
   "execution_count": 75,
   "metadata": {},
   "outputs": [
    {
     "data": {
      "text/html": [
       "<div>\n",
       "<style scoped>\n",
       "    .dataframe tbody tr th:only-of-type {\n",
       "        vertical-align: middle;\n",
       "    }\n",
       "\n",
       "    .dataframe tbody tr th {\n",
       "        vertical-align: top;\n",
       "    }\n",
       "\n",
       "    .dataframe thead th {\n",
       "        text-align: right;\n",
       "    }\n",
       "</style>\n",
       "<table border=\"1\" class=\"dataframe\">\n",
       "  <thead>\n",
       "    <tr style=\"text-align: right;\">\n",
       "      <th></th>\n",
       "      <th>text_preprocessing_method</th>\n",
       "      <th>accuracy</th>\n",
       "      <th>precision_macro</th>\n",
       "      <th>recall_macro</th>\n",
       "      <th>f1_macro</th>\n",
       "      <th>balanced_accuracy</th>\n",
       "    </tr>\n",
       "  </thead>\n",
       "  <tbody>\n",
       "    <tr>\n",
       "      <th>0</th>\n",
       "      <td>ml_model_naive</td>\n",
       "      <td>0.585</td>\n",
       "      <td>0.566182</td>\n",
       "      <td>0.508216</td>\n",
       "      <td>0.529828</td>\n",
       "      <td>0.508216</td>\n",
       "    </tr>\n",
       "    <tr>\n",
       "      <th>1</th>\n",
       "      <td>ml_model_logistic</td>\n",
       "      <td>0.555</td>\n",
       "      <td>0.491716</td>\n",
       "      <td>0.435737</td>\n",
       "      <td>0.453866</td>\n",
       "      <td>0.435737</td>\n",
       "    </tr>\n",
       "    <tr>\n",
       "      <th>2</th>\n",
       "      <td>ml_model_svc</td>\n",
       "      <td>0.575</td>\n",
       "      <td>0.752529</td>\n",
       "      <td>0.408389</td>\n",
       "      <td>0.467301</td>\n",
       "      <td>0.408389</td>\n",
       "    </tr>\n",
       "  </tbody>\n",
       "</table>\n",
       "</div>"
      ],
      "text/plain": [
       "  text_preprocessing_method  accuracy  precision_macro  recall_macro  \\\n",
       "0            ml_model_naive     0.585         0.566182      0.508216   \n",
       "1         ml_model_logistic     0.555         0.491716      0.435737   \n",
       "2              ml_model_svc     0.575         0.752529      0.408389   \n",
       "\n",
       "   f1_macro  balanced_accuracy  \n",
       "0  0.529828           0.508216  \n",
       "1  0.453866           0.435737  \n",
       "2  0.467301           0.408389  "
      ]
     },
     "execution_count": 75,
     "metadata": {},
     "output_type": "execute_result"
    }
   ],
   "source": [
    "def svm_model(X_train, X_test, y_train):\n",
    "    model_svc = SVC(random_state=42)\n",
    "    model_svc.fit(X_train, y_train)\n",
    "    y_pred = model_svc.predict(X_test)\n",
    "    return y_pred, model_svc \n",
    "\n",
    "X_train, X_test, y_train, y_test,name_of_preprocessing = splitting_text_preprocessing(  X=restaurant_review_df_cpy['processed_text'],y=restaurant_review_df_cpy['rating'], name_of_preprocessing= 'ml_model_svc' ,stratify=restaurant_review_df_cpy['rating'])\n",
    "X_train, X_test, bag_of_w = bag_of_words(X_train= X_train, X_test= X_test)\n",
    "X_train_resampled, y_train_resampled = ros.fit_resample(X_train, y_train)\n",
    "y_pred, model_ml_svm = svm_model(X_train=X_train_resampled, X_test=X_test, y_train=y_train_resampled)\n",
    "df_ml_model = eval(y_true=y_test, y_pred=y_pred,name_of_preprocessing=name_of_preprocessing, df_evalutation=df_ml_model)\n",
    "df_ml_model"
   ]
  },
  {
   "cell_type": "markdown",
   "metadata": {},
   "source": [
    "Since we do not get any good results with basic parameters let's work out with hyper parameter tuning and check whether the model results in better output.\n",
    "We will perform it on Random forest classifier as it happened to be of greater accuracy "
   ]
  },
  {
   "cell_type": "markdown",
   "metadata": {},
   "source": [
    "### Different Sampling Methods\n"
   ]
  },
  {
   "cell_type": "code",
   "execution_count": 65,
   "metadata": {},
   "outputs": [],
   "source": [
    "from imblearn.combine import SMOTEENN"
   ]
  },
  {
   "cell_type": "code",
   "execution_count": 68,
   "metadata": {},
   "outputs": [
    {
     "data": {
      "text/html": [
       "<div>\n",
       "<style scoped>\n",
       "    .dataframe tbody tr th:only-of-type {\n",
       "        vertical-align: middle;\n",
       "    }\n",
       "\n",
       "    .dataframe tbody tr th {\n",
       "        vertical-align: top;\n",
       "    }\n",
       "\n",
       "    .dataframe thead th {\n",
       "        text-align: right;\n",
       "    }\n",
       "</style>\n",
       "<table border=\"1\" class=\"dataframe\">\n",
       "  <thead>\n",
       "    <tr style=\"text-align: right;\">\n",
       "      <th></th>\n",
       "      <th>text_preprocessing_method</th>\n",
       "      <th>accuracy</th>\n",
       "      <th>precision_macro</th>\n",
       "      <th>recall_macro</th>\n",
       "      <th>f1_macro</th>\n",
       "      <th>balanced_accuracy</th>\n",
       "    </tr>\n",
       "  </thead>\n",
       "  <tbody>\n",
       "    <tr>\n",
       "      <th>0</th>\n",
       "      <td>ml_model_naive</td>\n",
       "      <td>0.585</td>\n",
       "      <td>0.566182</td>\n",
       "      <td>0.508216</td>\n",
       "      <td>0.529828</td>\n",
       "      <td>0.508216</td>\n",
       "    </tr>\n",
       "    <tr>\n",
       "      <th>1</th>\n",
       "      <td>ml_model_logistic</td>\n",
       "      <td>0.555</td>\n",
       "      <td>0.491716</td>\n",
       "      <td>0.435737</td>\n",
       "      <td>0.453866</td>\n",
       "      <td>0.435737</td>\n",
       "    </tr>\n",
       "    <tr>\n",
       "      <th>2</th>\n",
       "      <td>ml_model_svc</td>\n",
       "      <td>0.575</td>\n",
       "      <td>0.752529</td>\n",
       "      <td>0.408389</td>\n",
       "      <td>0.467301</td>\n",
       "      <td>0.408389</td>\n",
       "    </tr>\n",
       "    <tr>\n",
       "      <th>3</th>\n",
       "      <td>ml_model_svc</td>\n",
       "      <td>0.115</td>\n",
       "      <td>0.114657</td>\n",
       "      <td>0.258983</td>\n",
       "      <td>0.133579</td>\n",
       "      <td>0.258983</td>\n",
       "    </tr>\n",
       "    <tr>\n",
       "      <th>4</th>\n",
       "      <td>ml_model_svc_smoteen</td>\n",
       "      <td>0.115</td>\n",
       "      <td>0.114657</td>\n",
       "      <td>0.258983</td>\n",
       "      <td>0.133579</td>\n",
       "      <td>0.258983</td>\n",
       "    </tr>\n",
       "  </tbody>\n",
       "</table>\n",
       "</div>"
      ],
      "text/plain": [
       "  text_preprocessing_method  accuracy  precision_macro  recall_macro  \\\n",
       "0            ml_model_naive     0.585         0.566182      0.508216   \n",
       "1         ml_model_logistic     0.555         0.491716      0.435737   \n",
       "2              ml_model_svc     0.575         0.752529      0.408389   \n",
       "3              ml_model_svc     0.115         0.114657      0.258983   \n",
       "4      ml_model_svc_smoteen     0.115         0.114657      0.258983   \n",
       "\n",
       "   f1_macro  balanced_accuracy  \n",
       "0  0.529828           0.508216  \n",
       "1  0.453866           0.435737  \n",
       "2  0.467301           0.408389  \n",
       "3  0.133579           0.258983  \n",
       "4  0.133579           0.258983  "
      ]
     },
     "execution_count": 68,
     "metadata": {},
     "output_type": "execute_result"
    }
   ],
   "source": [
    "sampler = SMOTEENN(random_state=42)\n",
    "\n",
    "X_train, X_test, y_train, y_test,name_of_preprocessing = splitting_text_preprocessing(  X=restaurant_review_df_cpy['processed_text'],y=restaurant_review_df_cpy['rating'], name_of_preprocessing= 'ml_model_svc_smoteen' ,stratify=restaurant_review_df_cpy['rating'])\n",
    "X_train, X_test, bag_of_w = bag_of_words(X_train= X_train, X_test= X_test)\n",
    "X_resampled, y_resampled = sampler.fit_resample(X_train, y_train)\n",
    "y_pred, model_ml_svm = svm_model(X_train=X_resampled, X_test=X_test, y_train=y_resampled)\n",
    "df_ml_model = eval(y_true=y_test, y_pred=y_pred,name_of_preprocessing=name_of_preprocessing, df_evalutation=df_ml_model)\n",
    "df_ml_model"
   ]
  },
  {
   "cell_type": "markdown",
   "metadata": {},
   "source": [
    "### Summary"
   ]
  },
  {
   "cell_type": "markdown",
   "metadata": {},
   "source": [
    "1. After certain models, text pre processing methods and feature engineering methods and ML models, we came with a certain accuracy result.\n",
    "\n",
    "2. Still the model can be improved with several new processing or models or hyper tuning methods\n",
    "\n"
   ]
  },
  {
   "cell_type": "markdown",
   "metadata": {},
   "source": [
    "### Result of ML Model Selection\n",
    "The baseline Random Classifer has turn out to be good model"
   ]
  }
 ],
 "metadata": {
  "kernelspec": {
   "display_name": "test",
   "language": "python",
   "name": "python3"
  },
  "language_info": {
   "codemirror_mode": {
    "name": "ipython",
    "version": 3
   },
   "file_extension": ".py",
   "mimetype": "text/x-python",
   "name": "python",
   "nbconvert_exporter": "python",
   "pygments_lexer": "ipython3",
   "version": "3.11.5"
  }
 },
 "nbformat": 4,
 "nbformat_minor": 2
}
