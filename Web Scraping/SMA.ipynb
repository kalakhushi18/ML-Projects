{
 "cells": [
  {
   "cell_type": "markdown",
   "metadata": {},
   "source": [
    "\n",
    "https://www.dw.com/en/why-south-korean-women-arent-having-babies/a-68419317"
   ]
  },
  {
   "cell_type": "markdown",
   "metadata": {},
   "source": [
    "### Importing Libraries"
   ]
  },
  {
   "cell_type": "code",
   "execution_count": 156,
   "metadata": {},
   "outputs": [],
   "source": [
    "import requests\n",
    "import pandas as pd\n",
    "import json\n",
    "from bs4 import BeautifulSoup\n",
    "import warnings\n",
    "warnings.filterwarnings('ignore')"
   ]
  },
  {
   "cell_type": "markdown",
   "metadata": {},
   "source": [
    "### Requesting "
   ]
  },
  {
   "cell_type": "code",
   "execution_count": 158,
   "metadata": {},
   "outputs": [],
   "source": [
    "base_url = 'https://www.dw.com'\n",
    "article_url = '/en/why-south-korean-women-arent-having-babies/a-68419317'"
   ]
  },
  {
   "cell_type": "code",
   "execution_count": 159,
   "metadata": {},
   "outputs": [],
   "source": [
    "# function for requesting url\n",
    "def request_url(link_url):\n",
    "    url = base_url + link_url\n",
    "    html = requests.get(url).text\n",
    "    return html\n",
    "\n",
    "# creating soup object\n",
    "html_article = request_url(article_url)\n",
    "soup = BeautifulSoup(html_article, 'html.parser')"
   ]
  },
  {
   "cell_type": "markdown",
   "metadata": {},
   "source": [
    "### Extracting Information"
   ]
  },
  {
   "cell_type": "markdown",
   "metadata": {},
   "source": [
    "Author of Article"
   ]
  },
  {
   "cell_type": "code",
   "execution_count": 160,
   "metadata": {},
   "outputs": [
    {
     "name": "stdout",
     "output_type": "stream",
     "text": [
      "Author Name is:\n",
      " Julian Ryall\n"
     ]
    }
   ],
   "source": [
    "# author name of article \n",
    "author_class_name = 'author-link'\n",
    "author = soup.find(name=\"a\", attrs={'class': author_class_name})\n",
    "author_name = author.text\n",
    "\n",
    "print(f'Author Name is:\\n {author_name}')"
   ]
  },
  {
   "cell_type": "markdown",
   "metadata": {},
   "source": [
    "Date of Article"
   ]
  },
  {
   "cell_type": "code",
   "execution_count": 161,
   "metadata": {},
   "outputs": [
    {
     "name": "stdout",
     "output_type": "stream",
     "text": [
      "Date of Article is:\n",
      " 03/01/2024\n"
     ]
    }
   ],
   "source": [
    "# date of article\n",
    "\n",
    "date_of_article_tag = soup.select('time')\n",
    "date_of_article = date_of_article_tag[0].contents[0]\n",
    "print(f'Date of Article is:\\n {date_of_article}')\n"
   ]
  },
  {
   "cell_type": "markdown",
   "metadata": {},
   "source": [
    "Title of Article"
   ]
  },
  {
   "cell_type": "code",
   "execution_count": 162,
   "metadata": {},
   "outputs": [
    {
     "name": "stdout",
     "output_type": "stream",
     "text": [
      "Title of the Article is:\n",
      " Why South Korean women aren't having babies\n"
     ]
    }
   ],
   "source": [
    "# title of the article\n",
    "title_class_name = 'sc-ivDvhZ iBEcrE sc-iJfdHH djgAGb sc-jIQHsi VsLvM sc-ZiJuh dCQQTg sc-isKtiH jzOpwm'\n",
    "title = soup.find(name=\"h1\", attrs={'class': title_class_name})\n",
    "title_text = title.text\n",
    "\n",
    "print(f'Title of the Article is:\\n {title_text}')\n"
   ]
  },
  {
   "cell_type": "markdown",
   "metadata": {},
   "source": [
    "Summary of Article"
   ]
  },
  {
   "cell_type": "code",
   "execution_count": 163,
   "metadata": {},
   "outputs": [
    {
     "name": "stdout",
     "output_type": "stream",
     "text": [
      "The summary of the article is:\n",
      " New statistics show a record low number of children were born last year in South Korea, with women citing a desire for a career and to push back against a male-dominated society as key reasons.\n"
     ]
    }
   ],
   "source": [
    "# summary of article\n",
    "\n",
    "summary = soup.find(name = 'p', attrs = {'class' :'teaser-text' })\n",
    "summary_text = summary.text\n",
    "\n",
    "print(f\"The summary of the article is:\\n {summary_text}\")"
   ]
  },
  {
   "cell_type": "markdown",
   "metadata": {},
   "source": [
    "Main text of Article"
   ]
  },
  {
   "cell_type": "code",
   "execution_count": 164,
   "metadata": {},
   "outputs": [
    {
     "name": "stdout",
     "output_type": "stream",
     "text": [
      "Main text is:\n",
      " When she was younger, Hyobin Lee yearned to be a mother. There came a point, however, when she had to make a difficult decision. Ultimately, she chose her career over a family and is now a successful academic in the South Korean city of Daejeon.\n",
      "Lee, now 44, is just one of millions of Korean women who are making a conscious decision to remain childless — resulting in the nation's fertility rate dropping to a new record low.\n",
      "The fertility rate — the average number of births per woman — shrank to 0.72 last year, according to preliminary government statistics released on Wednesday, down from 0.78 in the previous year and continuing the gradual annual decline since 2015.\n",
      "That figure is well below the 2.1 children required to maintain South Korea's population, with the mere 230,000 children born last year hinting that the nation's total population is on course to fall to around 26 million — half the current total — by 2100.\n",
      "\n",
      "A dream of a son\n",
      "\"When I was young, I dreamed of having a son who looked like me,\" Lee told DW. \"I wanted to play with him, to read together and show him much of the world. But I have come to realize that reality is not so simple.\"\n",
      "\"I chose not to have children because of my career,\" she said. \"Having and raising a child would cause problem for my career and I fear I would resent the child for that reason. And as a consequence, both the child and I would be unhappy.\"South Korea's birth rate hits record lowTo view this video please enable JavaScript, and consider upgrading to a web browser that supports HTML5 video\n",
      "A successful career in Korea's male-dominated society is one reason that many women give for opting to remain childless, but there are many more, Lee points out.\n",
      "\"Economic issues play a significant role and despite various childbirth policies designed to support women, these measures are not functioning as intended,\" she said.\n",
      "Parental leave, for example, is by law available for both men and women, but it is overwhelmingly perceived and utilized by women.\n",
      "Just 1.3% of Korean men use their parental leave entitlement, compared to an average of 43.4% across the 38 states of the Organization for Economic Cooperation and Development(OECD).\n",
      "This means that Korean companies are reluctant to hire young women as they fear that they will invest in training a new member of staff only for her to leave after she become pregnant and then focus on being a full-time mother rather than returning to the workforce.\n",
      "\"In Korea, there is still a prevalent culture that believes bearing children and all aspects of childcare are solely the responsibility of women,\" Lee added. \"The challenge of simultaneously managing childbirth and childcare is so daunting that many women choose not to have children at all. This can be said for me as well.\"\n",
      "Jungmin Kwon, an associate professor at Portland State University in Oregon who specializes in East Asian popular culture, agrees that the pressures of South Korean society can be stifling.\n",
      "\"According to many studies, significant factors include the cost and effort involved in childcare,\" she said.\n",
      "\"Korea is famous for its extensive private education market and it is difficult to go against an atmosphere in which it is taken for granted that parents will spend a lot of money on various private education programs from a young age in order to compete with other children.\"\n",
      "Women bear the brunt of children\n",
      "\"More importantly, in the current patriarchal culture, where women are expected to bear the majority of the mental and physical energy required to raise children, childbirth and childcare are challenging choices for women,\" Kwon said, pointing out that statistics show that women still do five times more housework and childcare duties than men.India's Muslims see decline in fertility rateTo view this video please enable JavaScript, and consider upgrading to a web browser that supports HTML5 video\n",
      "\"In a situation where respect and consideration for women working across society have not yet taken root, managing both home and career smoothly is a challenging and stressful task for women.\"\n",
      "And the consequence of that, she points out, is that as gender education levels become more equal and women have more economic resources and choices in their occupation than in the past, they are discovering many ways to live without relying on men.\n",
      "\"Many women do not want to constrain their lives by choosing not only not to have children, but also not to get married,\" Kwon said.\n",
      "Aggressive efforts by recent South Korean governments to boost the birth rate — including additional benefits for families with multiple children and support for single-parent families — have clearly failed to turn the tide, Lee points out, and have had the unanticipated consequence of fueling resentment among men.\n",
      "\"They feel aggrieved that they have to complete mandatory military service and they argue that there is no equivalent obligation for women, yet women benefit from numerous supportive policies,\" she said.\n",
      "It was this sector of the voting public that in part secured Yoon Suk Yeol's victory in the presidential election of May 2022 after he vowed during the campaign to abolish the Ministry of Gender Equality and Family.\n",
      "Bleak birthrate outlook\n",
      "Both Lee and Kwon are pessimistic that South Korea's population crisis can be overcome, with Lee saying that young women appear to have no interest in responding to the nation's needs.\n",
      "\"There is a pervasive belief that issues of birth rates and social pressure are not their concern,\" she said. \"The younger generation's prevalent individualism means that social pressures are unlikely to aid in improving birth rates.\"\n",
      "Kwon echoes that assessment.\n",
      "\"Young women today have dissimilar perspectives about family, marriage, childbirth, community and the nation-state from previous generations.\n",
      "\"They are less entrapped by the ‘obligations of being a woman' imposed by patriarchal states, societies and households,\" she said.\n",
      "\"Currently it is not feasible for patriarchal structures to change overnight and, accordingly, it's also pessimistic to think that women will have children to increase Korea's birth rate.\"China's population shrinks for first time in decadesTo view this video please enable JavaScript, and consider upgrading to a web browser that supports HTML5 video\n",
      "Edited by: Keith Walker\n",
      "\n",
      "\n"
     ]
    }
   ],
   "source": [
    "# main text of article\n",
    "main_tag = soup.find(name = 'div', attrs = {'class' :'rich-text'})\n",
    "main_text = main_tag.text\n",
    "print(f'Main text is:\\n {main_text}')"
   ]
  },
  {
   "cell_type": "markdown",
   "metadata": {},
   "source": [
    "Related Topics"
   ]
  },
  {
   "cell_type": "code",
   "execution_count": 165,
   "metadata": {},
   "outputs": [
    {
     "name": "stdout",
     "output_type": "stream",
     "text": [
      "Related topics are: \n",
      " {'Minorities': 'https://www.dw.com/en/minorities/t-50781525', \"Women's rights\": 'https://www.dw.com/en/womens-rights/t-17455067', 'South Korea': 'https://www.dw.com/en/south-korea/t-63357867'}\n"
     ]
    }
   ],
   "source": [
    "# related topics \n",
    "related_topics_links = {}\n",
    "related_topics = soup.find('aside').findAll('a')\n",
    "for i in related_topics:\n",
    "    related_topics_links[i.text] = base_url + i.attrs['href']\n",
    "    \n",
    "print(f'Related topics are: \\n {related_topics_links}')\n"
   ]
  },
  {
   "cell_type": "markdown",
   "metadata": {},
   "source": [
    "Creating Dictionary"
   ]
  },
  {
   "cell_type": "code",
   "execution_count": 166,
   "metadata": {},
   "outputs": [],
   "source": [
    "#adding keys in dictionary \n",
    "website_data_dict = {}\n",
    "website_data_dict['author_name'] = author_name\n",
    "website_data_dict['date_of_article'] = date_of_article\n",
    "website_data_dict['title_of_article'] = title_text\n",
    "website_data_dict['summary'] = summary_text\n",
    "website_data_dict['main_text'] = main_text\n",
    "website_data_dict['related_topic'] = related_topics_links"
   ]
  },
  {
   "cell_type": "code",
   "execution_count": 167,
   "metadata": {},
   "outputs": [],
   "source": [
    "def prettify_dict(dictionary_input):\n",
    "    print(json.dumps(website_data_dict,sort_keys=True, indent=4))"
   ]
  },
  {
   "cell_type": "code",
   "execution_count": 168,
   "metadata": {},
   "outputs": [
    {
     "name": "stdout",
     "output_type": "stream",
     "text": [
      "The resulting dictionary is : \n",
      "\n",
      "{\n",
      "    \"author_name\": \"Julian Ryall\",\n",
      "    \"date_of_article\": \"03/01/2024\",\n",
      "    \"main_text\": \"When she was younger, Hyobin Lee yearned to be a mother. There came a point, however, when she had to make a difficult decision. Ultimately, she chose her career over a family and is now a successful academic in the South Korean city of Daejeon.\\nLee, now 44, is just one of millions of Korean women who are making a conscious decision to remain childless \\u2014 resulting in the nation's fertility rate dropping to a new record low.\\nThe fertility rate \\u2014 the average number of births per woman \\u2014 shrank to 0.72 last year, according to preliminary government statistics released on Wednesday, down from 0.78 in the previous year and continuing the gradual annual decline since 2015.\\nThat figure is well below the 2.1 children required to maintain South Korea's population, with the mere 230,000 children born last year hinting that the nation's total population is on course to fall to around 26 million \\u2014 half the current total \\u2014 by 2100.\\n\\nA dream of a son\\n\\\"When I was young, I dreamed of having a son who looked like me,\\\" Lee told DW. \\\"I wanted to play with him, to read together and show him much of the world. But I have come to realize that reality is not so simple.\\\"\\n\\\"I chose not to have children because of my career,\\\" she said. \\\"Having and raising a child would cause problem for my career and I fear I would resent the child for that reason. And as a consequence, both the child and I would be unhappy.\\\"South Korea's birth rate hits record lowTo view this video please enable JavaScript, and consider upgrading to a web browser that supports HTML5 video\\nA successful career in Korea's male-dominated society is one reason that many women give for opting to remain childless, but there are many more, Lee points out.\\n\\\"Economic issues play a significant role and despite various childbirth policies designed to support women, these measures are not functioning as intended,\\\" she said.\\nParental leave, for example, is by law available for both men and women, but it is overwhelmingly perceived and utilized by women.\\nJust 1.3% of Korean men use their parental leave entitlement, compared to an average of 43.4% across the 38 states of the Organization for Economic Cooperation and Development(OECD).\\nThis means that Korean companies are reluctant to hire young women as they fear that they will invest in training a new member of staff only for her to leave after she become pregnant and then focus on being a full-time mother rather than returning to the workforce.\\n\\\"In Korea, there is still a prevalent culture that believes bearing children and all aspects of childcare are solely the responsibility of women,\\\" Lee added. \\\"The challenge of simultaneously managing childbirth and childcare is so daunting that many women choose not to have children at all. This can be said for me as well.\\\"\\nJungmin Kwon, an associate professor at Portland State University in Oregon who specializes in East Asian popular culture, agrees that the pressures of South Korean society can be stifling.\\n\\\"According to many studies, significant factors include the cost and effort involved in childcare,\\\" she said.\\n\\\"Korea is famous for its extensive private education market and it is difficult to go against an atmosphere in which it is taken for granted that parents will spend a lot of money on various private education programs from a young age in order to compete with other children.\\\"\\nWomen bear the brunt of children\\n\\\"More importantly, in the current patriarchal culture, where women are expected to bear the majority of the mental and physical energy required to raise children, childbirth and childcare are challenging choices for women,\\\" Kwon said, pointing out that statistics show that women still do five times more housework and childcare duties than men.India's Muslims see decline in fertility rateTo view this video please enable JavaScript, and consider upgrading to a web browser that supports HTML5 video\\n\\\"In a situation where respect and consideration for women working across society have not yet taken root, managing both home and career smoothly is a challenging and stressful task for women.\\\"\\nAnd the consequence of that, she points out, is that as gender education levels become more equal and women have more economic resources and choices in their occupation than in the past, they are discovering many ways to live without relying on men.\\n\\\"Many women do not want to constrain their lives by choosing not only not to have children, but also not to get married,\\\" Kwon said.\\nAggressive efforts by recent South Korean governments to boost the birth rate \\u2014 including additional benefits for families with multiple children and support for single-parent families \\u2014 have clearly failed to turn the tide, Lee points out, and have had the unanticipated consequence of fueling resentment among men.\\n\\\"They feel aggrieved that they have to complete mandatory military service and they argue that there is no equivalent obligation for women, yet women benefit from numerous supportive policies,\\\" she said.\\nIt was this sector of the voting public that in part secured Yoon Suk Yeol's victory in the presidential election of May 2022 after he vowed during the campaign to abolish the Ministry of Gender Equality and Family.\\nBleak birthrate outlook\\nBoth Lee and Kwon are pessimistic that South Korea's population crisis can be overcome, with Lee saying that young women appear to have no interest in responding to the nation's needs.\\n\\\"There is a pervasive belief that issues of birth rates and social pressure are not their concern,\\\" she said. \\\"The younger generation's prevalent individualism means that social pressures are unlikely to aid in improving birth rates.\\\"\\nKwon echoes that assessment.\\n\\\"Young women today have dissimilar perspectives about family, marriage, childbirth, community and the nation-state from previous generations.\\n\\\"They are less entrapped by the \\u2018obligations of being a woman' imposed by patriarchal states, societies and households,\\\" she said.\\n\\\"Currently it is not feasible for patriarchal structures to change overnight and, accordingly, it's also pessimistic to think that women will have children to increase Korea's birth rate.\\\"China's population shrinks for first time in decadesTo view this video please enable JavaScript, and consider upgrading to a web browser that supports HTML5 video\\nEdited by: Keith Walker\\n\\n\",\n",
      "    \"related_topic\": {\n",
      "        \"Minorities\": \"https://www.dw.com/en/minorities/t-50781525\",\n",
      "        \"South Korea\": \"https://www.dw.com/en/south-korea/t-63357867\",\n",
      "        \"Women's rights\": \"https://www.dw.com/en/womens-rights/t-17455067\"\n",
      "    },\n",
      "    \"summary\": \"New statistics show a record low number of children were born last year in South Korea, with women citing a desire for a career and to push back against a male-dominated society as key reasons.\",\n",
      "    \"title_of_article\": \"Why South Korean women aren't having babies\"\n",
      "}\n"
     ]
    }
   ],
   "source": [
    "print(f'The resulting dictionary is : \\n')\n",
    "prettify_dict(website_data_dict)"
   ]
  },
  {
   "cell_type": "markdown",
   "metadata": {},
   "source": [
    "### Analyzing the article\n",
    "\n",
    "After analysing the data the following data can also be accessed:\n",
    "1. Social websites share article links\n",
    "2. Images link related to the article\n",
    "3. Videos link related to the articles\n",
    "4. Links related to some additional information inside paragraphs (for example: 'South korea')\n",
    "5. About the Author bio in journalism (background of author)\n",
    "6. Editing Author Name\n",
    "7. Images Name"
   ]
  },
  {
   "cell_type": "code",
   "execution_count": 169,
   "metadata": {},
   "outputs": [
    {
     "name": "stdout",
     "output_type": "stream",
     "text": [
      "Before splitting the title : External link — share this page with Facebook\n",
      "After splitting the title: Facebook\n",
      "Before splitting the title : External link — share this page with X / Twitter\n",
      "After splitting the title: X / Twitter\n",
      "\n",
      "Social Websites link are: \n",
      " {'Facebook': 'https://www.facebook.com/sharer/sharer.php?u=https://p.dw.com/p/4d4zN%3Fmaca%3Den-Facebook-sharing', 'X / Twitter': \"https://twitter.com/intent/tweet?source=webclient&text=Why%20South%20Korean%20women%20aren't%20having%20babies+https://p.dw.com/p/4d4zN%3Fmaca%3Den-Twitter-sharing\"}\n"
     ]
    }
   ],
   "source": [
    "# Collecting social websites link \n",
    "\n",
    "# always visible websites \n",
    "websites_icons = soup.select_one(\"div.always-visible\").find_all('a')\n",
    "\n",
    "social_websites_link = {}\n",
    "\n",
    "\n",
    "for w in websites_icons:\n",
    "\n",
    "    title = w.attrs['title']\n",
    "    print(f'Before splitting the title : {title}')\n",
    "\n",
    "    #extracting title from a string \n",
    "    title = title.split('—')[1].split('with')[1].strip()\n",
    "\n",
    "    print(f'After splitting the title: {title}')\n",
    "    \n",
    "    social_link = w.attrs['href']\n",
    "\n",
    "    social_websites_link[title] = social_link\n",
    "    \n",
    "\n",
    "\n",
    "print(f'\\nSocial Websites link are: \\n {social_websites_link}')\n",
    "\n"
   ]
  },
  {
   "cell_type": "code",
   "execution_count": 170,
   "metadata": {},
   "outputs": [
    {
     "name": "stdout",
     "output_type": "stream",
     "text": [
      "Images dictionary :\n",
      " {'A woman holding an umbrella crosses a road in central Seoul ': 'https://static.dw.com/image/68419984_600.jpg'}\n"
     ]
    }
   ],
   "source": [
    "# extracting first image\n",
    "images_dict = {}\n",
    "image = soup.select_one('picture').find('img')\n",
    "\n",
    "images_dict[image.attrs['title']] = image.attrs['srcset'].split(',')[0].split()[0]\n",
    "\n",
    "print(f'Images dictionary :\\n {images_dict}')\n"
   ]
  },
  {
   "cell_type": "markdown",
   "metadata": {},
   "source": [
    "Adding metadata in original dictionary "
   ]
  },
  {
   "cell_type": "code",
   "execution_count": 171,
   "metadata": {},
   "outputs": [],
   "source": [
    "website_data_dict['image'] = images_dict\n",
    "website_data_dict['social_website'] = social_websites_link"
   ]
  },
  {
   "cell_type": "markdown",
   "metadata": {},
   "source": [
    "### Printing Dictionary"
   ]
  },
  {
   "cell_type": "code",
   "execution_count": 172,
   "metadata": {},
   "outputs": [
    {
     "name": "stdout",
     "output_type": "stream",
     "text": [
      "The final dictionary with all data and metadata: \n",
      "\n",
      "{\n",
      "    \"author_name\": \"Julian Ryall\",\n",
      "    \"date_of_article\": \"03/01/2024\",\n",
      "    \"image\": {\n",
      "        \"A woman holding an umbrella crosses a road in central Seoul \": \"https://static.dw.com/image/68419984_600.jpg\"\n",
      "    },\n",
      "    \"main_text\": \"When she was younger, Hyobin Lee yearned to be a mother. There came a point, however, when she had to make a difficult decision. Ultimately, she chose her career over a family and is now a successful academic in the South Korean city of Daejeon.\\nLee, now 44, is just one of millions of Korean women who are making a conscious decision to remain childless \\u2014 resulting in the nation's fertility rate dropping to a new record low.\\nThe fertility rate \\u2014 the average number of births per woman \\u2014 shrank to 0.72 last year, according to preliminary government statistics released on Wednesday, down from 0.78 in the previous year and continuing the gradual annual decline since 2015.\\nThat figure is well below the 2.1 children required to maintain South Korea's population, with the mere 230,000 children born last year hinting that the nation's total population is on course to fall to around 26 million \\u2014 half the current total \\u2014 by 2100.\\n\\nA dream of a son\\n\\\"When I was young, I dreamed of having a son who looked like me,\\\" Lee told DW. \\\"I wanted to play with him, to read together and show him much of the world. But I have come to realize that reality is not so simple.\\\"\\n\\\"I chose not to have children because of my career,\\\" she said. \\\"Having and raising a child would cause problem for my career and I fear I would resent the child for that reason. And as a consequence, both the child and I would be unhappy.\\\"South Korea's birth rate hits record lowTo view this video please enable JavaScript, and consider upgrading to a web browser that supports HTML5 video\\nA successful career in Korea's male-dominated society is one reason that many women give for opting to remain childless, but there are many more, Lee points out.\\n\\\"Economic issues play a significant role and despite various childbirth policies designed to support women, these measures are not functioning as intended,\\\" she said.\\nParental leave, for example, is by law available for both men and women, but it is overwhelmingly perceived and utilized by women.\\nJust 1.3% of Korean men use their parental leave entitlement, compared to an average of 43.4% across the 38 states of the Organization for Economic Cooperation and Development(OECD).\\nThis means that Korean companies are reluctant to hire young women as they fear that they will invest in training a new member of staff only for her to leave after she become pregnant and then focus on being a full-time mother rather than returning to the workforce.\\n\\\"In Korea, there is still a prevalent culture that believes bearing children and all aspects of childcare are solely the responsibility of women,\\\" Lee added. \\\"The challenge of simultaneously managing childbirth and childcare is so daunting that many women choose not to have children at all. This can be said for me as well.\\\"\\nJungmin Kwon, an associate professor at Portland State University in Oregon who specializes in East Asian popular culture, agrees that the pressures of South Korean society can be stifling.\\n\\\"According to many studies, significant factors include the cost and effort involved in childcare,\\\" she said.\\n\\\"Korea is famous for its extensive private education market and it is difficult to go against an atmosphere in which it is taken for granted that parents will spend a lot of money on various private education programs from a young age in order to compete with other children.\\\"\\nWomen bear the brunt of children\\n\\\"More importantly, in the current patriarchal culture, where women are expected to bear the majority of the mental and physical energy required to raise children, childbirth and childcare are challenging choices for women,\\\" Kwon said, pointing out that statistics show that women still do five times more housework and childcare duties than men.India's Muslims see decline in fertility rateTo view this video please enable JavaScript, and consider upgrading to a web browser that supports HTML5 video\\n\\\"In a situation where respect and consideration for women working across society have not yet taken root, managing both home and career smoothly is a challenging and stressful task for women.\\\"\\nAnd the consequence of that, she points out, is that as gender education levels become more equal and women have more economic resources and choices in their occupation than in the past, they are discovering many ways to live without relying on men.\\n\\\"Many women do not want to constrain their lives by choosing not only not to have children, but also not to get married,\\\" Kwon said.\\nAggressive efforts by recent South Korean governments to boost the birth rate \\u2014 including additional benefits for families with multiple children and support for single-parent families \\u2014 have clearly failed to turn the tide, Lee points out, and have had the unanticipated consequence of fueling resentment among men.\\n\\\"They feel aggrieved that they have to complete mandatory military service and they argue that there is no equivalent obligation for women, yet women benefit from numerous supportive policies,\\\" she said.\\nIt was this sector of the voting public that in part secured Yoon Suk Yeol's victory in the presidential election of May 2022 after he vowed during the campaign to abolish the Ministry of Gender Equality and Family.\\nBleak birthrate outlook\\nBoth Lee and Kwon are pessimistic that South Korea's population crisis can be overcome, with Lee saying that young women appear to have no interest in responding to the nation's needs.\\n\\\"There is a pervasive belief that issues of birth rates and social pressure are not their concern,\\\" she said. \\\"The younger generation's prevalent individualism means that social pressures are unlikely to aid in improving birth rates.\\\"\\nKwon echoes that assessment.\\n\\\"Young women today have dissimilar perspectives about family, marriage, childbirth, community and the nation-state from previous generations.\\n\\\"They are less entrapped by the \\u2018obligations of being a woman' imposed by patriarchal states, societies and households,\\\" she said.\\n\\\"Currently it is not feasible for patriarchal structures to change overnight and, accordingly, it's also pessimistic to think that women will have children to increase Korea's birth rate.\\\"China's population shrinks for first time in decadesTo view this video please enable JavaScript, and consider upgrading to a web browser that supports HTML5 video\\nEdited by: Keith Walker\\n\\n\",\n",
      "    \"related_topic\": {\n",
      "        \"Minorities\": \"https://www.dw.com/en/minorities/t-50781525\",\n",
      "        \"South Korea\": \"https://www.dw.com/en/south-korea/t-63357867\",\n",
      "        \"Women's rights\": \"https://www.dw.com/en/womens-rights/t-17455067\"\n",
      "    },\n",
      "    \"social_website\": {\n",
      "        \"Facebook\": \"https://www.facebook.com/sharer/sharer.php?u=https://p.dw.com/p/4d4zN%3Fmaca%3Den-Facebook-sharing\",\n",
      "        \"X / Twitter\": \"https://twitter.com/intent/tweet?source=webclient&text=Why%20South%20Korean%20women%20aren't%20having%20babies+https://p.dw.com/p/4d4zN%3Fmaca%3Den-Twitter-sharing\"\n",
      "    },\n",
      "    \"summary\": \"New statistics show a record low number of children were born last year in South Korea, with women citing a desire for a career and to push back against a male-dominated society as key reasons.\",\n",
      "    \"title_of_article\": \"Why South Korean women aren't having babies\"\n",
      "}\n"
     ]
    }
   ],
   "source": [
    "print(f\"The final dictionary with all data and metadata: \\n\")\n",
    "\n",
    "prettify_dict(website_data_dict)"
   ]
  },
  {
   "cell_type": "markdown",
   "metadata": {},
   "source": [
    "## Excercise 2"
   ]
  },
  {
   "cell_type": "markdown",
   "metadata": {},
   "source": [
    "### Extracting Information for articles on date 01.03.2024"
   ]
  },
  {
   "cell_type": "code",
   "execution_count": 173,
   "metadata": {},
   "outputs": [],
   "source": [
    "import selenium\n",
    "from selenium import webdriver\n",
    "from selenium.webdriver.common.by import By  \n",
    "import time\n",
    "import pandas as pd"
   ]
  },
  {
   "cell_type": "markdown",
   "metadata": {},
   "source": [
    "Chrome Engine Opening "
   ]
  },
  {
   "cell_type": "code",
   "execution_count": 174,
   "metadata": {},
   "outputs": [],
   "source": [
    "search_url = 'https://www.dw.com/search/?languageCode=en'\n",
    "driver = webdriver.Chrome()\n",
    "driver.get(search_url)\n",
    "driver.maximize_window()"
   ]
  },
  {
   "cell_type": "markdown",
   "metadata": {},
   "source": [
    "Selecting Media Type as Article"
   ]
  },
  {
   "cell_type": "code",
   "execution_count": 175,
   "metadata": {},
   "outputs": [],
   "source": [
    "article_css_selector = '#searchType > a:nth-child(5)'\n",
    "article_media = driver.find_element(By.CSS_SELECTOR,article_css_selector)\n",
    "article_media.click()"
   ]
  },
  {
   "cell_type": "markdown",
   "metadata": {},
   "source": [
    "Selecting dates from 01.03.2024 to 01.03.2024"
   ]
  },
  {
   "cell_type": "code",
   "execution_count": 176,
   "metadata": {},
   "outputs": [],
   "source": [
    "month_to_select = 'March'\n",
    "year_to_select = '2024'\n",
    "day_to_select = '1'\n",
    "\n",
    "month_from_select = 'March'\n",
    "year_from_select = '2024'\n",
    "day_from_select = '1'\n",
    "\n",
    "months_list = ['January', 'February', 'March', 'April', 'May', 'June', 'July', 'August', 'September', 'October', 'November', 'December']"
   ]
  },
  {
   "cell_type": "code",
   "execution_count": 177,
   "metadata": {},
   "outputs": [
    {
     "name": "stdout",
     "output_type": "stream",
     "text": [
      "The current Month is: April\n",
      "The current Year is: 2024\n"
     ]
    }
   ],
   "source": [
    "#selecting from date input field\n",
    "date_from_id = 'dateFrom'\n",
    "date_from_element = driver.find_element(By.ID, date_from_id)\n",
    "date_from_element.click()\n",
    "\n",
    "\n",
    "#selecting the calendar div \n",
    "calendar_div_id = 'ui-datepicker-div'\n",
    "calendar = driver.find_element(By.ID, calendar_div_id)\n",
    "\n",
    "# selecting the month year div\n",
    "month_year_class = 'ui-datepicker-title'\n",
    "month_year = driver.find_element(By.CLASS_NAME, month_year_class)\n",
    "\n",
    "\n",
    "current_month_from = month_year.text.split()[0]\n",
    "current_year_from = month_year.text.split()[1]\n",
    "\n",
    "print(f\"The current Month is: {current_month_from}\")\n",
    "print(f\"The current Year is: {current_year_from}\")\n"
   ]
  },
  {
   "cell_type": "code",
   "execution_count": 178,
   "metadata": {},
   "outputs": [],
   "source": [
    "def selecting_date(month_to_select, year_to_select, day_to_select, current_year, current_month):\n",
    "    while (current_month + current_year) != (month_to_select + year_to_select):\n",
    "        if (current_year < year_to_select) :\n",
    "            next_button  = driver.find_element(By.XPATH, '//*[@id=\"ui-datepicker-div\"]/div/a[2]')\n",
    "            next_button.click()\n",
    "            current_year = driver.find_element(By.CLASS_NAME, 'ui-datepicker-year').text\n",
    "            current_month = driver.find_element(By.CLASS_NAME, 'ui-datepicker-month').text\n",
    "            if current_month + current_year == month_to_select + year_to_select:\n",
    "                break\n",
    "        elif current_year > year_to_select:\n",
    "             previous_button = driver.find_element(By.XPATH, '//*[@id=\"ui-datepicker-div\"]/div/a[1]')\n",
    "             previous_button.click()\n",
    "             current_year = driver.find_element(By.CLASS_NAME, 'ui-datepicker-year').text\n",
    "             current_month = driver.find_element(By.CLASS_NAME, 'ui-datepicker-month').text\n",
    "             if  current_month + current_year == month_to_select + year_to_select:\n",
    "                break\n",
    "        elif months_list.index(current_month) < months_list.index(month_to_select):\n",
    "            next_button  = driver.find_element(By.XPATH, '//*[@id=\"ui-datepicker-div\"]/div/a[2]')\n",
    "            next_button.click()\n",
    "            current_year = driver.find_element(By.CLASS_NAME, 'ui-datepicker-year').text\n",
    "            current_month = driver.find_element(By.CLASS_NAME, 'ui-datepicker-month').text\n",
    "            if current_month + current_year == month_to_select + year_to_select:\n",
    "                break\n",
    "        elif months_list.index(current_month) > months_list.index(month_to_select):\n",
    "             previous_button = driver.find_element(By.XPATH, '//*[@id=\"ui-datepicker-div\"]/div/a[1]')\n",
    "             previous_button.click()\n",
    "             current_year = driver.find_element(By.CLASS_NAME, 'ui-datepicker-year').text\n",
    "             current_month = driver.find_element(By.CLASS_NAME, 'ui-datepicker-month').text\n",
    "             if current_month + current_year == month_to_select + year_to_select:\n",
    "                break\n",
    "        else:\n",
    "            break\n",
    "\n",
    "    #setting date on the calendar \n",
    "    calendar_table =driver.find_element(By.CSS_SELECTOR, '#ui-datepicker-div > table > tbody')\n",
    "    rows = calendar_table.find_elements(By.TAG_NAME, \"tr\")\n",
    "    for row in rows:\n",
    "        cells = row.find_elements(By.TAG_NAME,\"a\")\n",
    "        for cell in cells:\n",
    "            if cell.text == day_to_select:\n",
    "                cell.click()  \n",
    "                break  \n"
   ]
  },
  {
   "cell_type": "code",
   "execution_count": 179,
   "metadata": {},
   "outputs": [],
   "source": [
    "# selecting from date\n",
    "selecting_date(month_to_select=month_from_select, year_to_select=year_from_select, day_to_select=day_from_select, current_month=current_month_from, current_year=current_year_from)"
   ]
  },
  {
   "cell_type": "code",
   "execution_count": 180,
   "metadata": {},
   "outputs": [
    {
     "name": "stdout",
     "output_type": "stream",
     "text": [
      "The current Month to is: April\n",
      "The current Year to is: 2024\n"
     ]
    }
   ],
   "source": [
    "#selecting date-to input field\n",
    "date_to_id = 'dateTo'\n",
    "date_to_element = driver.find_element(By.ID, date_to_id)\n",
    "date_to_element.click()\n",
    "\n",
    "\n",
    "#selecting the calendar div \n",
    "calendar_div_id = 'ui-datepicker-div'\n",
    "calendar = driver.find_element(By.ID, calendar_div_id)\n",
    "\n",
    "# selecting the month year div\n",
    "month_year_class = 'ui-datepicker-title'\n",
    "month_year_to = driver.find_element(By.CLASS_NAME, month_year_class)\n",
    "\n",
    "\n",
    "current_month_to = month_year_to.text.split()[0]\n",
    "current_year_to = month_year_to.text.split()[1]\n",
    "\n",
    "print(f\"The current Month to is: {current_month_to}\")\n",
    "print(f\"The current Year to is: {current_year_to}\")"
   ]
  },
  {
   "cell_type": "code",
   "execution_count": 181,
   "metadata": {},
   "outputs": [],
   "source": [
    "# selecting to date\n",
    "selecting_date(month_to_select=month_to_select, year_to_select=year_to_select, day_to_select=day_to_select, current_year=current_year_to, current_month=current_month_to)"
   ]
  },
  {
   "cell_type": "markdown",
   "metadata": {},
   "source": [
    "Extracting articles details "
   ]
  },
  {
   "cell_type": "code",
   "execution_count": 182,
   "metadata": {},
   "outputs": [],
   "source": [
    "#dataframe for articles\n",
    "articles_dataframe = pd.DataFrame()\n",
    "\n",
    "#dataframe for article details\n",
    "main_dataframe = pd.DataFrame()\n",
    "\n",
    "#setting the col width of dataframe to max\n",
    "pd.set_option('display.max_colwidth', 200)\n"
   ]
  },
  {
   "cell_type": "markdown",
   "metadata": {},
   "source": [
    "Checking Pagination"
   ]
  },
  {
   "cell_type": "code",
   "execution_count": 183,
   "metadata": {},
   "outputs": [],
   "source": [
    "show_more = driver.find_elements(By.XPATH, '//*[@id=\"searchResult\"]/a')\n",
    "if len(show_more) > 0:\n",
    "    more_pages = True\n",
    "else:\n",
    "    more_pages = False"
   ]
  },
  {
   "cell_type": "code",
   "execution_count": 184,
   "metadata": {},
   "outputs": [],
   "source": [
    "while more_pages:\n",
    "    \n",
    "       if len(show_more) > 0:\n",
    "              show_more = driver.find_elements(By.XPATH, '//*[@id=\"searchResult\"]/a')\n",
    "              driver.execute_script(\"arguments[0].click();\", show_more[0])\n",
    "              time.sleep(3)\n",
    "              show_more = driver.find_elements(By.XPATH, '//*[@id=\"searchResult\"]/a')\n",
    "              if len(show_more) == 0:\n",
    "                     more_pages = False\n",
    "                     break\n",
    "              \n",
    "       else:\n",
    "              print(f\"Length first {len(show_more)}\")\n",
    "              more_pages = False\n",
    "              break\n",
    "    "
   ]
  },
  {
   "cell_type": "markdown",
   "metadata": {},
   "source": [
    "Searching through whole list"
   ]
  },
  {
   "cell_type": "code",
   "execution_count": 185,
   "metadata": {},
   "outputs": [],
   "source": [
    "para_list_class = 'searchResult'\n",
    "para_list = driver.find_elements(By.CLASS_NAME, para_list_class)\n",
    "\n",
    "\n",
    "for i in range(len(para_list)):\n",
    "         \n",
    "    #getting heading\n",
    "    para_heading = para_list[i].find_element(By.TAG_NAME, 'h2').text\n",
    "    span_heading =  para_list[i].find_element(By.TAG_NAME, 'span').text\n",
    "    para_heading = para_heading.replace(span_heading,\"\")\n",
    "    articles_dataframe.loc[i, 'title']= str(para_heading)\n",
    "    \n",
    "    #getting two liners\n",
    "    para_two_liner = para_list[i].find_element(By.TAG_NAME, 'p').text\n",
    "    articles_dataframe.loc[i,'detail'] = str(para_two_liner)\n",
    "\n",
    "    #getting images \n",
    "    para_img = para_list[i].find_element(By.TAG_NAME, 'img').get_attribute('src')\n",
    "    articles_dataframe.loc[i,'image'] = str(para_img)\n",
    "\n",
    "    # Getting Urls\n",
    "    para_url = para_list[i].find_element(By.TAG_NAME, 'a').get_attribute('href')\n",
    "    articles_dataframe.loc[i,'article_url'] = str(para_url)\n",
    "\n",
    "    \n",
    "    \n",
    "            "
   ]
  },
  {
   "cell_type": "markdown",
   "metadata": {},
   "source": [
    "Articles Dataframe"
   ]
  },
  {
   "cell_type": "code",
   "execution_count": 186,
   "metadata": {},
   "outputs": [
    {
     "name": "stdout",
     "output_type": "stream",
     "text": [
      "Number of Rows : 24\n",
      "Number of Cols : 4\n"
     ]
    },
    {
     "data": {
      "text/html": [
       "<div>\n",
       "<style scoped>\n",
       "    .dataframe tbody tr th:only-of-type {\n",
       "        vertical-align: middle;\n",
       "    }\n",
       "\n",
       "    .dataframe tbody tr th {\n",
       "        vertical-align: top;\n",
       "    }\n",
       "\n",
       "    .dataframe thead th {\n",
       "        text-align: right;\n",
       "    }\n",
       "</style>\n",
       "<table border=\"1\" class=\"dataframe\">\n",
       "  <thead>\n",
       "    <tr style=\"text-align: right;\">\n",
       "      <th></th>\n",
       "      <th>title</th>\n",
       "      <th>detail</th>\n",
       "      <th>image</th>\n",
       "      <th>article_url</th>\n",
       "    </tr>\n",
       "  </thead>\n",
       "  <tbody>\n",
       "    <tr>\n",
       "      <th>0</th>\n",
       "      <td>Apple pulls the plug on its self-driving e-car project</td>\n",
       "      <td>Apple has ended its decadelong autonomous vehicle effort, known as Project Titan. The stock market breathed a sigh of relief in response, with insiders pointing to areas where Apple should redoubl...</td>\n",
       "      <td>https://static.dw.com/image/66794208_305.webp</td>\n",
       "      <td>https://www.dw.com/en/apple-pulls-the-plug-on-its-self-driving-e-car-project/a-68421710</td>\n",
       "    </tr>\n",
       "    <tr>\n",
       "      <th>1</th>\n",
       "      <td>Iran elections: Low turnout in parliamentary vote</td>\n",
       "      <td>Iran's parliamentary elections saw low voter turnout as candidates competed for a seat in the 290-member parliament. New members of Iran's Assembly of Experts were also to be elected.</td>\n",
       "      <td>https://static.dw.com/image/68412824_305.webp</td>\n",
       "      <td>https://www.dw.com/en/iran-elections-low-turnout-in-parliamentary-vote/a-68412885</td>\n",
       "    </tr>\n",
       "    <tr>\n",
       "      <th>2</th>\n",
       "      <td>Germany: Tesla plant protesters to spend week in forest</td>\n",
       "      <td>Treehouses and a piano concert in the woods: Activists protesting against a Tesla factory expansion near Berlin said they intend to stay in a forest for a week. The police keep a low profile.</td>\n",
       "      <td>https://static.dw.com/image/68404578_305.webp</td>\n",
       "      <td>https://www.dw.com/en/germany-tesla-plant-protesters-to-spend-week-in-forest/a-68422841</td>\n",
       "    </tr>\n",
       "    <tr>\n",
       "      <th>3</th>\n",
       "      <td>Nicaragua says Germany facilitates genocide by aiding Israel</td>\n",
       "      <td>Nicaragua has filed a case at the International Court of Justice against Germany for financial and military support it provides to Israel. A hearing could take place within weeks.</td>\n",
       "      <td>https://static.dw.com/image/68138344_305.webp</td>\n",
       "      <td>https://www.dw.com/en/nicaragua-says-germany-facilitates-genocide-by-aiding-israel/a-68422846</td>\n",
       "    </tr>\n",
       "    <tr>\n",
       "      <th>4</th>\n",
       "      <td>Why some African countries have strange shapes</td>\n",
       "      <td>Arbitrary boundaries were drawn on maps to separate European colonies in Africa. Most of those lines drawn on a Berlin Conference table between 1884 and 1885 are still in place today – with deadly...</td>\n",
       "      <td>https://static.dw.com/image/51539775_305.webp</td>\n",
       "      <td>https://www.dw.com/en/why-some-african-countries-have-strange-shapes/a-67624254</td>\n",
       "    </tr>\n",
       "    <tr>\n",
       "      <th>5</th>\n",
       "      <td>Why South Korean women aren't having babies</td>\n",
       "      <td>New statistics show a record low number of children were born last year in South Korea, with women citing a desire for a career and to push back against a male-dominated society as key reasons.</td>\n",
       "      <td>https://static.dw.com/image/68419984_305.webp</td>\n",
       "      <td>https://www.dw.com/en/why-south-korean-women-arent-having-babies/a-68419317</td>\n",
       "    </tr>\n",
       "    <tr>\n",
       "      <th>6</th>\n",
       "      <td>Navalny buried at Moscow cemetery after prison death</td>\n",
       "      <td>Crowds chanted \"Navalny, Navalny!\" as his coffin was carried into the church for his funeral service. Proceedings had taken place amid a heavy security presence and warnings that protests would no...</td>\n",
       "      <td>https://static.dw.com/image/68417403_305.webp</td>\n",
       "      <td>https://www.dw.com/en/navalny-buried-at-moscow-cemetery-after-prison-death/a-68412409</td>\n",
       "    </tr>\n",
       "    <tr>\n",
       "      <th>7</th>\n",
       "      <td>Transnistria: Will Russia's next war be in Moldova?</td>\n",
       "      <td>Moldova's breakaway region of Transnistria has asked Moscow for protection. Although President Putin made no mention of the appeal in his annual address to the nation, is Russia's next war imminent?</td>\n",
       "      <td>https://static.dw.com/image/66201775_305.webp</td>\n",
       "      <td>https://www.dw.com/en/transnistria-will-russias-next-war-be-in-moldova/a-68418058</td>\n",
       "    </tr>\n",
       "    <tr>\n",
       "      <th>8</th>\n",
       "      <td>New species of green anaconda identified in Amazon</td>\n",
       "      <td>Researchers have shown that two genetically very different types of green anaconda exist in the Amazon. The two species appear virtually identical, meaning their genetic divergence had not been no...</td>\n",
       "      <td>https://static.dw.com/image/68417231_305.webp</td>\n",
       "      <td>https://www.dw.com/en/new-species-of-green-anaconda-identified-in-amazon/a-68417173</td>\n",
       "    </tr>\n",
       "    <tr>\n",
       "      <th>9</th>\n",
       "      <td>Decoding China: National People's Congress meets at bad time</td>\n",
       "      <td>China's economy is spluttering, as nearly 3,000 lawmakers are set to meet in Beijing for the National People's Congress. Prime Minister Li Qiang will face some tough questions.</td>\n",
       "      <td>https://static.dw.com/image/67309353_305.webp</td>\n",
       "      <td>https://www.dw.com/en/china-national-peoples-congress-meets-economic-recovery/a-68417995</td>\n",
       "    </tr>\n",
       "  </tbody>\n",
       "</table>\n",
       "</div>"
      ],
      "text/plain": [
       "                                                           title  \\\n",
       "0        Apple pulls the plug on its self-driving e-car project    \n",
       "1             Iran elections: Low turnout in parliamentary vote    \n",
       "2       Germany: Tesla plant protesters to spend week in forest    \n",
       "3  Nicaragua says Germany facilitates genocide by aiding Israel    \n",
       "4                Why some African countries have strange shapes    \n",
       "5                   Why South Korean women aren't having babies    \n",
       "6          Navalny buried at Moscow cemetery after prison death    \n",
       "7           Transnistria: Will Russia's next war be in Moldova?    \n",
       "8            New species of green anaconda identified in Amazon    \n",
       "9  Decoding China: National People's Congress meets at bad time    \n",
       "\n",
       "                                                                                                                                                                                                    detail  \\\n",
       "0  Apple has ended its decadelong autonomous vehicle effort, known as Project Titan. The stock market breathed a sigh of relief in response, with insiders pointing to areas where Apple should redoubl...   \n",
       "1                  Iran's parliamentary elections saw low voter turnout as candidates competed for a seat in the 290-member parliament. New members of Iran's Assembly of Experts were also to be elected.   \n",
       "2          Treehouses and a piano concert in the woods: Activists protesting against a Tesla factory expansion near Berlin said they intend to stay in a forest for a week. The police keep a low profile.   \n",
       "3                      Nicaragua has filed a case at the International Court of Justice against Germany for financial and military support it provides to Israel. A hearing could take place within weeks.   \n",
       "4  Arbitrary boundaries were drawn on maps to separate European colonies in Africa. Most of those lines drawn on a Berlin Conference table between 1884 and 1885 are still in place today – with deadly...   \n",
       "5        New statistics show a record low number of children were born last year in South Korea, with women citing a desire for a career and to push back against a male-dominated society as key reasons.   \n",
       "6  Crowds chanted \"Navalny, Navalny!\" as his coffin was carried into the church for his funeral service. Proceedings had taken place amid a heavy security presence and warnings that protests would no...   \n",
       "7   Moldova's breakaway region of Transnistria has asked Moscow for protection. Although President Putin made no mention of the appeal in his annual address to the nation, is Russia's next war imminent?   \n",
       "8  Researchers have shown that two genetically very different types of green anaconda exist in the Amazon. The two species appear virtually identical, meaning their genetic divergence had not been no...   \n",
       "9                         China's economy is spluttering, as nearly 3,000 lawmakers are set to meet in Beijing for the National People's Congress. Prime Minister Li Qiang will face some tough questions.   \n",
       "\n",
       "                                           image  \\\n",
       "0  https://static.dw.com/image/66794208_305.webp   \n",
       "1  https://static.dw.com/image/68412824_305.webp   \n",
       "2  https://static.dw.com/image/68404578_305.webp   \n",
       "3  https://static.dw.com/image/68138344_305.webp   \n",
       "4  https://static.dw.com/image/51539775_305.webp   \n",
       "5  https://static.dw.com/image/68419984_305.webp   \n",
       "6  https://static.dw.com/image/68417403_305.webp   \n",
       "7  https://static.dw.com/image/66201775_305.webp   \n",
       "8  https://static.dw.com/image/68417231_305.webp   \n",
       "9  https://static.dw.com/image/67309353_305.webp   \n",
       "\n",
       "                                                                                     article_url  \n",
       "0        https://www.dw.com/en/apple-pulls-the-plug-on-its-self-driving-e-car-project/a-68421710  \n",
       "1              https://www.dw.com/en/iran-elections-low-turnout-in-parliamentary-vote/a-68412885  \n",
       "2        https://www.dw.com/en/germany-tesla-plant-protesters-to-spend-week-in-forest/a-68422841  \n",
       "3  https://www.dw.com/en/nicaragua-says-germany-facilitates-genocide-by-aiding-israel/a-68422846  \n",
       "4                https://www.dw.com/en/why-some-african-countries-have-strange-shapes/a-67624254  \n",
       "5                    https://www.dw.com/en/why-south-korean-women-arent-having-babies/a-68419317  \n",
       "6          https://www.dw.com/en/navalny-buried-at-moscow-cemetery-after-prison-death/a-68412409  \n",
       "7              https://www.dw.com/en/transnistria-will-russias-next-war-be-in-moldova/a-68418058  \n",
       "8            https://www.dw.com/en/new-species-of-green-anaconda-identified-in-amazon/a-68417173  \n",
       "9       https://www.dw.com/en/china-national-peoples-congress-meets-economic-recovery/a-68417995  "
      ]
     },
     "execution_count": 186,
     "metadata": {},
     "output_type": "execute_result"
    }
   ],
   "source": [
    "print(f\"Number of Rows : {articles_dataframe.shape[0]}\")\n",
    "print(f\"Number of Cols : {articles_dataframe.shape[1]}\")\n",
    "articles_dataframe.head(10)"
   ]
  },
  {
   "cell_type": "markdown",
   "metadata": {},
   "source": [
    "Creating Main dataframes"
   ]
  },
  {
   "cell_type": "code",
   "execution_count": 187,
   "metadata": {},
   "outputs": [],
   "source": [
    "main_topics = []\n",
    "for j in range(len(articles_dataframe['article_url'])):\n",
    "    html_article = requests.get(articles_dataframe['article_url'][j]).text\n",
    "    soup_article = BeautifulSoup(html_article, 'html.parser')\n",
    "    \n",
    "    #authors \n",
    "    if soup_article.find(name = 'div', attrs={'class': 'author-details'}):\n",
    "       main_dataframe.loc[j,'author'] = soup_article.find(name = 'div', attrs={'class': 'author-details'}).text\n",
    "       \n",
    "    else:\n",
    "        main_dataframe.loc[j,'author'] = None\n",
    "      \n",
    "    \n",
    "    #dates\n",
    "    if soup_article.find('time'):\n",
    "        main_dataframe.loc[j,'date'] = soup_article.find('time').text\n",
    "        \n",
    "    else:\n",
    "        main_dataframe.loc[j,'date'] = None\n",
    "        \n",
    "    #summary\n",
    "    if soup_article.find('p', attrs={'class':'teaser-text'}):\n",
    "       main_dataframe.loc[j,'summary'] = soup_article.find('p', attrs={'class':'teaser-text'}).text\n",
    "    else:\n",
    "       main_dataframe.loc[j,'summary'] = None\n",
    "      \n",
    "    #titles\n",
    "    if soup_article.find('h1', attrs={'class': 'jzOpwm'}):\n",
    "        main_dataframe.loc[j, 'title'] = soup_article.find('h1', attrs={'class': 'jzOpwm'}).text\n",
    "    else:\n",
    "        main_dataframe.loc[j, 'title'] = None\n",
    "    \n",
    "\n",
    "    #main text\n",
    "    if soup_article.find('div', attrs={'class':'rich-text'}):\n",
    "        main_dataframe.loc[j,'main_text'] = soup_article.find('div', attrs={'class':'rich-text'}).text\n",
    "    else:\n",
    "        main_dataframe.loc[j,'main_text'] = None\n",
    "\n",
    "\n",
    "    # topics\n",
    "    if soup_article.find('aside'):\n",
    "        topics = []\n",
    "        for i in soup_article.find('aside').findAll('a'):\n",
    "            topics.append(i.text)\n",
    "        main_topics.append(topics)\n",
    "    else:\n",
    "        main_topics.append([None])\n",
    "\n",
    "    "
   ]
  },
  {
   "cell_type": "code",
   "execution_count": 188,
   "metadata": {},
   "outputs": [],
   "source": [
    "main_dataframe['topics'] = main_topics"
   ]
  },
  {
   "cell_type": "markdown",
   "metadata": {},
   "source": [
    "Shape of Dataframe and first five row"
   ]
  },
  {
   "cell_type": "code",
   "execution_count": 189,
   "metadata": {},
   "outputs": [
    {
     "name": "stdout",
     "output_type": "stream",
     "text": [
      "Shape of Dataframe is (24, 6)\n",
      "Number of rows : 24 \n",
      "Number of cols : 6 \n"
     ]
    }
   ],
   "source": [
    "print(f\"Shape of Dataframe is {main_dataframe.shape}\")\n",
    "print(f\"Number of rows : {main_dataframe.shape[0]} \")\n",
    "print(f\"Number of cols : {main_dataframe.shape[1]} \")"
   ]
  },
  {
   "cell_type": "code",
   "execution_count": 190,
   "metadata": {},
   "outputs": [
    {
     "data": {
      "text/html": [
       "<div>\n",
       "<style scoped>\n",
       "    .dataframe tbody tr th:only-of-type {\n",
       "        vertical-align: middle;\n",
       "    }\n",
       "\n",
       "    .dataframe tbody tr th {\n",
       "        vertical-align: top;\n",
       "    }\n",
       "\n",
       "    .dataframe thead th {\n",
       "        text-align: right;\n",
       "    }\n",
       "</style>\n",
       "<table border=\"1\" class=\"dataframe\">\n",
       "  <thead>\n",
       "    <tr style=\"text-align: right;\">\n",
       "      <th></th>\n",
       "      <th>author</th>\n",
       "      <th>date</th>\n",
       "      <th>summary</th>\n",
       "      <th>title</th>\n",
       "      <th>main_text</th>\n",
       "      <th>topics</th>\n",
       "    </tr>\n",
       "  </thead>\n",
       "  <tbody>\n",
       "    <tr>\n",
       "      <th>0</th>\n",
       "      <td>Dirk Kaufmann</td>\n",
       "      <td>03/01/2024</td>\n",
       "      <td>Apple has ended its decadelong autonomous vehicle effort, known as Project Titan. The stock market breathed a sigh of relief in response, with insiders pointing to areas where Apple should redoubl...</td>\n",
       "      <td>Apple pulls the plug on its self-driving e-car project</td>\n",
       "      <td>Traditional car manufacturers in Europe, Asia and the US face a number of problems, some of them of their own making. To make matters worse, the creeping concern that tech companies could crowd le...</td>\n",
       "      <td>[Electric vehicles, Apple, Artificial intelligence]</td>\n",
       "    </tr>\n",
       "    <tr>\n",
       "      <th>1</th>\n",
       "      <td>None</td>\n",
       "      <td>03/01/2024</td>\n",
       "      <td>Iran's parliamentary elections saw low voter turnout as candidates competed for a seat in the 290-member parliament. New members of Iran's Assembly of Experts were also to be elected.</td>\n",
       "      <td>Iran elections: Low turnout in parliamentary vote</td>\n",
       "      <td>Iran held its first parliamentary elections since mass protests swept the Islamic Republic in 2022, triggered by the death of Jina Mahsa Amini while in custody.\\n\"Voting for the 12th term of the I...</td>\n",
       "      <td>[Iran protests, Jina Mahsa Amini, Iran]</td>\n",
       "    </tr>\n",
       "    <tr>\n",
       "      <th>2</th>\n",
       "      <td>None</td>\n",
       "      <td>03/01/2024</td>\n",
       "      <td>Treehouses and a piano concert in the woods: Activists protesting against a Tesla factory expansion near Berlin said they intend to stay in a forest for a week. The police keep a low profile.</td>\n",
       "      <td>Germany: Tesla plant protesters to spend week in forest</td>\n",
       "      <td>Environmental activists protesting the expansion of US electric carmaker Tesla's factory outside Berlin said they plan to occupy the forest near the factory for a week. \\n\"The longer the occupatio...</td>\n",
       "      <td>[Rhine River, Poverty in Germany, Greta Thunberg, Robert Habeck, Germany]</td>\n",
       "    </tr>\n",
       "    <tr>\n",
       "      <th>3</th>\n",
       "      <td>None</td>\n",
       "      <td>03/01/2024</td>\n",
       "      <td>Nicaragua has filed a case at the International Court of Justice against Germany for financial and military support it provides to Israel. A hearing could take place within weeks.</td>\n",
       "      <td>Nicaragua says Germany facilitates genocide by aiding Israel</td>\n",
       "      <td>Nicaragua has accused Germany of facilitating \"genocide\" in Gaza in a case filed at the International Court of Justice (ICJ) on Friday.\\nThe Nicaraguan government said Germany provided financial a...</td>\n",
       "      <td>[Rhine River, Poverty in Germany, Robert Habeck, International Court of Justice (ICJ), Israel, Germany]</td>\n",
       "    </tr>\n",
       "    <tr>\n",
       "      <th>4</th>\n",
       "      <td>Cai Nebe</td>\n",
       "      <td>03/01/2024</td>\n",
       "      <td>Arbitrary boundaries were drawn on maps to separate European colonies in Africa. Most of those lines drawn on a Berlin Conference table between 1884 and 1885 are still in place today – with deadly...</td>\n",
       "      <td>Why some African countries have strange shapes</td>\n",
       "      <td>Why is the Caprivi Strip symbolic of colonial era mapmaking?\\nIt's one of the weirdest looking territories on a map, and forms part of Namibia. It looks like a pan handle, has parallel straight li...</td>\n",
       "      <td>[Namibia, Cameroon, Togo, Tanzania]</td>\n",
       "    </tr>\n",
       "  </tbody>\n",
       "</table>\n",
       "</div>"
      ],
      "text/plain": [
       "          author        date  \\\n",
       "0  Dirk Kaufmann  03/01/2024   \n",
       "1           None  03/01/2024   \n",
       "2           None  03/01/2024   \n",
       "3           None  03/01/2024   \n",
       "4       Cai Nebe  03/01/2024   \n",
       "\n",
       "                                                                                                                                                                                                   summary  \\\n",
       "0  Apple has ended its decadelong autonomous vehicle effort, known as Project Titan. The stock market breathed a sigh of relief in response, with insiders pointing to areas where Apple should redoubl...   \n",
       "1                  Iran's parliamentary elections saw low voter turnout as candidates competed for a seat in the 290-member parliament. New members of Iran's Assembly of Experts were also to be elected.   \n",
       "2          Treehouses and a piano concert in the woods: Activists protesting against a Tesla factory expansion near Berlin said they intend to stay in a forest for a week. The police keep a low profile.   \n",
       "3                      Nicaragua has filed a case at the International Court of Justice against Germany for financial and military support it provides to Israel. A hearing could take place within weeks.   \n",
       "4  Arbitrary boundaries were drawn on maps to separate European colonies in Africa. Most of those lines drawn on a Berlin Conference table between 1884 and 1885 are still in place today – with deadly...   \n",
       "\n",
       "                                                          title  \\\n",
       "0        Apple pulls the plug on its self-driving e-car project   \n",
       "1             Iran elections: Low turnout in parliamentary vote   \n",
       "2       Germany: Tesla plant protesters to spend week in forest   \n",
       "3  Nicaragua says Germany facilitates genocide by aiding Israel   \n",
       "4                Why some African countries have strange shapes   \n",
       "\n",
       "                                                                                                                                                                                                 main_text  \\\n",
       "0  Traditional car manufacturers in Europe, Asia and the US face a number of problems, some of them of their own making. To make matters worse, the creeping concern that tech companies could crowd le...   \n",
       "1  Iran held its first parliamentary elections since mass protests swept the Islamic Republic in 2022, triggered by the death of Jina Mahsa Amini while in custody.\\n\"Voting for the 12th term of the I...   \n",
       "2  Environmental activists protesting the expansion of US electric carmaker Tesla's factory outside Berlin said they plan to occupy the forest near the factory for a week. \\n\"The longer the occupatio...   \n",
       "3  Nicaragua has accused Germany of facilitating \"genocide\" in Gaza in a case filed at the International Court of Justice (ICJ) on Friday.\\nThe Nicaraguan government said Germany provided financial a...   \n",
       "4  Why is the Caprivi Strip symbolic of colonial era mapmaking?\\nIt's one of the weirdest looking territories on a map, and forms part of Namibia. It looks like a pan handle, has parallel straight li...   \n",
       "\n",
       "                                                                                                    topics  \n",
       "0                                                      [Electric vehicles, Apple, Artificial intelligence]  \n",
       "1                                                                  [Iran protests, Jina Mahsa Amini, Iran]  \n",
       "2                                [Rhine River, Poverty in Germany, Greta Thunberg, Robert Habeck, Germany]  \n",
       "3  [Rhine River, Poverty in Germany, Robert Habeck, International Court of Justice (ICJ), Israel, Germany]  \n",
       "4                                                                      [Namibia, Cameroon, Togo, Tanzania]  "
      ]
     },
     "execution_count": 190,
     "metadata": {},
     "output_type": "execute_result"
    }
   ],
   "source": [
    "#first five rows \n",
    "main_dataframe.head(5)"
   ]
  },
  {
   "cell_type": "markdown",
   "metadata": {},
   "source": [
    "Closing the browser"
   ]
  },
  {
   "cell_type": "code",
   "execution_count": 191,
   "metadata": {},
   "outputs": [],
   "source": [
    "driver.quit()"
   ]
  },
  {
   "cell_type": "markdown",
   "metadata": {},
   "source": [
    "End of File"
   ]
  }
 ],
 "metadata": {
  "kernelspec": {
   "display_name": "test",
   "language": "python",
   "name": "python3"
  },
  "language_info": {
   "codemirror_mode": {
    "name": "ipython",
    "version": 3
   },
   "file_extension": ".py",
   "mimetype": "text/x-python",
   "name": "python",
   "nbconvert_exporter": "python",
   "pygments_lexer": "ipython3",
   "version": "3.11.5"
  }
 },
 "nbformat": 4,
 "nbformat_minor": 2
}
