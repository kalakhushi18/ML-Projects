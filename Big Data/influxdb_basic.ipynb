{
 "cells": [
  {
   "cell_type": "markdown",
   "metadata": {},
   "source": [
    "### Importing Libraries "
   ]
  },
  {
   "cell_type": "code",
   "execution_count": 2,
   "metadata": {},
   "outputs": [],
   "source": [
    "from influxdb_client import InfluxDBClient, WriteOptions\n",
    "from influxdb_client.client.write_api import SYNCHRONOUS\n",
    "import influxdb_client\n",
    "import pandas as pd\n",
    "import random\n",
    "import numpy as np\n",
    "from datetime import datetime"
   ]
  },
  {
   "cell_type": "markdown",
   "metadata": {},
   "source": [
    "### Connection "
   ]
  },
  {
   "cell_type": "code",
   "execution_count": 3,
   "metadata": {},
   "outputs": [
    {
     "name": "stdout",
     "output_type": "stream",
     "text": [
      "Succefully Data has been inserted into the DB\n"
     ]
    }
   ],
   "source": [
    "# Configuration\n",
    "token = \"pee4Yh4gB8HFYWIyxNpgw0lacZVlJAaNpbpWHdT-49l1Y3ZhLuI4N3k9Ec6gC4LGc7IIi8kfOMlD41iSqI__Xg==\"\n",
    "org = \"Project_Big_Data\"\n",
    "bucket = \"Time_Bucket\"\n",
    "url = \"http://localhost:8086\"\n",
    "\n",
    "#Instantiate the client\n",
    "client = InfluxDBClient(url=url, token=token, org=org)\n",
    "\n",
    "#Instantiating  a write client\n",
    "write_api = client.write_api(write_options=SYNCHRONOUS)\n",
    "\n",
    "#Creating a point object\n",
    "p = influxdb_client.Point(\"temperature_measurement\").tag(\"location\", \"Prague\").field(\"temperature\", 25.3)\n",
    "try: \n",
    " write_api.write(bucket=bucket, org=org, record=p)\n",
    " print(\"Succefully Data has been inserted into the DB\")\n",
    "except:\n",
    " print(\"Some Error occurred during Data injection\")\n"
   ]
  },
  {
   "cell_type": "markdown",
   "metadata": {},
   "source": [
    "### Query data from InfluxDB"
   ]
  },
  {
   "cell_type": "code",
   "execution_count": 4,
   "metadata": {},
   "outputs": [
    {
     "name": "stdout",
     "output_type": "stream",
     "text": [
      "[({'Measurement': 'temperature_measurement'}, {'Field': 'temperature'}, {'value': 25.3}, {'Time': datetime.datetime(2024, 5, 17, 13, 1, 11, 889413, tzinfo=tzutc())})]\n"
     ]
    }
   ],
   "source": [
    "query_api = client.query_api()\n",
    "\n",
    "query = 'from(bucket:\"Time_Bucket\")\\\n",
    "|> range(start: -20m)\\\n",
    "|> filter(fn:(r) => r._measurement == \"temperature_measurement\")\\\n",
    "|> filter(fn:(r) => r.location == \"Prague\")\\\n",
    "|> filter(fn:(r) => r._field == \"temperature\")'\n",
    "\n",
    "result = query_api.query(org=org, query=query)\n",
    "\n",
    "results = []\n",
    "for table in result:\n",
    "  for record in table.records:\n",
    "    results.append(({'Measurement': record.get_measurement()}, {'Field': record.get_field()},  {'value':record.get_value()},{'Time': record.get_time()}))\n",
    "    # , ,, ))\n",
    "\n",
    "print(results)\n"
   ]
  },
  {
   "cell_type": "markdown",
   "metadata": {},
   "source": [
    "### Performing Insertion and Querying on 100 data points \n",
    "\n",
    "Considering an application which consists of weather data and preserves the data of Temperature, Humidity, Pressure and Weather daily conditions in the city of KIEL. For this demo purpose, here random values have been generated to fill in the data which can be in practical real application can be collected with the help of sensors or other weather forecasting platform."
   ]
  },
  {
   "cell_type": "markdown",
   "metadata": {},
   "source": [
    "### Generating Measurements"
   ]
  },
  {
   "cell_type": "markdown",
   "metadata": {},
   "source": [
    "### 1. Temperature"
   ]
  },
  {
   "cell_type": "code",
   "execution_count": 44,
   "metadata": {},
   "outputs": [
    {
     "name": "stdout",
     "output_type": "stream",
     "text": [
      "Successful insertion of data \n"
     ]
    }
   ],
   "source": [
    "# generating random temperature values\n",
    "def generate_temperature_data(num_measurements, base_temperature=20, variation=5):\n",
    "    np.random.seed(0)  # For reproducibility\n",
    "    temperatures = base_temperature + variation * np.random.randn(num_measurements)\n",
    "    return temperatures\n",
    "\n",
    "randomly_generated_temp = generate_temperature_data(num_measurements=100)\n",
    "\n",
    "def generate_temp_measurement(): \n",
    "    point = influxdb_client.Point(measurement_name=\"temperature_table\")\n",
    "    tags = {\"city\":\"Kiel\"}\n",
    "    fields = {\"value\":random.choice(randomly_generated_temp)}\n",
    "    for tag_key, tag_value in tags.items():\n",
    "        point.tag(tag_key, tag_value)\n",
    "    for filed_key, field_value in fields.items():\n",
    "        point.field(filed_key, field_value)\n",
    "\n",
    "    return point\n",
    "\n",
    "\n",
    "# Inserting 100 points \n",
    "error_occured = False\n",
    "for i in range(100):\n",
    "    measurement = generate_temp_measurement()\n",
    "    try:\n",
    "     write_api.write(bucket=\"Weather_Bucket\", record = measurement)\n",
    "    except Exception as e: \n",
    "       error_occured = True\n",
    "       print(\"Error in inserting the data:\", e)\n",
    "       \n",
    "if not error_occured: \n",
    "   print(\"Successful insertion of data \")   "
   ]
  },
  {
   "cell_type": "markdown",
   "metadata": {},
   "source": [
    "### 2. Pressure"
   ]
  },
  {
   "cell_type": "code",
   "execution_count": 46,
   "metadata": {},
   "outputs": [
    {
     "name": "stdout",
     "output_type": "stream",
     "text": [
      "Successful insertion of data \n"
     ]
    }
   ],
   "source": [
    "# Function to generate random pressure data\n",
    "def generate_pressure_data(num_measurements, base_pressure=1013, variation=10):\n",
    "    pressures = base_pressure + variation * np.random.randn(num_measurements)\n",
    "    return pressures\n",
    "\n",
    "pressures = generate_pressure_data(100)\n",
    "\n",
    "def generate_pressure_measurement(): \n",
    "    point = influxdb_client.Point(measurement_name=\"pressure_table\")\n",
    "    tags = {\"city\":\"Kiel\"}\n",
    "    fields = {\"value\":random.choice(pressures)}\n",
    "    for tag_key, tag_value in tags.items():\n",
    "        point.tag(tag_key, tag_value)\n",
    "    for filed_key, field_value in fields.items():\n",
    "        point.field(filed_key, field_value)\n",
    "\n",
    "    return point\n",
    "\n",
    "# Inserting 100 points \n",
    "error_occured = False\n",
    "for i in range(100):\n",
    "    measurement = generate_pressure_measurement()\n",
    "    try:\n",
    "     write_api.write(bucket=\"Weather_Bucket\", record = measurement)\n",
    "    except Exception as e: \n",
    "       error_occured = True\n",
    "       print(\"Error in inserting the data:\", e)\n",
    "       \n",
    "if not error_occured: \n",
    "   print(\"Successful insertion of data \") "
   ]
  },
  {
   "cell_type": "markdown",
   "metadata": {},
   "source": [
    "### 3. Humidity"
   ]
  },
  {
   "cell_type": "code",
   "execution_count": 47,
   "metadata": {},
   "outputs": [
    {
     "name": "stdout",
     "output_type": "stream",
     "text": [
      "Successful insertion of data \n"
     ]
    }
   ],
   "source": [
    "def generate_humidity_data(num_measurements, base_humidity=50, variation=20):\n",
    "    humidities = base_humidity + variation * np.random.randn(num_measurements)\n",
    "    humidities = np.clip(humidities, 0, 100)  # Ensure humidity is between 0 and 100\n",
    "    return humidities\n",
    "\n",
    "humidities = generate_humidity_data(100)\n",
    "\n",
    "def generate_humidity_measurement(): \n",
    "    point = influxdb_client.Point(measurement_name=\"humidity_table\")\n",
    "    tags = {\"city\":\"Kiel\"}\n",
    "    fields = {\"value\":random.choice(humidities)}\n",
    "    for tag_key, tag_value in tags.items():\n",
    "        point.tag(tag_key, tag_value)\n",
    "    for filed_key, field_value in fields.items():\n",
    "        point.field(filed_key, field_value)\n",
    "\n",
    "    return point\n",
    "\n",
    "# Inserting 100 points \n",
    "error_occured = False\n",
    "for i in range(100):\n",
    "    measurement = generate_humidity_measurement()\n",
    "    try:\n",
    "     write_api.write(bucket=\"Weather_Bucket\", record = measurement)\n",
    "    except Exception as e: \n",
    "       error_occured = True\n",
    "       print(\"Error in inserting the data:\", e)\n",
    "       \n",
    "if not error_occured: \n",
    "   print(\"Successful insertion of data \") \n",
    "\n"
   ]
  },
  {
   "cell_type": "markdown",
   "metadata": {},
   "source": [
    "### Querying Data"
   ]
  },
  {
   "cell_type": "markdown",
   "metadata": {},
   "source": [
    "Temperature"
   ]
  },
  {
   "cell_type": "code",
   "execution_count": 48,
   "metadata": {},
   "outputs": [
    {
     "name": "stdout",
     "output_type": "stream",
     "text": [
      "Number of Records Retrived for Temperature 100\n",
      "[({'Measurement': 'humidity_record'}, {'Field': 'value'}, {'value': 59.87483554698377}, {'Time': datetime.datetime(2024, 5, 17, 13, 30, 5, 244672, tzinfo=tzutc())}), ({'Measurement': 'humidity_record'}, {'Field': 'value'}, {'value': 54.643620724005515}, {'Time': datetime.datetime(2024, 5, 17, 13, 30, 5, 257492, tzinfo=tzutc())}), ({'Measurement': 'humidity_record'}, {'Field': 'value'}, {'value': 43.08036448601227}, {'Time': datetime.datetime(2024, 5, 17, 13, 30, 5, 261919, tzinfo=tzutc())}), ({'Measurement': 'humidity_record'}, {'Field': 'value'}, {'value': 89.11824616501389}, {'Time': datetime.datetime(2024, 5, 17, 13, 30, 5, 266990, tzinfo=tzutc())}), ({'Measurement': 'humidity_record'}, {'Field': 'value'}, {'value': 20.67151344394972}, {'Time': datetime.datetime(2024, 5, 17, 13, 30, 5, 270548, tzinfo=tzutc())}), ({'Measurement': 'humidity_record'}, {'Field': 'value'}, {'value': 47.67792121931267}, {'Time': datetime.datetime(2024, 5, 17, 13, 30, 5, 273819, tzinfo=tzutc())}), ({'Measurement': 'humidity_record'}, {'Field': 'value'}, {'value': 49.65959172277119}, {'Time': datetime.datetime(2024, 5, 17, 13, 30, 5, 277003, tzinfo=tzutc())}), ({'Measurement': 'humidity_record'}, {'Field': 'value'}, {'value': 29.094932677060903}, {'Time': datetime.datetime(2024, 5, 17, 13, 30, 5, 280428, tzinfo=tzutc())}), ({'Measurement': 'humidity_record'}, {'Field': 'value'}, {'value': 59.87483554698377}, {'Time': datetime.datetime(2024, 5, 17, 13, 30, 5, 286768, tzinfo=tzutc())}), ({'Measurement': 'humidity_record'}, {'Field': 'value'}, {'value': 39.86367291402625}, {'Time': datetime.datetime(2024, 5, 17, 13, 30, 5, 289818, tzinfo=tzutc())}), ({'Measurement': 'humidity_record'}, {'Field': 'value'}, {'value': 31.11107488163499}, {'Time': datetime.datetime(2024, 5, 17, 13, 30, 5, 293911, tzinfo=tzutc())}), ({'Measurement': 'humidity_record'}, {'Field': 'value'}, {'value': 51.26523988400663}, {'Time': datetime.datetime(2024, 5, 17, 13, 30, 5, 296612, tzinfo=tzutc())}), ({'Measurement': 'humidity_record'}, {'Field': 'value'}, {'value': 28.799683545569053}, {'Time': datetime.datetime(2024, 5, 17, 13, 30, 5, 299016, tzinfo=tzutc())}), ({'Measurement': 'humidity_record'}, {'Field': 'value'}, {'value': 62.2075875821441}, {'Time': datetime.datetime(2024, 5, 17, 13, 30, 5, 302614, tzinfo=tzutc())}), ({'Measurement': 'humidity_record'}, {'Field': 'value'}, {'value': 51.26523988400663}, {'Time': datetime.datetime(2024, 5, 17, 13, 30, 5, 305730, tzinfo=tzutc())}), ({'Measurement': 'humidity_record'}, {'Field': 'value'}, {'value': 48.948654074609074}, {'Time': datetime.datetime(2024, 5, 17, 13, 30, 5, 309102, tzinfo=tzutc())}), ({'Measurement': 'humidity_record'}, {'Field': 'value'}, {'value': 44.04418241196544}, {'Time': datetime.datetime(2024, 5, 17, 13, 30, 5, 311990, tzinfo=tzutc())}), ({'Measurement': 'humidity_record'}, {'Field': 'value'}, {'value': 96.07833395367884}, {'Time': datetime.datetime(2024, 5, 17, 13, 30, 5, 314961, tzinfo=tzutc())}), ({'Measurement': 'humidity_record'}, {'Field': 'value'}, {'value': 51.948003325375666}, {'Time': datetime.datetime(2024, 5, 17, 13, 30, 5, 317808, tzinfo=tzutc())}), ({'Measurement': 'humidity_record'}, {'Field': 'value'}, {'value': 49.51347751202129}, {'Time': datetime.datetime(2024, 5, 17, 13, 30, 5, 320872, tzinfo=tzutc())}), ({'Measurement': 'humidity_record'}, {'Field': 'value'}, {'value': 42.054563713424045}, {'Time': datetime.datetime(2024, 5, 17, 13, 30, 5, 325094, tzinfo=tzutc())}), ({'Measurement': 'humidity_record'}, {'Field': 'value'}, {'value': 0.0}, {'Time': datetime.datetime(2024, 5, 17, 13, 30, 5, 328224, tzinfo=tzutc())}), ({'Measurement': 'humidity_record'}, {'Field': 'value'}, {'value': 33.73271481591594}, {'Time': datetime.datetime(2024, 5, 17, 13, 30, 5, 330534, tzinfo=tzutc())}), ({'Measurement': 'humidity_record'}, {'Field': 'value'}, {'value': 43.08036448601227}, {'Time': datetime.datetime(2024, 5, 17, 13, 30, 5, 338049, tzinfo=tzutc())}), ({'Measurement': 'humidity_record'}, {'Field': 'value'}, {'value': 57.58303471110163}, {'Time': datetime.datetime(2024, 5, 17, 13, 30, 5, 340951, tzinfo=tzutc())}), ({'Measurement': 'humidity_record'}, {'Field': 'value'}, {'value': 79.88969088982738}, {'Time': datetime.datetime(2024, 5, 17, 13, 30, 5, 344304, tzinfo=tzutc())}), ({'Measurement': 'humidity_record'}, {'Field': 'value'}, {'value': 35.48805243072832}, {'Time': datetime.datetime(2024, 5, 17, 13, 30, 5, 349098, tzinfo=tzutc())}), ({'Measurement': 'humidity_record'}, {'Field': 'value'}, {'value': 28.799683545569053}, {'Time': datetime.datetime(2024, 5, 17, 13, 30, 5, 353568, tzinfo=tzutc())}), ({'Measurement': 'humidity_record'}, {'Field': 'value'}, {'value': 60.42129752905517}, {'Time': datetime.datetime(2024, 5, 17, 13, 30, 5, 355547, tzinfo=tzutc())}), ({'Measurement': 'humidity_record'}, {'Field': 'value'}, {'value': 57.58303471110163}, {'Time': datetime.datetime(2024, 5, 17, 13, 30, 5, 358255, tzinfo=tzutc())}), ({'Measurement': 'humidity_record'}, {'Field': 'value'}, {'value': 57.40111775695038}, {'Time': datetime.datetime(2024, 5, 17, 13, 30, 5, 361742, tzinfo=tzutc())}), ({'Measurement': 'humidity_record'}, {'Field': 'value'}, {'value': 51.948003325375666}, {'Time': datetime.datetime(2024, 5, 17, 13, 30, 5, 365909, tzinfo=tzutc())}), ({'Measurement': 'humidity_record'}, {'Field': 'value'}, {'value': 37.25125948895542}, {'Time': datetime.datetime(2024, 5, 17, 13, 30, 5, 369327, tzinfo=tzutc())}), ({'Measurement': 'humidity_record'}, {'Field': 'value'}, {'value': 47.78918685535055}, {'Time': datetime.datetime(2024, 5, 17, 13, 30, 5, 372225, tzinfo=tzutc())}), ({'Measurement': 'humidity_record'}, {'Field': 'value'}, {'value': 74.22290579365402}, {'Time': datetime.datetime(2024, 5, 17, 13, 30, 5, 374230, tzinfo=tzutc())}), ({'Measurement': 'humidity_record'}, {'Field': 'value'}, {'value': 57.80186645375853}, {'Time': datetime.datetime(2024, 5, 17, 13, 30, 5, 377869, tzinfo=tzutc())}), ({'Measurement': 'humidity_record'}, {'Field': 'value'}, {'value': 71.59237184073642}, {'Time': datetime.datetime(2024, 5, 17, 13, 30, 5, 380639, tzinfo=tzutc())}), ({'Measurement': 'humidity_record'}, {'Field': 'value'}, {'value': 40.72808050707812}, {'Time': datetime.datetime(2024, 5, 17, 13, 30, 5, 383629, tzinfo=tzutc())}), ({'Measurement': 'humidity_record'}, {'Field': 'value'}, {'value': 71.99319191774227}, {'Time': datetime.datetime(2024, 5, 17, 13, 30, 5, 386207, tzinfo=tzutc())}), ({'Measurement': 'humidity_record'}, {'Field': 'value'}, {'value': 89.11824616501389}, {'Time': datetime.datetime(2024, 5, 17, 13, 30, 5, 389924, tzinfo=tzutc())}), ({'Measurement': 'humidity_record'}, {'Field': 'value'}, {'value': 48.03699220714084}, {'Time': datetime.datetime(2024, 5, 17, 13, 30, 5, 392878, tzinfo=tzutc())}), ({'Measurement': 'humidity_record'}, {'Field': 'value'}, {'value': 49.15485696678714}, {'Time': datetime.datetime(2024, 5, 17, 13, 30, 5, 396845, tzinfo=tzutc())}), ({'Measurement': 'humidity_record'}, {'Field': 'value'}, {'value': 44.04418241196544}, {'Time': datetime.datetime(2024, 5, 17, 13, 30, 5, 399850, tzinfo=tzutc())}), ({'Measurement': 'humidity_record'}, {'Field': 'value'}, {'value': 60.42129752905517}, {'Time': datetime.datetime(2024, 5, 17, 13, 30, 5, 402605, tzinfo=tzutc())}), ({'Measurement': 'humidity_record'}, {'Field': 'value'}, {'value': 59.629629475469244}, {'Time': datetime.datetime(2024, 5, 17, 13, 30, 5, 406094, tzinfo=tzutc())}), ({'Measurement': 'humidity_record'}, {'Field': 'value'}, {'value': 36.9518283522596}, {'Time': datetime.datetime(2024, 5, 17, 13, 30, 5, 408906, tzinfo=tzutc())}), ({'Measurement': 'humidity_record'}, {'Field': 'value'}, {'value': 42.054563713424045}, {'Time': datetime.datetime(2024, 5, 17, 13, 30, 5, 412775, tzinfo=tzutc())}), ({'Measurement': 'humidity_record'}, {'Field': 'value'}, {'value': 44.04418241196544}, {'Time': datetime.datetime(2024, 5, 17, 13, 30, 5, 416266, tzinfo=tzutc())}), ({'Measurement': 'humidity_record'}, {'Field': 'value'}, {'value': 31.11107488163499}, {'Time': datetime.datetime(2024, 5, 17, 13, 30, 5, 421190, tzinfo=tzutc())}), ({'Measurement': 'humidity_record'}, {'Field': 'value'}, {'value': 68.20357816185184}, {'Time': datetime.datetime(2024, 5, 17, 13, 30, 5, 423386, tzinfo=tzutc())}), ({'Measurement': 'humidity_record'}, {'Field': 'value'}, {'value': 47.78918685535055}, {'Time': datetime.datetime(2024, 5, 17, 13, 30, 5, 427026, tzinfo=tzutc())}), ({'Measurement': 'humidity_record'}, {'Field': 'value'}, {'value': 96.07833395367884}, {'Time': datetime.datetime(2024, 5, 17, 13, 30, 5, 436211, tzinfo=tzutc())}), ({'Measurement': 'humidity_record'}, {'Field': 'value'}, {'value': 43.08036448601227}, {'Time': datetime.datetime(2024, 5, 17, 13, 30, 5, 441184, tzinfo=tzutc())}), ({'Measurement': 'humidity_record'}, {'Field': 'value'}, {'value': 91.28985722718639}, {'Time': datetime.datetime(2024, 5, 17, 13, 30, 5, 444415, tzinfo=tzutc())}), ({'Measurement': 'humidity_record'}, {'Field': 'value'}, {'value': 43.78227656603057}, {'Time': datetime.datetime(2024, 5, 17, 13, 30, 5, 447740, tzinfo=tzutc())}), ({'Measurement': 'humidity_record'}, {'Field': 'value'}, {'value': 47.281005986433584}, {'Time': datetime.datetime(2024, 5, 17, 13, 30, 5, 452402, tzinfo=tzutc())}), ({'Measurement': 'humidity_record'}, {'Field': 'value'}, {'value': 37.25125948895542}, {'Time': datetime.datetime(2024, 5, 17, 13, 30, 5, 456641, tzinfo=tzutc())}), ({'Measurement': 'humidity_record'}, {'Field': 'value'}, {'value': 58.32100092522851}, {'Time': datetime.datetime(2024, 5, 17, 13, 30, 5, 461268, tzinfo=tzutc())}), ({'Measurement': 'humidity_record'}, {'Field': 'value'}, {'value': 52.83906326641559}, {'Time': datetime.datetime(2024, 5, 17, 13, 30, 5, 465339, tzinfo=tzutc())}), ({'Measurement': 'humidity_record'}, {'Field': 'value'}, {'value': 70.403454234316}, {'Time': datetime.datetime(2024, 5, 17, 13, 30, 5, 468987, tzinfo=tzutc())}), ({'Measurement': 'humidity_record'}, {'Field': 'value'}, {'value': 59.87483554698377}, {'Time': datetime.datetime(2024, 5, 17, 13, 30, 5, 471864, tzinfo=tzutc())}), ({'Measurement': 'humidity_record'}, {'Field': 'value'}, {'value': 56.34436430382604}, {'Time': datetime.datetime(2024, 5, 17, 13, 30, 5, 475648, tzinfo=tzutc())}), ({'Measurement': 'humidity_record'}, {'Field': 'value'}, {'value': 43.819740619057555}, {'Time': datetime.datetime(2024, 5, 17, 13, 30, 5, 479408, tzinfo=tzutc())}), ({'Measurement': 'humidity_record'}, {'Field': 'value'}, {'value': 54.643620724005515}, {'Time': datetime.datetime(2024, 5, 17, 13, 30, 5, 484011, tzinfo=tzutc())}), ({'Measurement': 'humidity_record'}, {'Field': 'value'}, {'value': 70.403454234316}, {'Time': datetime.datetime(2024, 5, 17, 13, 30, 5, 487715, tzinfo=tzutc())}), ({'Measurement': 'humidity_record'}, {'Field': 'value'}, {'value': 42.0110194147425}, {'Time': datetime.datetime(2024, 5, 17, 13, 30, 5, 491505, tzinfo=tzutc())}), ({'Measurement': 'humidity_record'}, {'Field': 'value'}, {'value': 58.32100092522851}, {'Time': datetime.datetime(2024, 5, 17, 13, 30, 5, 496562, tzinfo=tzutc())}), ({'Measurement': 'humidity_record'}, {'Field': 'value'}, {'value': 43.08036448601227}, {'Time': datetime.datetime(2024, 5, 17, 13, 30, 5, 502086, tzinfo=tzutc())}), ({'Measurement': 'humidity_record'}, {'Field': 'value'}, {'value': 40.379457630784245}, {'Time': datetime.datetime(2024, 5, 17, 13, 30, 5, 505387, tzinfo=tzutc())}), ({'Measurement': 'humidity_record'}, {'Field': 'value'}, {'value': 20.67151344394972}, {'Time': datetime.datetime(2024, 5, 17, 13, 30, 5, 509261, tzinfo=tzutc())}), ({'Measurement': 'humidity_record'}, {'Field': 'value'}, {'value': 40.379457630784245}, {'Time': datetime.datetime(2024, 5, 17, 13, 30, 5, 512432, tzinfo=tzutc())}), ({'Measurement': 'humidity_record'}, {'Field': 'value'}, {'value': 57.58303471110163}, {'Time': datetime.datetime(2024, 5, 17, 13, 30, 5, 517018, tzinfo=tzutc())}), ({'Measurement': 'humidity_record'}, {'Field': 'value'}, {'value': 16.479923873400466}, {'Time': datetime.datetime(2024, 5, 17, 13, 30, 5, 520075, tzinfo=tzutc())}), ({'Measurement': 'humidity_record'}, {'Field': 'value'}, {'value': 36.15900304431218}, {'Time': datetime.datetime(2024, 5, 17, 13, 30, 5, 522543, tzinfo=tzutc())}), ({'Measurement': 'humidity_record'}, {'Field': 'value'}, {'value': 43.819740619057555}, {'Time': datetime.datetime(2024, 5, 17, 13, 30, 5, 526346, tzinfo=tzutc())}), ({'Measurement': 'humidity_record'}, {'Field': 'value'}, {'value': 40.13360233275612}, {'Time': datetime.datetime(2024, 5, 17, 13, 30, 5, 531593, tzinfo=tzutc())}), ({'Measurement': 'humidity_record'}, {'Field': 'value'}, {'value': 21.518781820349368}, {'Time': datetime.datetime(2024, 5, 17, 13, 30, 5, 535659, tzinfo=tzutc())}), ({'Measurement': 'humidity_record'}, {'Field': 'value'}, {'value': 63.796363290695766}, {'Time': datetime.datetime(2024, 5, 17, 13, 30, 5, 540704, tzinfo=tzutc())}), ({'Measurement': 'humidity_record'}, {'Field': 'value'}, {'value': 11.274403883069859}, {'Time': datetime.datetime(2024, 5, 17, 13, 30, 5, 545334, tzinfo=tzutc())}), ({'Measurement': 'humidity_record'}, {'Field': 'value'}, {'value': 53.13013075930751}, {'Time': datetime.datetime(2024, 5, 17, 13, 30, 5, 549347, tzinfo=tzutc())}), ({'Measurement': 'humidity_record'}, {'Field': 'value'}, {'value': 49.65959172277119}, {'Time': datetime.datetime(2024, 5, 17, 13, 30, 5, 552463, tzinfo=tzutc())}), ({'Measurement': 'humidity_record'}, {'Field': 'value'}, {'value': 41.79900613594903}, {'Time': datetime.datetime(2024, 5, 17, 13, 30, 5, 557115, tzinfo=tzutc())}), ({'Measurement': 'humidity_record'}, {'Field': 'value'}, {'value': 61.65907359506587}, {'Time': datetime.datetime(2024, 5, 17, 13, 30, 5, 560750, tzinfo=tzutc())}), ({'Measurement': 'humidity_record'}, {'Field': 'value'}, {'value': 57.40111775695038}, {'Time': datetime.datetime(2024, 5, 17, 13, 30, 5, 565879, tzinfo=tzutc())}), ({'Measurement': 'humidity_record'}, {'Field': 'value'}, {'value': 71.99319191774227}, {'Time': datetime.datetime(2024, 5, 17, 13, 30, 5, 569344, tzinfo=tzutc())}), ({'Measurement': 'humidity_record'}, {'Field': 'value'}, {'value': 45.21241644848147}, {'Time': datetime.datetime(2024, 5, 17, 13, 30, 5, 574172, tzinfo=tzutc())}), ({'Measurement': 'humidity_record'}, {'Field': 'value'}, {'value': 26.876351363561746}, {'Time': datetime.datetime(2024, 5, 17, 13, 30, 5, 578233, tzinfo=tzutc())}), ({'Measurement': 'humidity_record'}, {'Field': 'value'}, {'value': 55.598491980864765}, {'Time': datetime.datetime(2024, 5, 17, 13, 30, 5, 582470, tzinfo=tzutc())}), ({'Measurement': 'humidity_record'}, {'Field': 'value'}, {'value': 59.629629475469244}, {'Time': datetime.datetime(2024, 5, 17, 13, 30, 5, 585549, tzinfo=tzutc())}), ({'Measurement': 'humidity_record'}, {'Field': 'value'}, {'value': 65.72655924217952}, {'Time': datetime.datetime(2024, 5, 17, 13, 30, 5, 589237, tzinfo=tzutc())}), ({'Measurement': 'humidity_record'}, {'Field': 'value'}, {'value': 36.9518283522596}, {'Time': datetime.datetime(2024, 5, 17, 13, 30, 5, 593858, tzinfo=tzutc())}), ({'Measurement': 'humidity_record'}, {'Field': 'value'}, {'value': 48.03699220714084}, {'Time': datetime.datetime(2024, 5, 17, 13, 30, 5, 597626, tzinfo=tzutc())}), ({'Measurement': 'humidity_record'}, {'Field': 'value'}, {'value': 63.53816070060491}, {'Time': datetime.datetime(2024, 5, 17, 13, 30, 5, 601088, tzinfo=tzutc())}), ({'Measurement': 'humidity_record'}, {'Field': 'value'}, {'value': 63.796363290695766}, {'Time': datetime.datetime(2024, 5, 17, 13, 30, 5, 604462, tzinfo=tzutc())}), ({'Measurement': 'humidity_record'}, {'Field': 'value'}, {'value': 26.222814844319423}, {'Time': datetime.datetime(2024, 5, 17, 13, 30, 5, 608534, tzinfo=tzutc())}), ({'Measurement': 'humidity_record'}, {'Field': 'value'}, {'value': 31.11107488163499}, {'Time': datetime.datetime(2024, 5, 17, 13, 30, 5, 612214, tzinfo=tzutc())}), ({'Measurement': 'humidity_record'}, {'Field': 'value'}, {'value': 51.26523988400663}, {'Time': datetime.datetime(2024, 5, 17, 13, 30, 5, 616041, tzinfo=tzutc())}), ({'Measurement': 'humidity_record'}, {'Field': 'value'}, {'value': 26.876351363561746}, {'Time': datetime.datetime(2024, 5, 17, 13, 30, 5, 619692, tzinfo=tzutc())}), ({'Measurement': 'humidity_record'}, {'Field': 'value'}, {'value': 65.62396203419986}, {'Time': datetime.datetime(2024, 5, 17, 13, 30, 5, 623471, tzinfo=tzutc())}), ({'Measurement': 'humidity_record'}, {'Field': 'value'}, {'value': 65.62396203419986}, {'Time': datetime.datetime(2024, 5, 17, 13, 30, 5, 627195, tzinfo=tzutc())})]\n",
      "Dictionary Created:  {'temperature': [26.011899243922056, 11.930510762210243, 7.235050920829607, 19.48390574103221, 14.174250796083218, 22.011708205887746, 19.24321395851151, 23.88745177915955, 29.337789950749837, 26.112225351912137, 26.112225351912137, 20.887130711268764, 18.186294170064308, 14.174250796083218, 25.697003422716502, 22.009946817223508, 20.77473712848458, 25.272258634655685, 20.6345604635181, 23.88745177915955, 22.21931616372713, 16.28917489796779, 18.936298598930158, 21.93451248929631, 21.512359488698905, 11.849008265169777, 24.750442087627945, 26.011899243922056, 16.82838953159518, 22.000786041836115, 26.151453403638605, 20.887130711268764, 12.899910314105124, 20.77473712848458, 18.26043925336924, 21.0413748903843, 13.736023199750369, 19.064080749870833, 27.663896071792287, 15.522667194031623, 23.805188625734967, 24.32218099429753, 28.82026172983832, 24.504132434770938, 25.697003422716502, 20.22879258650723, 27.663896071792287, 24.504132434770938, 21.668371636871335, 11.368586988341615, 28.82026172983832, 17.9841152651341, 22.313911277628872, 20.887130711268764, 22.21931616372713, 20.6345604635181, 18.936298598930158, 10.096017658880365, 17.991095318958692, 19.859088858306727, 17.991095318958692, 21.93451248929631, 19.100375820938247, 22.05299250969186, 21.0413748903843, 16.28917489796779, 21.565338508254506, 26.112225351912137, 28.929352469529178, 17.991095318958692, 18.974208681170996, 22.21931616372713, 20.259726978980694, 17.809628491944068, 16.575949545298435, 27.441260968978, 15.93426858977773, 20.33258611191584, 22.011708205887746, 19.064080749870833, 26.151453403638605, 13.736023199750369, 27.47039536578803, 29.75387697615895, 11.468649046874937, 20.259726978980694, 17.105751676177924, 18.488486247123323, 14.096839079387939, 19.859088858306727, 15.113610600617946, 21.890812598010868, 11.849008265169777, 11.368586988341615, 15.522667194031623, 25.272258634655685, 18.974208681170996, 13.825870898231738, 18.26043925336924, 18.488486247123323]}\n"
     ]
    }
   ],
   "source": [
    "query_api = client.query_api()\n",
    "\n",
    "\n",
    "weather_query_temperature =  'from(bucket:\"Weather_Bucket\")\\\n",
    "|> range(start: -1d)\\\n",
    "|> filter(fn:(r) => r._measurement == \"temperature_table\")'\n",
    "                \n",
    "result = query_api.query(query=weather_query_temperature, org = org)\n",
    "\n",
    "# Process the results\n",
    "results_temperature = []\n",
    "temp_dictionary = {}\n",
    "temp_record_values = []\n",
    "for table in result:\n",
    "  print(\"Number of Records Retrived for Temperature\",len(table.records))\n",
    "  for record in table.records:\n",
    "    temp_record_values.append( record.get_value())\n",
    "    results_temperature.append(({'Measurement': record.get_measurement()}, {'Field': record.get_field()},  {'value':record.get_value()},{'Time': record.get_time()}))\n",
    "\n",
    "print(results)\n",
    "temp_dictionary['temperature'] = temp_record_values\n",
    "print(\"Dictionary Created: \", temp_dictionary)"
   ]
  },
  {
   "cell_type": "markdown",
   "metadata": {},
   "source": [
    "Pressure"
   ]
  },
  {
   "cell_type": "code",
   "execution_count": 49,
   "metadata": {},
   "outputs": [
    {
     "name": "stdout",
     "output_type": "stream",
     "text": [
      "Number of Records Retrived for Pressure 100\n",
      "[({'Measurement': 'humidity_record'}, {'Field': 'value'}, {'value': 59.87483554698377}, {'Time': datetime.datetime(2024, 5, 17, 13, 30, 5, 244672, tzinfo=tzutc())}), ({'Measurement': 'humidity_record'}, {'Field': 'value'}, {'value': 54.643620724005515}, {'Time': datetime.datetime(2024, 5, 17, 13, 30, 5, 257492, tzinfo=tzutc())}), ({'Measurement': 'humidity_record'}, {'Field': 'value'}, {'value': 43.08036448601227}, {'Time': datetime.datetime(2024, 5, 17, 13, 30, 5, 261919, tzinfo=tzutc())}), ({'Measurement': 'humidity_record'}, {'Field': 'value'}, {'value': 89.11824616501389}, {'Time': datetime.datetime(2024, 5, 17, 13, 30, 5, 266990, tzinfo=tzutc())}), ({'Measurement': 'humidity_record'}, {'Field': 'value'}, {'value': 20.67151344394972}, {'Time': datetime.datetime(2024, 5, 17, 13, 30, 5, 270548, tzinfo=tzutc())}), ({'Measurement': 'humidity_record'}, {'Field': 'value'}, {'value': 47.67792121931267}, {'Time': datetime.datetime(2024, 5, 17, 13, 30, 5, 273819, tzinfo=tzutc())}), ({'Measurement': 'humidity_record'}, {'Field': 'value'}, {'value': 49.65959172277119}, {'Time': datetime.datetime(2024, 5, 17, 13, 30, 5, 277003, tzinfo=tzutc())}), ({'Measurement': 'humidity_record'}, {'Field': 'value'}, {'value': 29.094932677060903}, {'Time': datetime.datetime(2024, 5, 17, 13, 30, 5, 280428, tzinfo=tzutc())}), ({'Measurement': 'humidity_record'}, {'Field': 'value'}, {'value': 59.87483554698377}, {'Time': datetime.datetime(2024, 5, 17, 13, 30, 5, 286768, tzinfo=tzutc())}), ({'Measurement': 'humidity_record'}, {'Field': 'value'}, {'value': 39.86367291402625}, {'Time': datetime.datetime(2024, 5, 17, 13, 30, 5, 289818, tzinfo=tzutc())}), ({'Measurement': 'humidity_record'}, {'Field': 'value'}, {'value': 31.11107488163499}, {'Time': datetime.datetime(2024, 5, 17, 13, 30, 5, 293911, tzinfo=tzutc())}), ({'Measurement': 'humidity_record'}, {'Field': 'value'}, {'value': 51.26523988400663}, {'Time': datetime.datetime(2024, 5, 17, 13, 30, 5, 296612, tzinfo=tzutc())}), ({'Measurement': 'humidity_record'}, {'Field': 'value'}, {'value': 28.799683545569053}, {'Time': datetime.datetime(2024, 5, 17, 13, 30, 5, 299016, tzinfo=tzutc())}), ({'Measurement': 'humidity_record'}, {'Field': 'value'}, {'value': 62.2075875821441}, {'Time': datetime.datetime(2024, 5, 17, 13, 30, 5, 302614, tzinfo=tzutc())}), ({'Measurement': 'humidity_record'}, {'Field': 'value'}, {'value': 51.26523988400663}, {'Time': datetime.datetime(2024, 5, 17, 13, 30, 5, 305730, tzinfo=tzutc())}), ({'Measurement': 'humidity_record'}, {'Field': 'value'}, {'value': 48.948654074609074}, {'Time': datetime.datetime(2024, 5, 17, 13, 30, 5, 309102, tzinfo=tzutc())}), ({'Measurement': 'humidity_record'}, {'Field': 'value'}, {'value': 44.04418241196544}, {'Time': datetime.datetime(2024, 5, 17, 13, 30, 5, 311990, tzinfo=tzutc())}), ({'Measurement': 'humidity_record'}, {'Field': 'value'}, {'value': 96.07833395367884}, {'Time': datetime.datetime(2024, 5, 17, 13, 30, 5, 314961, tzinfo=tzutc())}), ({'Measurement': 'humidity_record'}, {'Field': 'value'}, {'value': 51.948003325375666}, {'Time': datetime.datetime(2024, 5, 17, 13, 30, 5, 317808, tzinfo=tzutc())}), ({'Measurement': 'humidity_record'}, {'Field': 'value'}, {'value': 49.51347751202129}, {'Time': datetime.datetime(2024, 5, 17, 13, 30, 5, 320872, tzinfo=tzutc())}), ({'Measurement': 'humidity_record'}, {'Field': 'value'}, {'value': 42.054563713424045}, {'Time': datetime.datetime(2024, 5, 17, 13, 30, 5, 325094, tzinfo=tzutc())}), ({'Measurement': 'humidity_record'}, {'Field': 'value'}, {'value': 0.0}, {'Time': datetime.datetime(2024, 5, 17, 13, 30, 5, 328224, tzinfo=tzutc())}), ({'Measurement': 'humidity_record'}, {'Field': 'value'}, {'value': 33.73271481591594}, {'Time': datetime.datetime(2024, 5, 17, 13, 30, 5, 330534, tzinfo=tzutc())}), ({'Measurement': 'humidity_record'}, {'Field': 'value'}, {'value': 43.08036448601227}, {'Time': datetime.datetime(2024, 5, 17, 13, 30, 5, 338049, tzinfo=tzutc())}), ({'Measurement': 'humidity_record'}, {'Field': 'value'}, {'value': 57.58303471110163}, {'Time': datetime.datetime(2024, 5, 17, 13, 30, 5, 340951, tzinfo=tzutc())}), ({'Measurement': 'humidity_record'}, {'Field': 'value'}, {'value': 79.88969088982738}, {'Time': datetime.datetime(2024, 5, 17, 13, 30, 5, 344304, tzinfo=tzutc())}), ({'Measurement': 'humidity_record'}, {'Field': 'value'}, {'value': 35.48805243072832}, {'Time': datetime.datetime(2024, 5, 17, 13, 30, 5, 349098, tzinfo=tzutc())}), ({'Measurement': 'humidity_record'}, {'Field': 'value'}, {'value': 28.799683545569053}, {'Time': datetime.datetime(2024, 5, 17, 13, 30, 5, 353568, tzinfo=tzutc())}), ({'Measurement': 'humidity_record'}, {'Field': 'value'}, {'value': 60.42129752905517}, {'Time': datetime.datetime(2024, 5, 17, 13, 30, 5, 355547, tzinfo=tzutc())}), ({'Measurement': 'humidity_record'}, {'Field': 'value'}, {'value': 57.58303471110163}, {'Time': datetime.datetime(2024, 5, 17, 13, 30, 5, 358255, tzinfo=tzutc())}), ({'Measurement': 'humidity_record'}, {'Field': 'value'}, {'value': 57.40111775695038}, {'Time': datetime.datetime(2024, 5, 17, 13, 30, 5, 361742, tzinfo=tzutc())}), ({'Measurement': 'humidity_record'}, {'Field': 'value'}, {'value': 51.948003325375666}, {'Time': datetime.datetime(2024, 5, 17, 13, 30, 5, 365909, tzinfo=tzutc())}), ({'Measurement': 'humidity_record'}, {'Field': 'value'}, {'value': 37.25125948895542}, {'Time': datetime.datetime(2024, 5, 17, 13, 30, 5, 369327, tzinfo=tzutc())}), ({'Measurement': 'humidity_record'}, {'Field': 'value'}, {'value': 47.78918685535055}, {'Time': datetime.datetime(2024, 5, 17, 13, 30, 5, 372225, tzinfo=tzutc())}), ({'Measurement': 'humidity_record'}, {'Field': 'value'}, {'value': 74.22290579365402}, {'Time': datetime.datetime(2024, 5, 17, 13, 30, 5, 374230, tzinfo=tzutc())}), ({'Measurement': 'humidity_record'}, {'Field': 'value'}, {'value': 57.80186645375853}, {'Time': datetime.datetime(2024, 5, 17, 13, 30, 5, 377869, tzinfo=tzutc())}), ({'Measurement': 'humidity_record'}, {'Field': 'value'}, {'value': 71.59237184073642}, {'Time': datetime.datetime(2024, 5, 17, 13, 30, 5, 380639, tzinfo=tzutc())}), ({'Measurement': 'humidity_record'}, {'Field': 'value'}, {'value': 40.72808050707812}, {'Time': datetime.datetime(2024, 5, 17, 13, 30, 5, 383629, tzinfo=tzutc())}), ({'Measurement': 'humidity_record'}, {'Field': 'value'}, {'value': 71.99319191774227}, {'Time': datetime.datetime(2024, 5, 17, 13, 30, 5, 386207, tzinfo=tzutc())}), ({'Measurement': 'humidity_record'}, {'Field': 'value'}, {'value': 89.11824616501389}, {'Time': datetime.datetime(2024, 5, 17, 13, 30, 5, 389924, tzinfo=tzutc())}), ({'Measurement': 'humidity_record'}, {'Field': 'value'}, {'value': 48.03699220714084}, {'Time': datetime.datetime(2024, 5, 17, 13, 30, 5, 392878, tzinfo=tzutc())}), ({'Measurement': 'humidity_record'}, {'Field': 'value'}, {'value': 49.15485696678714}, {'Time': datetime.datetime(2024, 5, 17, 13, 30, 5, 396845, tzinfo=tzutc())}), ({'Measurement': 'humidity_record'}, {'Field': 'value'}, {'value': 44.04418241196544}, {'Time': datetime.datetime(2024, 5, 17, 13, 30, 5, 399850, tzinfo=tzutc())}), ({'Measurement': 'humidity_record'}, {'Field': 'value'}, {'value': 60.42129752905517}, {'Time': datetime.datetime(2024, 5, 17, 13, 30, 5, 402605, tzinfo=tzutc())}), ({'Measurement': 'humidity_record'}, {'Field': 'value'}, {'value': 59.629629475469244}, {'Time': datetime.datetime(2024, 5, 17, 13, 30, 5, 406094, tzinfo=tzutc())}), ({'Measurement': 'humidity_record'}, {'Field': 'value'}, {'value': 36.9518283522596}, {'Time': datetime.datetime(2024, 5, 17, 13, 30, 5, 408906, tzinfo=tzutc())}), ({'Measurement': 'humidity_record'}, {'Field': 'value'}, {'value': 42.054563713424045}, {'Time': datetime.datetime(2024, 5, 17, 13, 30, 5, 412775, tzinfo=tzutc())}), ({'Measurement': 'humidity_record'}, {'Field': 'value'}, {'value': 44.04418241196544}, {'Time': datetime.datetime(2024, 5, 17, 13, 30, 5, 416266, tzinfo=tzutc())}), ({'Measurement': 'humidity_record'}, {'Field': 'value'}, {'value': 31.11107488163499}, {'Time': datetime.datetime(2024, 5, 17, 13, 30, 5, 421190, tzinfo=tzutc())}), ({'Measurement': 'humidity_record'}, {'Field': 'value'}, {'value': 68.20357816185184}, {'Time': datetime.datetime(2024, 5, 17, 13, 30, 5, 423386, tzinfo=tzutc())}), ({'Measurement': 'humidity_record'}, {'Field': 'value'}, {'value': 47.78918685535055}, {'Time': datetime.datetime(2024, 5, 17, 13, 30, 5, 427026, tzinfo=tzutc())}), ({'Measurement': 'humidity_record'}, {'Field': 'value'}, {'value': 96.07833395367884}, {'Time': datetime.datetime(2024, 5, 17, 13, 30, 5, 436211, tzinfo=tzutc())}), ({'Measurement': 'humidity_record'}, {'Field': 'value'}, {'value': 43.08036448601227}, {'Time': datetime.datetime(2024, 5, 17, 13, 30, 5, 441184, tzinfo=tzutc())}), ({'Measurement': 'humidity_record'}, {'Field': 'value'}, {'value': 91.28985722718639}, {'Time': datetime.datetime(2024, 5, 17, 13, 30, 5, 444415, tzinfo=tzutc())}), ({'Measurement': 'humidity_record'}, {'Field': 'value'}, {'value': 43.78227656603057}, {'Time': datetime.datetime(2024, 5, 17, 13, 30, 5, 447740, tzinfo=tzutc())}), ({'Measurement': 'humidity_record'}, {'Field': 'value'}, {'value': 47.281005986433584}, {'Time': datetime.datetime(2024, 5, 17, 13, 30, 5, 452402, tzinfo=tzutc())}), ({'Measurement': 'humidity_record'}, {'Field': 'value'}, {'value': 37.25125948895542}, {'Time': datetime.datetime(2024, 5, 17, 13, 30, 5, 456641, tzinfo=tzutc())}), ({'Measurement': 'humidity_record'}, {'Field': 'value'}, {'value': 58.32100092522851}, {'Time': datetime.datetime(2024, 5, 17, 13, 30, 5, 461268, tzinfo=tzutc())}), ({'Measurement': 'humidity_record'}, {'Field': 'value'}, {'value': 52.83906326641559}, {'Time': datetime.datetime(2024, 5, 17, 13, 30, 5, 465339, tzinfo=tzutc())}), ({'Measurement': 'humidity_record'}, {'Field': 'value'}, {'value': 70.403454234316}, {'Time': datetime.datetime(2024, 5, 17, 13, 30, 5, 468987, tzinfo=tzutc())}), ({'Measurement': 'humidity_record'}, {'Field': 'value'}, {'value': 59.87483554698377}, {'Time': datetime.datetime(2024, 5, 17, 13, 30, 5, 471864, tzinfo=tzutc())}), ({'Measurement': 'humidity_record'}, {'Field': 'value'}, {'value': 56.34436430382604}, {'Time': datetime.datetime(2024, 5, 17, 13, 30, 5, 475648, tzinfo=tzutc())}), ({'Measurement': 'humidity_record'}, {'Field': 'value'}, {'value': 43.819740619057555}, {'Time': datetime.datetime(2024, 5, 17, 13, 30, 5, 479408, tzinfo=tzutc())}), ({'Measurement': 'humidity_record'}, {'Field': 'value'}, {'value': 54.643620724005515}, {'Time': datetime.datetime(2024, 5, 17, 13, 30, 5, 484011, tzinfo=tzutc())}), ({'Measurement': 'humidity_record'}, {'Field': 'value'}, {'value': 70.403454234316}, {'Time': datetime.datetime(2024, 5, 17, 13, 30, 5, 487715, tzinfo=tzutc())}), ({'Measurement': 'humidity_record'}, {'Field': 'value'}, {'value': 42.0110194147425}, {'Time': datetime.datetime(2024, 5, 17, 13, 30, 5, 491505, tzinfo=tzutc())}), ({'Measurement': 'humidity_record'}, {'Field': 'value'}, {'value': 58.32100092522851}, {'Time': datetime.datetime(2024, 5, 17, 13, 30, 5, 496562, tzinfo=tzutc())}), ({'Measurement': 'humidity_record'}, {'Field': 'value'}, {'value': 43.08036448601227}, {'Time': datetime.datetime(2024, 5, 17, 13, 30, 5, 502086, tzinfo=tzutc())}), ({'Measurement': 'humidity_record'}, {'Field': 'value'}, {'value': 40.379457630784245}, {'Time': datetime.datetime(2024, 5, 17, 13, 30, 5, 505387, tzinfo=tzutc())}), ({'Measurement': 'humidity_record'}, {'Field': 'value'}, {'value': 20.67151344394972}, {'Time': datetime.datetime(2024, 5, 17, 13, 30, 5, 509261, tzinfo=tzutc())}), ({'Measurement': 'humidity_record'}, {'Field': 'value'}, {'value': 40.379457630784245}, {'Time': datetime.datetime(2024, 5, 17, 13, 30, 5, 512432, tzinfo=tzutc())}), ({'Measurement': 'humidity_record'}, {'Field': 'value'}, {'value': 57.58303471110163}, {'Time': datetime.datetime(2024, 5, 17, 13, 30, 5, 517018, tzinfo=tzutc())}), ({'Measurement': 'humidity_record'}, {'Field': 'value'}, {'value': 16.479923873400466}, {'Time': datetime.datetime(2024, 5, 17, 13, 30, 5, 520075, tzinfo=tzutc())}), ({'Measurement': 'humidity_record'}, {'Field': 'value'}, {'value': 36.15900304431218}, {'Time': datetime.datetime(2024, 5, 17, 13, 30, 5, 522543, tzinfo=tzutc())}), ({'Measurement': 'humidity_record'}, {'Field': 'value'}, {'value': 43.819740619057555}, {'Time': datetime.datetime(2024, 5, 17, 13, 30, 5, 526346, tzinfo=tzutc())}), ({'Measurement': 'humidity_record'}, {'Field': 'value'}, {'value': 40.13360233275612}, {'Time': datetime.datetime(2024, 5, 17, 13, 30, 5, 531593, tzinfo=tzutc())}), ({'Measurement': 'humidity_record'}, {'Field': 'value'}, {'value': 21.518781820349368}, {'Time': datetime.datetime(2024, 5, 17, 13, 30, 5, 535659, tzinfo=tzutc())}), ({'Measurement': 'humidity_record'}, {'Field': 'value'}, {'value': 63.796363290695766}, {'Time': datetime.datetime(2024, 5, 17, 13, 30, 5, 540704, tzinfo=tzutc())}), ({'Measurement': 'humidity_record'}, {'Field': 'value'}, {'value': 11.274403883069859}, {'Time': datetime.datetime(2024, 5, 17, 13, 30, 5, 545334, tzinfo=tzutc())}), ({'Measurement': 'humidity_record'}, {'Field': 'value'}, {'value': 53.13013075930751}, {'Time': datetime.datetime(2024, 5, 17, 13, 30, 5, 549347, tzinfo=tzutc())}), ({'Measurement': 'humidity_record'}, {'Field': 'value'}, {'value': 49.65959172277119}, {'Time': datetime.datetime(2024, 5, 17, 13, 30, 5, 552463, tzinfo=tzutc())}), ({'Measurement': 'humidity_record'}, {'Field': 'value'}, {'value': 41.79900613594903}, {'Time': datetime.datetime(2024, 5, 17, 13, 30, 5, 557115, tzinfo=tzutc())}), ({'Measurement': 'humidity_record'}, {'Field': 'value'}, {'value': 61.65907359506587}, {'Time': datetime.datetime(2024, 5, 17, 13, 30, 5, 560750, tzinfo=tzutc())}), ({'Measurement': 'humidity_record'}, {'Field': 'value'}, {'value': 57.40111775695038}, {'Time': datetime.datetime(2024, 5, 17, 13, 30, 5, 565879, tzinfo=tzutc())}), ({'Measurement': 'humidity_record'}, {'Field': 'value'}, {'value': 71.99319191774227}, {'Time': datetime.datetime(2024, 5, 17, 13, 30, 5, 569344, tzinfo=tzutc())}), ({'Measurement': 'humidity_record'}, {'Field': 'value'}, {'value': 45.21241644848147}, {'Time': datetime.datetime(2024, 5, 17, 13, 30, 5, 574172, tzinfo=tzutc())}), ({'Measurement': 'humidity_record'}, {'Field': 'value'}, {'value': 26.876351363561746}, {'Time': datetime.datetime(2024, 5, 17, 13, 30, 5, 578233, tzinfo=tzutc())}), ({'Measurement': 'humidity_record'}, {'Field': 'value'}, {'value': 55.598491980864765}, {'Time': datetime.datetime(2024, 5, 17, 13, 30, 5, 582470, tzinfo=tzutc())}), ({'Measurement': 'humidity_record'}, {'Field': 'value'}, {'value': 59.629629475469244}, {'Time': datetime.datetime(2024, 5, 17, 13, 30, 5, 585549, tzinfo=tzutc())}), ({'Measurement': 'humidity_record'}, {'Field': 'value'}, {'value': 65.72655924217952}, {'Time': datetime.datetime(2024, 5, 17, 13, 30, 5, 589237, tzinfo=tzutc())}), ({'Measurement': 'humidity_record'}, {'Field': 'value'}, {'value': 36.9518283522596}, {'Time': datetime.datetime(2024, 5, 17, 13, 30, 5, 593858, tzinfo=tzutc())}), ({'Measurement': 'humidity_record'}, {'Field': 'value'}, {'value': 48.03699220714084}, {'Time': datetime.datetime(2024, 5, 17, 13, 30, 5, 597626, tzinfo=tzutc())}), ({'Measurement': 'humidity_record'}, {'Field': 'value'}, {'value': 63.53816070060491}, {'Time': datetime.datetime(2024, 5, 17, 13, 30, 5, 601088, tzinfo=tzutc())}), ({'Measurement': 'humidity_record'}, {'Field': 'value'}, {'value': 63.796363290695766}, {'Time': datetime.datetime(2024, 5, 17, 13, 30, 5, 604462, tzinfo=tzutc())}), ({'Measurement': 'humidity_record'}, {'Field': 'value'}, {'value': 26.222814844319423}, {'Time': datetime.datetime(2024, 5, 17, 13, 30, 5, 608534, tzinfo=tzutc())}), ({'Measurement': 'humidity_record'}, {'Field': 'value'}, {'value': 31.11107488163499}, {'Time': datetime.datetime(2024, 5, 17, 13, 30, 5, 612214, tzinfo=tzutc())}), ({'Measurement': 'humidity_record'}, {'Field': 'value'}, {'value': 51.26523988400663}, {'Time': datetime.datetime(2024, 5, 17, 13, 30, 5, 616041, tzinfo=tzutc())}), ({'Measurement': 'humidity_record'}, {'Field': 'value'}, {'value': 26.876351363561746}, {'Time': datetime.datetime(2024, 5, 17, 13, 30, 5, 619692, tzinfo=tzutc())}), ({'Measurement': 'humidity_record'}, {'Field': 'value'}, {'value': 65.62396203419986}, {'Time': datetime.datetime(2024, 5, 17, 13, 30, 5, 623471, tzinfo=tzutc())}), ({'Measurement': 'humidity_record'}, {'Field': 'value'}, {'value': 65.62396203419986}, {'Time': datetime.datetime(2024, 5, 17, 13, 30, 5, 627195, tzinfo=tzutc())}), ({'Measurement': 'pressure_table'}, {'Field': 'value'}, {'value': 1032.1006495309903}, {'Time': datetime.datetime(2024, 5, 17, 14, 47, 49, 78302, tzinfo=tzutc())}), ({'Measurement': 'pressure_table'}, {'Field': 'value'}, {'value': 1016.1872765294302}, {'Time': datetime.datetime(2024, 5, 17, 14, 47, 49, 88557, tzinfo=tzutc())}), ({'Measurement': 'pressure_table'}, {'Field': 'value'}, {'value': 1032.436211856493}, {'Time': datetime.datetime(2024, 5, 17, 14, 47, 49, 92049, tzinfo=tzutc())}), ({'Measurement': 'pressure_table'}, {'Field': 'value'}, {'value': 1012.0154747557457}, {'Time': datetime.datetime(2024, 5, 17, 14, 47, 49, 94932, tzinfo=tzutc())}), ({'Measurement': 'pressure_table'}, {'Field': 'value'}, {'value': 1005.6043700360868}, {'Time': datetime.datetime(2024, 5, 17, 14, 47, 49, 97901, tzinfo=tzutc())}), ({'Measurement': 'pressure_table'}, {'Field': 'value'}, {'value': 1031.4926372847933}, {'Time': datetime.datetime(2024, 5, 17, 14, 47, 49, 101939, tzinfo=tzutc())}), ({'Measurement': 'pressure_table'}, {'Field': 'value'}, {'value': 1031.8315069705625}, {'Time': datetime.datetime(2024, 5, 17, 14, 47, 49, 103937, tzinfo=tzutc())}), ({'Measurement': 'pressure_table'}, {'Field': 'value'}, {'value': 1028.4301459540673}, {'Time': datetime.datetime(2024, 5, 17, 14, 47, 49, 106438, tzinfo=tzutc())}), ({'Measurement': 'pressure_table'}, {'Field': 'value'}, {'value': 1026.2638589668702}, {'Time': datetime.datetime(2024, 5, 17, 14, 47, 49, 109925, tzinfo=tzutc())}), ({'Measurement': 'pressure_table'}, {'Field': 'value'}, {'value': 1027.8051479143442}, {'Time': datetime.datetime(2024, 5, 17, 14, 47, 49, 112535, tzinfo=tzutc())}), ({'Measurement': 'pressure_table'}, {'Field': 'value'}, {'value': 1018.3924919129182}, {'Time': datetime.datetime(2024, 5, 17, 14, 47, 49, 114699, tzinfo=tzutc())}), ({'Measurement': 'pressure_table'}, {'Field': 'value'}, {'value': 1005.3008392555469}, {'Time': datetime.datetime(2024, 5, 17, 14, 47, 49, 117165, tzinfo=tzutc())}), ({'Measurement': 'pressure_table'}, {'Field': 'value'}, {'value': 1020.7179055121367}, {'Time': datetime.datetime(2024, 5, 17, 14, 47, 49, 120436, tzinfo=tzutc())}), ({'Measurement': 'pressure_table'}, {'Field': 'value'}, {'value': 1011.4498990690917}, {'Time': datetime.datetime(2024, 5, 17, 14, 47, 49, 123828, tzinfo=tzutc())}), ({'Measurement': 'pressure_table'}, {'Field': 'value'}, {'value': 1022.4942080692576}, {'Time': datetime.datetime(2024, 5, 17, 14, 47, 49, 127581, tzinfo=tzutc())}), ({'Measurement': 'pressure_table'}, {'Field': 'value'}, {'value': 1012.3175839467536}, {'Time': datetime.datetime(2024, 5, 17, 14, 47, 49, 131398, tzinfo=tzutc())}), ({'Measurement': 'pressure_table'}, {'Field': 'value'}, {'value': 1024.2663592210652}, {'Time': datetime.datetime(2024, 5, 17, 14, 47, 49, 134682, tzinfo=tzutc())}), ({'Measurement': 'pressure_table'}, {'Field': 'value'}, {'value': 1031.6755896042657}, {'Time': datetime.datetime(2024, 5, 17, 14, 47, 49, 137594, tzinfo=tzutc())}), ({'Measurement': 'pressure_table'}, {'Field': 'value'}, {'value': 1008.8638101924025}, {'Time': datetime.datetime(2024, 5, 17, 14, 47, 49, 140542, tzinfo=tzutc())}), ({'Measurement': 'pressure_table'}, {'Field': 'value'}, {'value': 1013.8755124138519}, {'Time': datetime.datetime(2024, 5, 17, 14, 47, 49, 143527, tzinfo=tzutc())}), ({'Measurement': 'pressure_table'}, {'Field': 'value'}, {'value': 1034.632359492807}, {'Time': datetime.datetime(2024, 5, 17, 14, 47, 49, 146597, tzinfo=tzutc())}), ({'Measurement': 'pressure_table'}, {'Field': 'value'}, {'value': 1001.525313475889}, {'Time': datetime.datetime(2024, 5, 17, 14, 47, 49, 150194, tzinfo=tzutc())}), ({'Measurement': 'pressure_table'}, {'Field': 'value'}, {'value': 1013.3183055827435}, {'Time': datetime.datetime(2024, 5, 17, 14, 47, 49, 154132, tzinfo=tzutc())}), ({'Measurement': 'pressure_table'}, {'Field': 'value'}, {'value': 1015.9823817420605}, {'Time': datetime.datetime(2024, 5, 17, 14, 47, 49, 157686, tzinfo=tzutc())}), ({'Measurement': 'pressure_table'}, {'Field': 'value'}, {'value': 1000.2951500151427}, {'Time': datetime.datetime(2024, 5, 17, 14, 47, 49, 161359, tzinfo=tzutc())}), ({'Measurement': 'pressure_table'}, {'Field': 'value'}, {'value': 1019.7229475701243}, {'Time': datetime.datetime(2024, 5, 17, 14, 47, 49, 164399, tzinfo=tzutc())}), ({'Measurement': 'pressure_table'}, {'Field': 'value'}, {'value': 1021.024563957964}, {'Time': datetime.datetime(2024, 5, 17, 14, 47, 49, 167539, tzinfo=tzutc())}), ({'Measurement': 'pressure_table'}, {'Field': 'value'}, {'value': 1017.3939170126454}, {'Time': datetime.datetime(2024, 5, 17, 14, 47, 49, 169722, tzinfo=tzutc())}), ({'Measurement': 'pressure_table'}, {'Field': 'value'}, {'value': 1006.4897440669986}, {'Time': datetime.datetime(2024, 5, 17, 14, 47, 49, 173640, tzinfo=tzutc())}), ({'Measurement': 'pressure_table'}, {'Field': 'value'}, {'value': 1017.0746183624111}, {'Time': datetime.datetime(2024, 5, 17, 14, 47, 49, 176440, tzinfo=tzutc())}), ({'Measurement': 'pressure_table'}, {'Field': 'value'}, {'value': 1008.6217995525557}, {'Time': datetime.datetime(2024, 5, 17, 14, 47, 49, 179872, tzinfo=tzutc())}), ({'Measurement': 'pressure_table'}, {'Field': 'value'}, {'value': 1028.4301459540673}, {'Time': datetime.datetime(2024, 5, 17, 14, 47, 49, 182858, tzinfo=tzutc())}), ({'Measurement': 'pressure_table'}, {'Field': 'value'}, {'value': 1022.4725196777375}, {'Time': datetime.datetime(2024, 5, 17, 14, 47, 49, 185903, tzinfo=tzutc())}), ({'Measurement': 'pressure_table'}, {'Field': 'value'}, {'value': 1019.7229475701243}, {'Time': datetime.datetime(2024, 5, 17, 14, 47, 49, 188694, tzinfo=tzutc())}), ({'Measurement': 'pressure_table'}, {'Field': 'value'}, {'value': 1019.1407937034608}, {'Time': datetime.datetime(2024, 5, 17, 14, 47, 49, 192098, tzinfo=tzutc())}), ({'Measurement': 'pressure_table'}, {'Field': 'value'}, {'value': 1019.2523145102718}, {'Time': datetime.datetime(2024, 5, 17, 14, 47, 49, 195375, tzinfo=tzutc())}), ({'Measurement': 'pressure_table'}, {'Field': 'value'}, {'value': 1011.2845366877775}, {'Time': datetime.datetime(2024, 5, 17, 14, 47, 49, 198382, tzinfo=tzutc())}), ({'Measurement': 'pressure_table'}, {'Field': 'value'}, {'value': 1006.6415392162112}, {'Time': datetime.datetime(2024, 5, 17, 14, 47, 49, 201220, tzinfo=tzutc())}), ({'Measurement': 'pressure_table'}, {'Field': 'value'}, {'value': 1032.436211856493}, {'Time': datetime.datetime(2024, 5, 17, 14, 47, 49, 204108, tzinfo=tzutc())}), ({'Measurement': 'pressure_table'}, {'Field': 'value'}, {'value': 1000.0714309027655}, {'Time': datetime.datetime(2024, 5, 17, 14, 47, 49, 206450, tzinfo=tzutc())}), ({'Measurement': 'pressure_table'}, {'Field': 'value'}, {'value': 1002.0693849126949}, {'Time': datetime.datetime(2024, 5, 17, 14, 47, 49, 211131, tzinfo=tzutc())}), ({'Measurement': 'pressure_table'}, {'Field': 'value'}, {'value': 1016.1872765294302}, {'Time': datetime.datetime(2024, 5, 17, 14, 47, 49, 216373, tzinfo=tzutc())}), ({'Measurement': 'pressure_table'}, {'Field': 'value'}, {'value': 1026.365279494364}, {'Time': datetime.datetime(2024, 5, 17, 14, 47, 49, 219988, tzinfo=tzutc())}), ({'Measurement': 'pressure_table'}, {'Field': 'value'}, {'value': 1021.5683061190269}, {'Time': datetime.datetime(2024, 5, 17, 14, 47, 49, 224020, tzinfo=tzutc())}), ({'Measurement': 'pressure_table'}, {'Field': 'value'}, {'value': 999.5224093885755}, {'Time': datetime.datetime(2024, 5, 17, 14, 47, 49, 227782, tzinfo=tzutc())}), ({'Measurement': 'pressure_table'}, {'Field': 'value'}, {'value': 1012.3175839467536}, {'Time': datetime.datetime(2024, 5, 17, 14, 47, 49, 230461, tzinfo=tzutc())}), ({'Measurement': 'pressure_table'}, {'Field': 'value'}, {'value': 1002.2006849163657}, {'Time': datetime.datetime(2024, 5, 17, 14, 47, 49, 233838, tzinfo=tzutc())}), ({'Measurement': 'pressure_table'}, {'Field': 'value'}, {'value': 1027.8051479143442}, {'Time': datetime.datetime(2024, 5, 17, 14, 47, 49, 237591, tzinfo=tzutc())}), ({'Measurement': 'pressure_table'}, {'Field': 'value'}, {'value': 1004.7356146134099}, {'Time': datetime.datetime(2024, 5, 17, 14, 47, 49, 241045, tzinfo=tzutc())}), ({'Measurement': 'pressure_table'}, {'Field': 'value'}, {'value': 1008.8638101924025}, {'Time': datetime.datetime(2024, 5, 17, 14, 47, 49, 244065, tzinfo=tzutc())}), ({'Measurement': 'pressure_table'}, {'Field': 'value'}, {'value': 1015.9823817420605}, {'Time': datetime.datetime(2024, 5, 17, 14, 47, 49, 248305, tzinfo=tzutc())}), ({'Measurement': 'pressure_table'}, {'Field': 'value'}, {'value': 1000.7456448116983}, {'Time': datetime.datetime(2024, 5, 17, 14, 47, 49, 251822, tzinfo=tzutc())}), ({'Measurement': 'pressure_table'}, {'Field': 'value'}, {'value': 1013.5216507926098}, {'Time': datetime.datetime(2024, 5, 17, 14, 47, 49, 255690, tzinfo=tzutc())}), ({'Measurement': 'pressure_table'}, {'Field': 'value'}, {'value': 1019.7229475701243}, {'Time': datetime.datetime(2024, 5, 17, 14, 47, 49, 259743, tzinfo=tzutc())}), ({'Measurement': 'pressure_table'}, {'Field': 'value'}, {'value': 996.9794234439325}, {'Time': datetime.datetime(2024, 5, 17, 14, 47, 49, 263157, tzinfo=tzutc())}), ({'Measurement': 'pressure_table'}, {'Field': 'value'}, {'value': 1000.7456448116983}, {'Time': datetime.datetime(2024, 5, 17, 14, 47, 49, 267990, tzinfo=tzutc())}), ({'Measurement': 'pressure_table'}, {'Field': 'value'}, {'value': 1024.2663592210652}, {'Time': datetime.datetime(2024, 5, 17, 14, 47, 49, 272513, tzinfo=tzutc())}), ({'Measurement': 'pressure_table'}, {'Field': 'value'}, {'value': 1022.6939670815801}, {'Time': datetime.datetime(2024, 5, 17, 14, 47, 49, 277216, tzinfo=tzutc())}), ({'Measurement': 'pressure_table'}, {'Field': 'value'}, {'value': 1021.024563957964}, {'Time': datetime.datetime(2024, 5, 17, 14, 47, 49, 281377, tzinfo=tzutc())}), ({'Measurement': 'pressure_table'}, {'Field': 'value'}, {'value': 1018.7659081661494}, {'Time': datetime.datetime(2024, 5, 17, 14, 47, 49, 285109, tzinfo=tzutc())}), ({'Measurement': 'pressure_table'}, {'Field': 'value'}, {'value': 1001.2687659488583}, {'Time': datetime.datetime(2024, 5, 17, 14, 47, 49, 289068, tzinfo=tzutc())}), ({'Measurement': 'pressure_table'}, {'Field': 'value'}, {'value': 1027.8051479143442}, {'Time': datetime.datetime(2024, 5, 17, 14, 47, 49, 292881, tzinfo=tzutc())}), ({'Measurement': 'pressure_table'}, {'Field': 'value'}, {'value': 1002.9978465261044}, {'Time': datetime.datetime(2024, 5, 17, 14, 47, 49, 297747, tzinfo=tzutc())}), ({'Measurement': 'pressure_table'}, {'Field': 'value'}, {'value': 1019.3503143689211}, {'Time': datetime.datetime(2024, 5, 17, 14, 47, 49, 301710, tzinfo=tzutc())}), ({'Measurement': 'pressure_table'}, {'Field': 'value'}, {'value': 1005.3008392555469}, {'Time': datetime.datetime(2024, 5, 17, 14, 47, 49, 305564, tzinfo=tzutc())}), ({'Measurement': 'pressure_table'}, {'Field': 'value'}, {'value': 1006.0543214026864}, {'Time': datetime.datetime(2024, 5, 17, 14, 47, 49, 309365, tzinfo=tzutc())}), ({'Measurement': 'pressure_table'}, {'Field': 'value'}, {'value': 1005.3008392555469}, {'Time': datetime.datetime(2024, 5, 17, 14, 47, 49, 313872, tzinfo=tzutc())}), ({'Measurement': 'pressure_table'}, {'Field': 'value'}, {'value': 1005.5254518855925}, {'Time': datetime.datetime(2024, 5, 17, 14, 47, 49, 317257, tzinfo=tzutc())}), ({'Measurement': 'pressure_table'}, {'Field': 'value'}, {'value': 1022.4447948699042}, {'Time': datetime.datetime(2024, 5, 17, 14, 47, 49, 322266, tzinfo=tzutc())}), ({'Measurement': 'pressure_table'}, {'Field': 'value'}, {'value': 1004.9659033582616}, {'Time': datetime.datetime(2024, 5, 17, 14, 47, 49, 326523, tzinfo=tzutc())}), ({'Measurement': 'pressure_table'}, {'Field': 'value'}, {'value': 1004.7356146134099}, {'Time': datetime.datetime(2024, 5, 17, 14, 47, 49, 330613, tzinfo=tzutc())}), ({'Measurement': 'pressure_table'}, {'Field': 'value'}, {'value': 1016.1694261192484}, {'Time': datetime.datetime(2024, 5, 17, 14, 47, 49, 334634, tzinfo=tzutc())}), ({'Measurement': 'pressure_table'}, {'Field': 'value'}, {'value': 1008.6217995525557}, {'Time': datetime.datetime(2024, 5, 17, 14, 47, 49, 337976, tzinfo=tzutc())}), ({'Measurement': 'pressure_table'}, {'Field': 'value'}, {'value': 1002.9978465261044}, {'Time': datetime.datetime(2024, 5, 17, 14, 47, 49, 341607, tzinfo=tzutc())}), ({'Measurement': 'pressure_table'}, {'Field': 'value'}, {'value': 1009.4600608874651}, {'Time': datetime.datetime(2024, 5, 17, 14, 47, 49, 345984, tzinfo=tzutc())}), ({'Measurement': 'pressure_table'}, {'Field': 'value'}, {'value': 1015.6705086934918}, {'Time': datetime.datetime(2024, 5, 17, 14, 47, 49, 350836, tzinfo=tzutc())}), ({'Measurement': 'pressure_table'}, {'Field': 'value'}, {'value': 1000.0714309027655}, {'Time': datetime.datetime(2024, 5, 17, 14, 47, 49, 354690, tzinfo=tzutc())}), ({'Measurement': 'pressure_table'}, {'Field': 'value'}, {'value': 1031.6755896042657}, {'Time': datetime.datetime(2024, 5, 17, 14, 47, 49, 357701, tzinfo=tzutc())}), ({'Measurement': 'pressure_table'}, {'Field': 'value'}, {'value': 1006.3652171363789}, {'Time': datetime.datetime(2024, 5, 17, 14, 47, 49, 362144, tzinfo=tzutc())}), ({'Measurement': 'pressure_table'}, {'Field': 'value'}, {'value': 1016.1694261192484}, {'Time': datetime.datetime(2024, 5, 17, 14, 47, 49, 365528, tzinfo=tzutc())}), ({'Measurement': 'pressure_table'}, {'Field': 'value'}, {'value': 1017.3939170126454}, {'Time': datetime.datetime(2024, 5, 17, 14, 47, 49, 370727, tzinfo=tzutc())}), ({'Measurement': 'pressure_table'}, {'Field': 'value'}, {'value': 1022.2220667156653}, {'Time': datetime.datetime(2024, 5, 17, 14, 47, 49, 374708, tzinfo=tzutc())}), ({'Measurement': 'pressure_table'}, {'Field': 'value'}, {'value': 1024.880297923523}, {'Time': datetime.datetime(2024, 5, 17, 14, 47, 49, 378815, tzinfo=tzutc())}), ({'Measurement': 'pressure_table'}, {'Field': 'value'}, {'value': 997.5522890322239}, {'Time': datetime.datetime(2024, 5, 17, 14, 47, 49, 383332, tzinfo=tzutc())}), ({'Measurement': 'pressure_table'}, {'Field': 'value'}, {'value': 1002.6575715821554}, {'Time': datetime.datetime(2024, 5, 17, 14, 47, 49, 386375, tzinfo=tzutc())}), ({'Measurement': 'pressure_table'}, {'Field': 'value'}, {'value': 1015.6705086934918}, {'Time': datetime.datetime(2024, 5, 17, 14, 47, 49, 390172, tzinfo=tzutc())}), ({'Measurement': 'pressure_table'}, {'Field': 'value'}, {'value': 1020.7179055121367}, {'Time': datetime.datetime(2024, 5, 17, 14, 47, 49, 394046, tzinfo=tzutc())}), ({'Measurement': 'pressure_table'}, {'Field': 'value'}, {'value': 1002.6575715821554}, {'Time': datetime.datetime(2024, 5, 17, 14, 47, 49, 399582, tzinfo=tzutc())}), ({'Measurement': 'pressure_table'}, {'Field': 'value'}, {'value': 1019.764332949465}, {'Time': datetime.datetime(2024, 5, 17, 14, 47, 49, 402802, tzinfo=tzutc())}), ({'Measurement': 'pressure_table'}, {'Field': 'value'}, {'value': 1017.3939170126454}, {'Time': datetime.datetime(2024, 5, 17, 14, 47, 49, 407785, tzinfo=tzutc())}), ({'Measurement': 'pressure_table'}, {'Field': 'value'}, {'value': 1021.4436297640154}, {'Time': datetime.datetime(2024, 5, 17, 14, 47, 49, 410951, tzinfo=tzutc())}), ({'Measurement': 'pressure_table'}, {'Field': 'value'}, {'value': 1027.8051479143442}, {'Time': datetime.datetime(2024, 5, 17, 14, 47, 49, 415090, tzinfo=tzutc())}), ({'Measurement': 'pressure_table'}, {'Field': 'value'}, {'value': 1024.880297923523}, {'Time': datetime.datetime(2024, 5, 17, 14, 47, 49, 418675, tzinfo=tzutc())}), ({'Measurement': 'pressure_table'}, {'Field': 'value'}, {'value': 1021.5683061190269}, {'Time': datetime.datetime(2024, 5, 17, 14, 47, 49, 424618, tzinfo=tzutc())}), ({'Measurement': 'pressure_table'}, {'Field': 'value'}, {'value': 1000.7456448116983}, {'Time': datetime.datetime(2024, 5, 17, 14, 47, 49, 428940, tzinfo=tzutc())}), ({'Measurement': 'pressure_table'}, {'Field': 'value'}, {'value': 1004.7356146134099}, {'Time': datetime.datetime(2024, 5, 17, 14, 47, 49, 432546, tzinfo=tzutc())}), ({'Measurement': 'pressure_table'}, {'Field': 'value'}, {'value': 1021.2350415396373}, {'Time': datetime.datetime(2024, 5, 17, 14, 47, 49, 437374, tzinfo=tzutc())}), ({'Measurement': 'pressure_table'}, {'Field': 'value'}, {'value': 1001.2687659488583}, {'Time': datetime.datetime(2024, 5, 17, 14, 47, 49, 440975, tzinfo=tzutc())}), ({'Measurement': 'pressure_table'}, {'Field': 'value'}, {'value': 1019.2523145102718}, {'Time': datetime.datetime(2024, 5, 17, 14, 47, 49, 444543, tzinfo=tzutc())}), ({'Measurement': 'pressure_table'}, {'Field': 'value'}, {'value': 1010.3199662904861}, {'Time': datetime.datetime(2024, 5, 17, 14, 47, 49, 449560, tzinfo=tzutc())})]\n",
      "Dictionary created: {'pressure': [1032.1006495309903, 1016.1872765294302, 1032.436211856493, 1012.0154747557457, 1005.6043700360868, 1031.4926372847933, 1031.8315069705625, 1028.4301459540673, 1026.2638589668702, 1027.8051479143442, 1018.3924919129182, 1005.3008392555469, 1020.7179055121367, 1011.4498990690917, 1022.4942080692576, 1012.3175839467536, 1024.2663592210652, 1031.6755896042657, 1008.8638101924025, 1013.8755124138519, 1034.632359492807, 1001.525313475889, 1013.3183055827435, 1015.9823817420605, 1000.2951500151427, 1019.7229475701243, 1021.024563957964, 1017.3939170126454, 1006.4897440669986, 1017.0746183624111, 1008.6217995525557, 1028.4301459540673, 1022.4725196777375, 1019.7229475701243, 1019.1407937034608, 1019.2523145102718, 1011.2845366877775, 1006.6415392162112, 1032.436211856493, 1000.0714309027655, 1002.0693849126949, 1016.1872765294302, 1026.365279494364, 1021.5683061190269, 999.5224093885755, 1012.3175839467536, 1002.2006849163657, 1027.8051479143442, 1004.7356146134099, 1008.8638101924025, 1015.9823817420605, 1000.7456448116983, 1013.5216507926098, 1019.7229475701243, 996.9794234439325, 1000.7456448116983, 1024.2663592210652, 1022.6939670815801, 1021.024563957964, 1018.7659081661494, 1001.2687659488583, 1027.8051479143442, 1002.9978465261044, 1019.3503143689211, 1005.3008392555469, 1006.0543214026864, 1005.3008392555469, 1005.5254518855925, 1022.4447948699042, 1004.9659033582616, 1004.7356146134099, 1016.1694261192484, 1008.6217995525557, 1002.9978465261044, 1009.4600608874651, 1015.6705086934918, 1000.0714309027655, 1031.6755896042657, 1006.3652171363789, 1016.1694261192484, 1017.3939170126454, 1022.2220667156653, 1024.880297923523, 997.5522890322239, 1002.6575715821554, 1015.6705086934918, 1020.7179055121367, 1002.6575715821554, 1019.764332949465, 1017.3939170126454, 1021.4436297640154, 1027.8051479143442, 1024.880297923523, 1021.5683061190269, 1000.7456448116983, 1004.7356146134099, 1021.2350415396373, 1001.2687659488583, 1019.2523145102718, 1010.3199662904861]}\n"
     ]
    }
   ],
   "source": [
    "query_api = client.query_api()\n",
    "\n",
    "\n",
    "weather_query_pressure =  'from(bucket:\"Weather_Bucket\")\\\n",
    "|> range(start: -1d)\\\n",
    "|> filter(fn:(r) => r._measurement == \"pressure_table\")'\n",
    "                \n",
    "result = query_api.query(query=weather_query_pressure, org = org)\n",
    "\n",
    "# Process the results\n",
    "results_pressure = []\n",
    "pressure_dictionary = {}\n",
    "pressure_record_values = []\n",
    "\n",
    "for table in result:\n",
    "  print(\"Number of Records Retrived for Pressure\",len(table.records))\n",
    "  for record in table.records:\n",
    "    pressure_record_values.append( record.get_value())\n",
    "    results.append(({'Measurement': record.get_measurement()}, {'Field': record.get_field()},  {'value':record.get_value()},{'Time': record.get_time()}))\n",
    "\n",
    "print(results)\n",
    "pressure_dictionary['pressure'] = pressure_record_values\n",
    "\n",
    "print(\"Dictionary created:\", pressure_dictionary)"
   ]
  },
  {
   "cell_type": "markdown",
   "metadata": {},
   "source": [
    "Humdity"
   ]
  },
  {
   "cell_type": "code",
   "execution_count": 50,
   "metadata": {},
   "outputs": [
    {
     "name": "stdout",
     "output_type": "stream",
     "text": [
      "Number of Records Retrived for Humidity 100\n",
      "[({'Measurement': 'humidity_table'}, {'Field': 'value'}, {'value': 39.14277047966564}, {'Time': datetime.datetime(2024, 5, 17, 14, 48, 2, 561005, tzinfo=tzutc())}), ({'Measurement': 'humidity_table'}, {'Field': 'value'}, {'value': 68.20357816185184}, {'Time': datetime.datetime(2024, 5, 17, 14, 48, 2, 572707, tzinfo=tzutc())}), ({'Measurement': 'humidity_table'}, {'Field': 'value'}, {'value': 58.32100092522851}, {'Time': datetime.datetime(2024, 5, 17, 14, 48, 2, 578684, tzinfo=tzutc())}), ({'Measurement': 'humidity_table'}, {'Field': 'value'}, {'value': 37.43824880716842}, {'Time': datetime.datetime(2024, 5, 17, 14, 48, 2, 582704, tzinfo=tzutc())}), ({'Measurement': 'humidity_table'}, {'Field': 'value'}, {'value': 20.67151344394972}, {'Time': datetime.datetime(2024, 5, 17, 14, 48, 2, 585704, tzinfo=tzutc())}), ({'Measurement': 'humidity_table'}, {'Field': 'value'}, {'value': 43.6134316570981}, {'Time': datetime.datetime(2024, 5, 17, 14, 48, 2, 587704, tzinfo=tzutc())}), ({'Measurement': 'humidity_table'}, {'Field': 'value'}, {'value': 80.72754108491596}, {'Time': datetime.datetime(2024, 5, 17, 14, 48, 2, 591234, tzinfo=tzutc())}), ({'Measurement': 'humidity_table'}, {'Field': 'value'}, {'value': 36.15900304431218}, {'Time': datetime.datetime(2024, 5, 17, 14, 48, 2, 594226, tzinfo=tzutc())}), ({'Measurement': 'humidity_table'}, {'Field': 'value'}, {'value': 28.799683545569053}, {'Time': datetime.datetime(2024, 5, 17, 14, 48, 2, 598227, tzinfo=tzutc())}), ({'Measurement': 'humidity_table'}, {'Field': 'value'}, {'value': 45.21241644848147}, {'Time': datetime.datetime(2024, 5, 17, 14, 48, 2, 601841, tzinfo=tzutc())}), ({'Measurement': 'humidity_table'}, {'Field': 'value'}, {'value': 43.819740619057555}, {'Time': datetime.datetime(2024, 5, 17, 14, 48, 2, 603809, tzinfo=tzutc())}), ({'Measurement': 'humidity_table'}, {'Field': 'value'}, {'value': 55.598491980864765}, {'Time': datetime.datetime(2024, 5, 17, 14, 48, 2, 607275, tzinfo=tzutc())}), ({'Measurement': 'humidity_table'}, {'Field': 'value'}, {'value': 26.876351363561746}, {'Time': datetime.datetime(2024, 5, 17, 14, 48, 2, 610283, tzinfo=tzutc())}), ({'Measurement': 'humidity_table'}, {'Field': 'value'}, {'value': 47.281005986433584}, {'Time': datetime.datetime(2024, 5, 17, 14, 48, 2, 612883, tzinfo=tzutc())}), ({'Measurement': 'humidity_table'}, {'Field': 'value'}, {'value': 41.79900613594903}, {'Time': datetime.datetime(2024, 5, 17, 14, 48, 2, 615887, tzinfo=tzutc())}), ({'Measurement': 'humidity_table'}, {'Field': 'value'}, {'value': 68.20357816185184}, {'Time': datetime.datetime(2024, 5, 17, 14, 48, 2, 618846, tzinfo=tzutc())}), ({'Measurement': 'humidity_table'}, {'Field': 'value'}, {'value': 80.72754108491596}, {'Time': datetime.datetime(2024, 5, 17, 14, 48, 2, 622184, tzinfo=tzutc())}), ({'Measurement': 'humidity_table'}, {'Field': 'value'}, {'value': 18.341232053298363}, {'Time': datetime.datetime(2024, 5, 17, 14, 48, 2, 626372, tzinfo=tzutc())}), ({'Measurement': 'humidity_table'}, {'Field': 'value'}, {'value': 16.479923873400466}, {'Time': datetime.datetime(2024, 5, 17, 14, 48, 2, 629371, tzinfo=tzutc())}), ({'Measurement': 'humidity_table'}, {'Field': 'value'}, {'value': 39.14277047966564}, {'Time': datetime.datetime(2024, 5, 17, 14, 48, 2, 632899, tzinfo=tzutc())}), ({'Measurement': 'humidity_table'}, {'Field': 'value'}, {'value': 9.386310644370113}, {'Time': datetime.datetime(2024, 5, 17, 14, 48, 2, 635899, tzinfo=tzutc())}), ({'Measurement': 'humidity_table'}, {'Field': 'value'}, {'value': 26.876351363561746}, {'Time': datetime.datetime(2024, 5, 17, 14, 48, 2, 638898, tzinfo=tzutc())}), ({'Measurement': 'humidity_table'}, {'Field': 'value'}, {'value': 79.88969088982738}, {'Time': datetime.datetime(2024, 5, 17, 14, 48, 2, 641928, tzinfo=tzutc())}), ({'Measurement': 'humidity_table'}, {'Field': 'value'}, {'value': 71.99319191774227}, {'Time': datetime.datetime(2024, 5, 17, 14, 48, 2, 644858, tzinfo=tzutc())}), ({'Measurement': 'humidity_table'}, {'Field': 'value'}, {'value': 8.600299499729346}, {'Time': datetime.datetime(2024, 5, 17, 14, 48, 2, 648839, tzinfo=tzutc())}), ({'Measurement': 'humidity_table'}, {'Field': 'value'}, {'value': 30.88109999014446}, {'Time': datetime.datetime(2024, 5, 17, 14, 48, 2, 652531, tzinfo=tzutc())}), ({'Measurement': 'humidity_table'}, {'Field': 'value'}, {'value': 48.03699220714084}, {'Time': datetime.datetime(2024, 5, 17, 14, 48, 2, 656361, tzinfo=tzutc())}), ({'Measurement': 'humidity_table'}, {'Field': 'value'}, {'value': 40.13360233275612}, {'Time': datetime.datetime(2024, 5, 17, 14, 48, 2, 659909, tzinfo=tzutc())}), ({'Measurement': 'humidity_table'}, {'Field': 'value'}, {'value': 21.518781820349368}, {'Time': datetime.datetime(2024, 5, 17, 14, 48, 2, 663155, tzinfo=tzutc())}), ({'Measurement': 'humidity_table'}, {'Field': 'value'}, {'value': 58.52517461556202}, {'Time': datetime.datetime(2024, 5, 17, 14, 48, 2, 667635, tzinfo=tzutc())}), ({'Measurement': 'humidity_table'}, {'Field': 'value'}, {'value': 49.15485696678714}, {'Time': datetime.datetime(2024, 5, 17, 14, 48, 2, 675327, tzinfo=tzutc())}), ({'Measurement': 'humidity_table'}, {'Field': 'value'}, {'value': 39.14277047966564}, {'Time': datetime.datetime(2024, 5, 17, 14, 48, 2, 678224, tzinfo=tzutc())}), ({'Measurement': 'humidity_table'}, {'Field': 'value'}, {'value': 57.9809269128026}, {'Time': datetime.datetime(2024, 5, 17, 14, 48, 2, 682074, tzinfo=tzutc())}), ({'Measurement': 'humidity_table'}, {'Field': 'value'}, {'value': 49.65959172277119}, {'Time': datetime.datetime(2024, 5, 17, 14, 48, 2, 684775, tzinfo=tzutc())}), ({'Measurement': 'humidity_table'}, {'Field': 'value'}, {'value': 39.86367291402625}, {'Time': datetime.datetime(2024, 5, 17, 14, 48, 2, 688608, tzinfo=tzutc())}), ({'Measurement': 'humidity_table'}, {'Field': 'value'}, {'value': 47.67792121931267}, {'Time': datetime.datetime(2024, 5, 17, 14, 48, 2, 691134, tzinfo=tzutc())}), ({'Measurement': 'humidity_table'}, {'Field': 'value'}, {'value': 96.07833395367884}, {'Time': datetime.datetime(2024, 5, 17, 14, 48, 2, 695248, tzinfo=tzutc())}), ({'Measurement': 'humidity_table'}, {'Field': 'value'}, {'value': 53.13013075930751}, {'Time': datetime.datetime(2024, 5, 17, 14, 48, 2, 698391, tzinfo=tzutc())}), ({'Measurement': 'humidity_table'}, {'Field': 'value'}, {'value': 53.13013075930751}, {'Time': datetime.datetime(2024, 5, 17, 14, 48, 2, 701965, tzinfo=tzutc())}), ({'Measurement': 'humidity_table'}, {'Field': 'value'}, {'value': 20.67151344394972}, {'Time': datetime.datetime(2024, 5, 17, 14, 48, 2, 704362, tzinfo=tzutc())}), ({'Measurement': 'humidity_table'}, {'Field': 'value'}, {'value': 73.0466312956624}, {'Time': datetime.datetime(2024, 5, 17, 14, 48, 2, 707853, tzinfo=tzutc())}), ({'Measurement': 'humidity_table'}, {'Field': 'value'}, {'value': 37.43824880716842}, {'Time': datetime.datetime(2024, 5, 17, 14, 48, 2, 710626, tzinfo=tzutc())}), ({'Measurement': 'humidity_table'}, {'Field': 'value'}, {'value': 49.51347751202129}, {'Time': datetime.datetime(2024, 5, 17, 14, 48, 2, 712619, tzinfo=tzutc())}), ({'Measurement': 'humidity_table'}, {'Field': 'value'}, {'value': 57.40111775695038}, {'Time': datetime.datetime(2024, 5, 17, 14, 48, 2, 716498, tzinfo=tzutc())}), ({'Measurement': 'humidity_table'}, {'Field': 'value'}, {'value': 55.72687377784559}, {'Time': datetime.datetime(2024, 5, 17, 14, 48, 2, 719957, tzinfo=tzutc())}), ({'Measurement': 'humidity_table'}, {'Field': 'value'}, {'value': 44.04418241196544}, {'Time': datetime.datetime(2024, 5, 17, 14, 48, 2, 721675, tzinfo=tzutc())}), ({'Measurement': 'humidity_table'}, {'Field': 'value'}, {'value': 45.24156540527986}, {'Time': datetime.datetime(2024, 5, 17, 14, 48, 2, 726341, tzinfo=tzutc())}), ({'Measurement': 'humidity_table'}, {'Field': 'value'}, {'value': 29.094932677060903}, {'Time': datetime.datetime(2024, 5, 17, 14, 48, 2, 729320, tzinfo=tzutc())}), ({'Measurement': 'humidity_table'}, {'Field': 'value'}, {'value': 51.76844174089323}, {'Time': datetime.datetime(2024, 5, 17, 14, 48, 2, 732735, tzinfo=tzutc())}), ({'Measurement': 'humidity_table'}, {'Field': 'value'}, {'value': 43.6134316570981}, {'Time': datetime.datetime(2024, 5, 17, 14, 48, 2, 735744, tzinfo=tzutc())}), ({'Measurement': 'humidity_table'}, {'Field': 'value'}, {'value': 22.33272089209889}, {'Time': datetime.datetime(2024, 5, 17, 14, 48, 2, 739214, tzinfo=tzutc())}), ({'Measurement': 'humidity_table'}, {'Field': 'value'}, {'value': 26.876351363561746}, {'Time': datetime.datetime(2024, 5, 17, 14, 48, 2, 742690, tzinfo=tzutc())}), ({'Measurement': 'humidity_table'}, {'Field': 'value'}, {'value': 38.48424060373868}, {'Time': datetime.datetime(2024, 5, 17, 14, 48, 2, 745562, tzinfo=tzutc())}), ({'Measurement': 'humidity_table'}, {'Field': 'value'}, {'value': 57.58303471110163}, {'Time': datetime.datetime(2024, 5, 17, 14, 48, 2, 749323, tzinfo=tzutc())}), ({'Measurement': 'humidity_table'}, {'Field': 'value'}, {'value': 43.08036448601227}, {'Time': datetime.datetime(2024, 5, 17, 14, 48, 2, 752348, tzinfo=tzutc())}), ({'Measurement': 'humidity_table'}, {'Field': 'value'}, {'value': 39.14277047966564}, {'Time': datetime.datetime(2024, 5, 17, 14, 48, 2, 755236, tzinfo=tzutc())}), ({'Measurement': 'humidity_table'}, {'Field': 'value'}, {'value': 21.518781820349368}, {'Time': datetime.datetime(2024, 5, 17, 14, 48, 2, 758077, tzinfo=tzutc())}), ({'Measurement': 'humidity_table'}, {'Field': 'value'}, {'value': 26.876351363561746}, {'Time': datetime.datetime(2024, 5, 17, 14, 48, 2, 763292, tzinfo=tzutc())}), ({'Measurement': 'humidity_table'}, {'Field': 'value'}, {'value': 47.34238844826089}, {'Time': datetime.datetime(2024, 5, 17, 14, 48, 2, 767690, tzinfo=tzutc())}), ({'Measurement': 'humidity_table'}, {'Field': 'value'}, {'value': 71.59237184073642}, {'Time': datetime.datetime(2024, 5, 17, 14, 48, 2, 770603, tzinfo=tzutc())}), ({'Measurement': 'humidity_table'}, {'Field': 'value'}, {'value': 52.83906326641559}, {'Time': datetime.datetime(2024, 5, 17, 14, 48, 2, 774283, tzinfo=tzutc())}), ({'Measurement': 'humidity_table'}, {'Field': 'value'}, {'value': 55.598491980864765}, {'Time': datetime.datetime(2024, 5, 17, 14, 48, 2, 779568, tzinfo=tzutc())}), ({'Measurement': 'humidity_table'}, {'Field': 'value'}, {'value': 45.24156540527986}, {'Time': datetime.datetime(2024, 5, 17, 14, 48, 2, 783679, tzinfo=tzutc())}), ({'Measurement': 'humidity_table'}, {'Field': 'value'}, {'value': 57.80186645375853}, {'Time': datetime.datetime(2024, 5, 17, 14, 48, 2, 786699, tzinfo=tzutc())}), ({'Measurement': 'humidity_table'}, {'Field': 'value'}, {'value': 40.67161806528114}, {'Time': datetime.datetime(2024, 5, 17, 14, 48, 2, 790246, tzinfo=tzutc())}), ({'Measurement': 'humidity_table'}, {'Field': 'value'}, {'value': 89.11824616501389}, {'Time': datetime.datetime(2024, 5, 17, 14, 48, 2, 795225, tzinfo=tzutc())}), ({'Measurement': 'humidity_table'}, {'Field': 'value'}, {'value': 28.799683545569053}, {'Time': datetime.datetime(2024, 5, 17, 14, 48, 2, 798231, tzinfo=tzutc())}), ({'Measurement': 'humidity_table'}, {'Field': 'value'}, {'value': 42.180932496247976}, {'Time': datetime.datetime(2024, 5, 17, 14, 48, 2, 802687, tzinfo=tzutc())}), ({'Measurement': 'humidity_table'}, {'Field': 'value'}, {'value': 72.7378272520539}, {'Time': datetime.datetime(2024, 5, 17, 14, 48, 2, 807088, tzinfo=tzutc())}), ({'Measurement': 'humidity_table'}, {'Field': 'value'}, {'value': 51.76844174089323}, {'Time': datetime.datetime(2024, 5, 17, 14, 48, 2, 810653, tzinfo=tzutc())}), ({'Measurement': 'humidity_table'}, {'Field': 'value'}, {'value': 30.88109999014446}, {'Time': datetime.datetime(2024, 5, 17, 14, 48, 2, 814519, tzinfo=tzutc())}), ({'Measurement': 'humidity_table'}, {'Field': 'value'}, {'value': 63.53816070060491}, {'Time': datetime.datetime(2024, 5, 17, 14, 48, 2, 819091, tzinfo=tzutc())}), ({'Measurement': 'humidity_table'}, {'Field': 'value'}, {'value': 17.66087911378331}, {'Time': datetime.datetime(2024, 5, 17, 14, 48, 2, 822027, tzinfo=tzutc())}), ({'Measurement': 'humidity_table'}, {'Field': 'value'}, {'value': 48.03699220714084}, {'Time': datetime.datetime(2024, 5, 17, 14, 48, 2, 826642, tzinfo=tzutc())}), ({'Measurement': 'humidity_table'}, {'Field': 'value'}, {'value': 26.222814844319423}, {'Time': datetime.datetime(2024, 5, 17, 14, 48, 2, 831853, tzinfo=tzutc())}), ({'Measurement': 'humidity_table'}, {'Field': 'value'}, {'value': 47.78918685535055}, {'Time': datetime.datetime(2024, 5, 17, 14, 48, 2, 836135, tzinfo=tzutc())}), ({'Measurement': 'humidity_table'}, {'Field': 'value'}, {'value': 43.78227656603057}, {'Time': datetime.datetime(2024, 5, 17, 14, 48, 2, 839008, tzinfo=tzutc())}), ({'Measurement': 'humidity_table'}, {'Field': 'value'}, {'value': 62.176876689509015}, {'Time': datetime.datetime(2024, 5, 17, 14, 48, 2, 842656, tzinfo=tzutc())}), ({'Measurement': 'humidity_table'}, {'Field': 'value'}, {'value': 49.65959172277119}, {'Time': datetime.datetime(2024, 5, 17, 14, 48, 2, 847384, tzinfo=tzutc())}), ({'Measurement': 'humidity_table'}, {'Field': 'value'}, {'value': 43.6134316570981}, {'Time': datetime.datetime(2024, 5, 17, 14, 48, 2, 850787, tzinfo=tzutc())}), ({'Measurement': 'humidity_table'}, {'Field': 'value'}, {'value': 21.518781820349368}, {'Time': datetime.datetime(2024, 5, 17, 14, 48, 2, 856117, tzinfo=tzutc())}), ({'Measurement': 'humidity_table'}, {'Field': 'value'}, {'value': 45.21241644848147}, {'Time': datetime.datetime(2024, 5, 17, 14, 48, 2, 860189, tzinfo=tzutc())}), ({'Measurement': 'humidity_table'}, {'Field': 'value'}, {'value': 39.86367291402625}, {'Time': datetime.datetime(2024, 5, 17, 14, 48, 2, 863590, tzinfo=tzutc())}), ({'Measurement': 'humidity_table'}, {'Field': 'value'}, {'value': 49.65959172277119}, {'Time': datetime.datetime(2024, 5, 17, 14, 48, 2, 867402, tzinfo=tzutc())}), ({'Measurement': 'humidity_table'}, {'Field': 'value'}, {'value': 59.87483554698377}, {'Time': datetime.datetime(2024, 5, 17, 14, 48, 2, 871621, tzinfo=tzutc())}), ({'Measurement': 'humidity_table'}, {'Field': 'value'}, {'value': 18.341232053298363}, {'Time': datetime.datetime(2024, 5, 17, 14, 48, 2, 875012, tzinfo=tzutc())}), ({'Measurement': 'humidity_table'}, {'Field': 'value'}, {'value': 73.0466312956624}, {'Time': datetime.datetime(2024, 5, 17, 14, 48, 2, 878603, tzinfo=tzutc())}), ({'Measurement': 'humidity_table'}, {'Field': 'value'}, {'value': 47.281005986433584}, {'Time': datetime.datetime(2024, 5, 17, 14, 48, 2, 883586, tzinfo=tzutc())}), ({'Measurement': 'humidity_table'}, {'Field': 'value'}, {'value': 52.83906326641559}, {'Time': datetime.datetime(2024, 5, 17, 14, 48, 2, 887990, tzinfo=tzutc())}), ({'Measurement': 'humidity_table'}, {'Field': 'value'}, {'value': 52.83906326641559}, {'Time': datetime.datetime(2024, 5, 17, 14, 48, 2, 892368, tzinfo=tzutc())}), ({'Measurement': 'humidity_table'}, {'Field': 'value'}, {'value': 54.643620724005515}, {'Time': datetime.datetime(2024, 5, 17, 14, 48, 2, 895259, tzinfo=tzutc())}), ({'Measurement': 'humidity_table'}, {'Field': 'value'}, {'value': 51.76844174089323}, {'Time': datetime.datetime(2024, 5, 17, 14, 48, 2, 899935, tzinfo=tzutc())}), ({'Measurement': 'humidity_table'}, {'Field': 'value'}, {'value': 53.77557193587657}, {'Time': datetime.datetime(2024, 5, 17, 14, 48, 2, 905869, tzinfo=tzutc())}), ({'Measurement': 'humidity_table'}, {'Field': 'value'}, {'value': 43.6134316570981}, {'Time': datetime.datetime(2024, 5, 17, 14, 48, 2, 909871, tzinfo=tzutc())}), ({'Measurement': 'humidity_table'}, {'Field': 'value'}, {'value': 28.799683545569053}, {'Time': datetime.datetime(2024, 5, 17, 14, 48, 2, 913848, tzinfo=tzutc())}), ({'Measurement': 'humidity_table'}, {'Field': 'value'}, {'value': 38.48424060373868}, {'Time': datetime.datetime(2024, 5, 17, 14, 48, 2, 918682, tzinfo=tzutc())}), ({'Measurement': 'humidity_table'}, {'Field': 'value'}, {'value': 20.67151344394972}, {'Time': datetime.datetime(2024, 5, 17, 14, 48, 2, 923334, tzinfo=tzutc())}), ({'Measurement': 'humidity_table'}, {'Field': 'value'}, {'value': 16.479923873400466}, {'Time': datetime.datetime(2024, 5, 17, 14, 48, 2, 926856, tzinfo=tzutc())}), ({'Measurement': 'humidity_table'}, {'Field': 'value'}, {'value': 51.76844174089323}, {'Time': datetime.datetime(2024, 5, 17, 14, 48, 2, 931247, tzinfo=tzutc())}), ({'Measurement': 'humidity_table'}, {'Field': 'value'}, {'value': 63.10527461445196}, {'Time': datetime.datetime(2024, 5, 17, 14, 48, 2, 935059, tzinfo=tzutc())})]\n",
      "Dictionary created: {'humidity': [39.14277047966564, 68.20357816185184, 58.32100092522851, 37.43824880716842, 20.67151344394972, 43.6134316570981, 80.72754108491596, 36.15900304431218, 28.799683545569053, 45.21241644848147, 43.819740619057555, 55.598491980864765, 26.876351363561746, 47.281005986433584, 41.79900613594903, 68.20357816185184, 80.72754108491596, 18.341232053298363, 16.479923873400466, 39.14277047966564, 9.386310644370113, 26.876351363561746, 79.88969088982738, 71.99319191774227, 8.600299499729346, 30.88109999014446, 48.03699220714084, 40.13360233275612, 21.518781820349368, 58.52517461556202, 49.15485696678714, 39.14277047966564, 57.9809269128026, 49.65959172277119, 39.86367291402625, 47.67792121931267, 96.07833395367884, 53.13013075930751, 53.13013075930751, 20.67151344394972, 73.0466312956624, 37.43824880716842, 49.51347751202129, 57.40111775695038, 55.72687377784559, 44.04418241196544, 45.24156540527986, 29.094932677060903, 51.76844174089323, 43.6134316570981, 22.33272089209889, 26.876351363561746, 38.48424060373868, 57.58303471110163, 43.08036448601227, 39.14277047966564, 21.518781820349368, 26.876351363561746, 47.34238844826089, 71.59237184073642, 52.83906326641559, 55.598491980864765, 45.24156540527986, 57.80186645375853, 40.67161806528114, 89.11824616501389, 28.799683545569053, 42.180932496247976, 72.7378272520539, 51.76844174089323, 30.88109999014446, 63.53816070060491, 17.66087911378331, 48.03699220714084, 26.222814844319423, 47.78918685535055, 43.78227656603057, 62.176876689509015, 49.65959172277119, 43.6134316570981, 21.518781820349368, 45.21241644848147, 39.86367291402625, 49.65959172277119, 59.87483554698377, 18.341232053298363, 73.0466312956624, 47.281005986433584, 52.83906326641559, 52.83906326641559, 54.643620724005515, 51.76844174089323, 53.77557193587657, 43.6134316570981, 28.799683545569053, 38.48424060373868, 20.67151344394972, 16.479923873400466, 51.76844174089323, 63.10527461445196]}\n"
     ]
    }
   ],
   "source": [
    "query_api = client.query_api()\n",
    "\n",
    "\n",
    "weather_query_humidity =  'from(bucket:\"Weather_Bucket\")\\\n",
    "|> range(start: -1d)\\\n",
    "|> filter(fn:(r) => r._measurement == \"humidity_table\")'\n",
    "                \n",
    "result = query_api.query(query=weather_query_humidity, org = org)\n",
    "\n",
    "# Process the results\n",
    "results = []\n",
    "humidity_dictionary = {}\n",
    "humidity_record_values = []\n",
    "for table in result:\n",
    "  print(\"Number of Records Retrived for Humidity\",len(table.records))\n",
    "  for record in table.records:\n",
    "    humidity_record_values.append( record.get_value())\n",
    "    results.append(({'Measurement': record.get_measurement()}, {'Field': record.get_field()},  {'value':record.get_value()},{'Time': record.get_time()}))\n",
    "\n",
    "print(results)\n",
    "humidity_dictionary['humidity'] = humidity_record_values\n",
    "\n",
    "print(\"Dictionary created:\", humidity_dictionary)"
   ]
  },
  {
   "cell_type": "markdown",
   "metadata": {},
   "source": [
    "### Pandas Dataframe"
   ]
  },
  {
   "cell_type": "code",
   "execution_count": 52,
   "metadata": {},
   "outputs": [
    {
     "data": {
      "text/html": [
       "<div>\n",
       "<style scoped>\n",
       "    .dataframe tbody tr th:only-of-type {\n",
       "        vertical-align: middle;\n",
       "    }\n",
       "\n",
       "    .dataframe tbody tr th {\n",
       "        vertical-align: top;\n",
       "    }\n",
       "\n",
       "    .dataframe thead th {\n",
       "        text-align: right;\n",
       "    }\n",
       "</style>\n",
       "<table border=\"1\" class=\"dataframe\">\n",
       "  <thead>\n",
       "    <tr style=\"text-align: right;\">\n",
       "      <th></th>\n",
       "      <th>temperature</th>\n",
       "      <th>pressure</th>\n",
       "      <th>humidity</th>\n",
       "    </tr>\n",
       "  </thead>\n",
       "  <tbody>\n",
       "    <tr>\n",
       "      <th>0</th>\n",
       "      <td>26.011899</td>\n",
       "      <td>1032.100650</td>\n",
       "      <td>39.142770</td>\n",
       "    </tr>\n",
       "    <tr>\n",
       "      <th>1</th>\n",
       "      <td>11.930511</td>\n",
       "      <td>1016.187277</td>\n",
       "      <td>68.203578</td>\n",
       "    </tr>\n",
       "    <tr>\n",
       "      <th>2</th>\n",
       "      <td>7.235051</td>\n",
       "      <td>1032.436212</td>\n",
       "      <td>58.321001</td>\n",
       "    </tr>\n",
       "    <tr>\n",
       "      <th>3</th>\n",
       "      <td>19.483906</td>\n",
       "      <td>1012.015475</td>\n",
       "      <td>37.438249</td>\n",
       "    </tr>\n",
       "    <tr>\n",
       "      <th>4</th>\n",
       "      <td>14.174251</td>\n",
       "      <td>1005.604370</td>\n",
       "      <td>20.671513</td>\n",
       "    </tr>\n",
       "    <tr>\n",
       "      <th>...</th>\n",
       "      <td>...</td>\n",
       "      <td>...</td>\n",
       "      <td>...</td>\n",
       "    </tr>\n",
       "    <tr>\n",
       "      <th>95</th>\n",
       "      <td>25.272259</td>\n",
       "      <td>1004.735615</td>\n",
       "      <td>38.484241</td>\n",
       "    </tr>\n",
       "    <tr>\n",
       "      <th>96</th>\n",
       "      <td>18.974209</td>\n",
       "      <td>1021.235042</td>\n",
       "      <td>20.671513</td>\n",
       "    </tr>\n",
       "    <tr>\n",
       "      <th>97</th>\n",
       "      <td>13.825871</td>\n",
       "      <td>1001.268766</td>\n",
       "      <td>16.479924</td>\n",
       "    </tr>\n",
       "    <tr>\n",
       "      <th>98</th>\n",
       "      <td>18.260439</td>\n",
       "      <td>1019.252315</td>\n",
       "      <td>51.768442</td>\n",
       "    </tr>\n",
       "    <tr>\n",
       "      <th>99</th>\n",
       "      <td>18.488486</td>\n",
       "      <td>1010.319966</td>\n",
       "      <td>63.105275</td>\n",
       "    </tr>\n",
       "  </tbody>\n",
       "</table>\n",
       "<p>100 rows × 3 columns</p>\n",
       "</div>"
      ],
      "text/plain": [
       "    temperature     pressure   humidity\n",
       "0     26.011899  1032.100650  39.142770\n",
       "1     11.930511  1016.187277  68.203578\n",
       "2      7.235051  1032.436212  58.321001\n",
       "3     19.483906  1012.015475  37.438249\n",
       "4     14.174251  1005.604370  20.671513\n",
       "..          ...          ...        ...\n",
       "95    25.272259  1004.735615  38.484241\n",
       "96    18.974209  1021.235042  20.671513\n",
       "97    13.825871  1001.268766  16.479924\n",
       "98    18.260439  1019.252315  51.768442\n",
       "99    18.488486  1010.319966  63.105275\n",
       "\n",
       "[100 rows x 3 columns]"
      ]
     },
     "execution_count": 52,
     "metadata": {},
     "output_type": "execute_result"
    }
   ],
   "source": [
    "# Create individual DataFrames\n",
    "df1 = pd.DataFrame(temp_dictionary)\n",
    "df2 = pd.DataFrame(pressure_dictionary)\n",
    "df3 = pd.DataFrame(humidity_dictionary)\n",
    "\n",
    "\n",
    "# Concatenate DataFrames along columns\n",
    "weather_df = pd.concat([df1, df2, df3], axis=1)\n",
    "\n",
    "weather_df"
   ]
  },
  {
   "cell_type": "markdown",
   "metadata": {},
   "source": [
    "Thus this dataframe could then be use to generate data analysis on the basis of time and other factors of a particular city."
   ]
  },
  {
   "cell_type": "markdown",
   "metadata": {},
   "source": [
    "<i>End of File</i>"
   ]
  }
 ],
 "metadata": {
  "kernelspec": {
   "display_name": "test",
   "language": "python",
   "name": "python3"
  },
  "language_info": {
   "codemirror_mode": {
    "name": "ipython",
    "version": 3
   },
   "file_extension": ".py",
   "mimetype": "text/x-python",
   "name": "python",
   "nbconvert_exporter": "python",
   "pygments_lexer": "ipython3",
   "version": "3.11.5"
  }
 },
 "nbformat": 4,
 "nbformat_minor": 2
}
