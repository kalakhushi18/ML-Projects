{
 "cells": [
  {
   "cell_type": "markdown",
   "metadata": {},
   "source": [
    "### Message Broker Connection"
   ]
  },
  {
   "cell_type": "markdown",
   "metadata": {},
   "source": [
    "Importing Libraries"
   ]
  },
  {
   "cell_type": "code",
   "execution_count": 1,
   "metadata": {},
   "outputs": [],
   "source": [
    "from kafka import KafkaProducer, KafkaConsumer, KafkaAdminClient\n",
    "from kafka.admin import NewTopic\n",
    "import time\n",
    "import pandas as pd\n",
    "from datetime import datetime\n",
    "import random\n",
    "from kafka.errors import KafkaError\n",
    "import json"
   ]
  },
  {
   "cell_type": "markdown",
   "metadata": {},
   "source": [
    "Defining Kafka Broker Address"
   ]
  },
  {
   "cell_type": "code",
   "execution_count": 40,
   "metadata": {},
   "outputs": [],
   "source": [
    "broker_address = 'localhost:9092'\n",
    "topic_name = 'test_topic'"
   ]
  },
  {
   "cell_type": "markdown",
   "metadata": {},
   "source": [
    "Creating Kafka Producer and Testing the Topic creation"
   ]
  },
  {
   "cell_type": "code",
   "execution_count": 41,
   "metadata": {},
   "outputs": [
    {
     "name": "stdout",
     "output_type": "stream",
     "text": [
      "Topic 'test_topic' created.\n"
     ]
    }
   ],
   "source": [
    "# Create Kafka producer\n",
    "producer = KafkaProducer(bootstrap_servers=broker_address)\n",
    "\n",
    "# Create Kafka admin client to create the topic\n",
    "admin_client = KafkaAdminClient(bootstrap_servers=broker_address)\n",
    "\n",
    "# Create topic if not exists\n",
    "try:\n",
    "    admin_client.create_topics([NewTopic(name=topic_name, num_partitions=1, replication_factor=1)])\n",
    "    print(f\"Topic '{topic_name}' created.\")\n",
    "except Exception as e:\n",
    "    print(f\"Topic creation failed: {e}\")\n"
   ]
  },
  {
   "cell_type": "markdown",
   "metadata": {},
   "source": [
    "Sending Message from Producer"
   ]
  },
  {
   "cell_type": "code",
   "execution_count": 42,
   "metadata": {},
   "outputs": [
    {
     "name": "stdout",
     "output_type": "stream",
     "text": [
      "Message sent to topic 'test_topic'.\n"
     ]
    }
   ],
   "source": [
    "# Produce a test message\n",
    "try:\n",
    "    producer.send(topic_name, b'Test message')\n",
    "    producer.flush()\n",
    "    print(f\"Message sent to topic '{topic_name}'.\")\n",
    "except Exception as e:\n",
    "    print(f\"Failed to send message: {e}\")"
   ]
  },
  {
   "cell_type": "markdown",
   "metadata": {},
   "source": [
    "Creating Kafka Cosumer and Receiving Message"
   ]
  },
  {
   "cell_type": "code",
   "execution_count": 43,
   "metadata": {},
   "outputs": [
    {
     "name": "stdout",
     "output_type": "stream",
     "text": [
      "Received message: b'Test message'\n"
     ]
    }
   ],
   "source": [
    "# Create Kafka consumer\n",
    "consumer = KafkaConsumer(topic_name, bootstrap_servers=broker_address, auto_offset_reset='earliest', consumer_timeout_ms=1000)\n",
    "\n",
    "# Consume the message\n",
    "try:\n",
    "    for message in consumer:\n",
    "        print(f\"Received message: {message.value}\")\n",
    "        break\n",
    "except Exception as e:\n",
    "    print(f\"Failed to consume message: {e}\")\n",
    "finally:\n",
    "    consumer.close()\n"
   ]
  },
  {
   "cell_type": "markdown",
   "metadata": {},
   "source": [
    "Checking Topics Present"
   ]
  },
  {
   "cell_type": "code",
   "execution_count": 44,
   "metadata": {},
   "outputs": [
    {
     "name": "stdout",
     "output_type": "stream",
     "text": [
      "{'test_topic'}\n"
     ]
    }
   ],
   "source": [
    "topics = consumer.topics()\n",
    "\n",
    "if not topics: \n",
    "    raise RuntimeError()\n",
    "else:\n",
    "    print(topics)"
   ]
  },
  {
   "cell_type": "markdown",
   "metadata": {},
   "source": [
    "### Periodically sending message"
   ]
  },
  {
   "cell_type": "code",
   "execution_count": 45,
   "metadata": {},
   "outputs": [
    {
     "name": "stdout",
     "output_type": "stream",
     "text": [
      "Starting to send measurements to Kafka...\n",
      "Measurement sent to Kafka: {'timestamp': '2024-06-15T17:27:39.896385', 'temperature': 32.42, 'moisture': 15.24, 'wind_speed': 10.44}\n",
      "Measurement sent to Kafka: {'timestamp': '2024-06-15T17:27:45.526374', 'temperature': 16.69, 'moisture': 33.72, 'wind_speed': 1.8}\n",
      "Measurement sent to Kafka: {'timestamp': '2024-06-15T17:27:50.530230', 'temperature': 26.52, 'moisture': 90.07, 'wind_speed': 6.4}\n",
      "Measurement sent to Kafka: {'timestamp': '2024-06-15T17:27:55.536408', 'temperature': -17.71, 'moisture': 63.11, 'wind_speed': 14.75}\n",
      "Measurement sent to Kafka: {'timestamp': '2024-06-15T17:28:00.544421', 'temperature': 29.75, 'moisture': 70.88, 'wind_speed': 0.72}\n",
      "Measurement sent to Kafka: {'timestamp': '2024-06-15T17:28:05.552621', 'temperature': 11.98, 'moisture': 19.83, 'wind_speed': 17.47}\n",
      "Measurement sent to Kafka: {'timestamp': '2024-06-15T17:28:10.555439', 'temperature': 31.05, 'moisture': 7.95, 'wind_speed': 12.69}\n",
      "Measurement sent to Kafka: {'timestamp': '2024-06-15T17:28:15.558146', 'temperature': -11.52, 'moisture': 18.44, 'wind_speed': 7.79}\n",
      "Measurement sent to Kafka: {'timestamp': '2024-06-15T17:28:20.565474', 'temperature': 13.51, 'moisture': 76.94, 'wind_speed': 2.81}\n",
      "Measurement sent to Kafka: {'timestamp': '2024-06-15T17:28:25.570438', 'temperature': -16.38, 'moisture': 74.04, 'wind_speed': 12.82}\n",
      "Measurement sent to Kafka: {'timestamp': '2024-06-15T17:28:30.577281', 'temperature': -8.17, 'moisture': 51.64, 'wind_speed': 9.43}\n",
      "Measurement sent to Kafka: {'timestamp': '2024-06-15T17:28:35.580656', 'temperature': -12.91, 'moisture': 65.44, 'wind_speed': 16.0}\n",
      "Measurement sent to Kafka: {'timestamp': '2024-06-15T17:28:40.583587', 'temperature': 23.73, 'moisture': 81.43, 'wind_speed': 18.22}\n",
      "Measurement sent to Kafka: {'timestamp': '2024-06-15T17:28:45.591910', 'temperature': 9.46, 'moisture': 21.63, 'wind_speed': 1.97}\n",
      "Measurement sent to Kafka: {'timestamp': '2024-06-15T17:28:50.596320', 'temperature': -8.13, 'moisture': 64.5, 'wind_speed': 17.77}\n",
      "Kafka Producer closed.\n"
     ]
    }
   ],
   "source": [
    "# Define the connection parameters\n",
    "kafka_broker = 'localhost:9092'\n",
    "main_topic = 'measurements'\n",
    "i = 0\n",
    "\n",
    "# Function to create random measurement data\n",
    "def create_random_measurement():\n",
    "    measurement = {\n",
    "        'timestamp': datetime.utcnow().isoformat(),\n",
    "        'temperature': round(random.uniform(-20.0, 40.0), 2),\n",
    "        'moisture': round(random.uniform(0.0, 100.0), 2),\n",
    "        'wind_speed': round(random.uniform(0.0, 20.0), 2)\n",
    "    }\n",
    "    return measurement\n",
    "\n",
    "# Function to send measurement data to Kafka\n",
    "def send_measurement_to_kafka(producer, measurement):\n",
    "    try:\n",
    "        future = producer.send(main_topic, value=measurement)\n",
    "        result = future.get(timeout=10)\n",
    "        print(f\"Measurement sent to Kafka: {measurement}\")\n",
    "    except KafkaError as e:\n",
    "        print(f\"Error sending measurement to Kafka: {e}\")\n",
    "\n",
    "# Main function to run the producer\n",
    "def run_producer():\n",
    "    i = 0\n",
    "    try:\n",
    "        # Create a Kafka producer\n",
    "        producer = KafkaProducer(\n",
    "            bootstrap_servers=[kafka_broker],\n",
    "            value_serializer=lambda v: json.dumps(v).encode('utf-8')\n",
    "        )\n",
    "        \n",
    "        print(\"Starting to send measurements to Kafka...\")\n",
    "        while i< 15:\n",
    "            measurement = create_random_measurement()\n",
    "            send_measurement_to_kafka(producer, measurement)\n",
    "            i += 1\n",
    "            time.sleep(5)  # Send a measurement every 5 seconds\n",
    "            \n",
    "        \n",
    "    except KafkaError as e:\n",
    "        print(f\"Error connecting to Kafka Producer: {e}\")\n",
    "    finally:\n",
    "        producer.close()\n",
    "        print(\"Kafka Producer closed.\")\n",
    "\n",
    "# Run the producer\n",
    "if __name__ == \"__main__\":\n",
    "    run_producer()"
   ]
  },
  {
   "cell_type": "markdown",
   "metadata": {},
   "source": [
    "### Receiving Message Periodically "
   ]
  },
  {
   "cell_type": "code",
   "execution_count": 14,
   "metadata": {},
   "outputs": [],
   "source": [
    "measurement_dict = {}\n",
    "timestampt_list = []\n",
    "temp_list = []\n",
    "moist_list = []\n",
    "wind_list = []"
   ]
  },
  {
   "cell_type": "code",
   "execution_count": 15,
   "metadata": {},
   "outputs": [],
   "source": [
    "kafka_broker = 'localhost:9092'\n",
    "main_topic = 'measurements'\n",
    "i = 0"
   ]
  },
  {
   "cell_type": "code",
   "execution_count": 16,
   "metadata": {},
   "outputs": [
    {
     "name": "stdout",
     "output_type": "stream",
     "text": [
      "Starting to consume messages from Kafka...\n",
      "Measurement received from Kafka:\n",
      "Timestamp: 2024-06-15T17:27:39.896385\n",
      "Temperature: 32.42°C\n",
      "Moisture: 15.24%\n",
      "Wind Speed: 10.44 m/s\n",
      "\n",
      "Measurement received from Kafka:\n",
      "Timestamp: 2024-06-15T17:27:45.526374\n",
      "Temperature: 16.69°C\n",
      "Moisture: 33.72%\n",
      "Wind Speed: 1.8 m/s\n",
      "\n",
      "Measurement received from Kafka:\n",
      "Timestamp: 2024-06-15T17:27:50.530230\n",
      "Temperature: 26.52°C\n",
      "Moisture: 90.07%\n",
      "Wind Speed: 6.4 m/s\n",
      "\n",
      "Measurement received from Kafka:\n",
      "Timestamp: 2024-06-15T17:27:55.536408\n",
      "Temperature: -17.71°C\n",
      "Moisture: 63.11%\n",
      "Wind Speed: 14.75 m/s\n",
      "\n",
      "Measurement received from Kafka:\n",
      "Timestamp: 2024-06-15T17:28:00.544421\n",
      "Temperature: 29.75°C\n",
      "Moisture: 70.88%\n",
      "Wind Speed: 0.72 m/s\n",
      "\n",
      "Measurement received from Kafka:\n",
      "Timestamp: 2024-06-15T17:28:05.552621\n",
      "Temperature: 11.98°C\n",
      "Moisture: 19.83%\n",
      "Wind Speed: 17.47 m/s\n",
      "\n",
      "Measurement received from Kafka:\n",
      "Timestamp: 2024-06-15T17:28:10.555439\n",
      "Temperature: 31.05°C\n",
      "Moisture: 7.95%\n",
      "Wind Speed: 12.69 m/s\n",
      "\n",
      "Measurement received from Kafka:\n",
      "Timestamp: 2024-06-15T17:28:15.558146\n",
      "Temperature: -11.52°C\n",
      "Moisture: 18.44%\n",
      "Wind Speed: 7.79 m/s\n",
      "\n",
      "Measurement received from Kafka:\n",
      "Timestamp: 2024-06-15T17:28:20.565474\n",
      "Temperature: 13.51°C\n",
      "Moisture: 76.94%\n",
      "Wind Speed: 2.81 m/s\n",
      "\n",
      "Measurement received from Kafka:\n",
      "Timestamp: 2024-06-15T17:28:25.570438\n",
      "Temperature: -16.38°C\n",
      "Moisture: 74.04%\n",
      "Wind Speed: 12.82 m/s\n",
      "\n",
      "Measurement received from Kafka:\n",
      "Timestamp: 2024-06-15T17:28:30.577281\n",
      "Temperature: -8.17°C\n",
      "Moisture: 51.64%\n",
      "Wind Speed: 9.43 m/s\n",
      "\n",
      "Measurement received from Kafka:\n",
      "Timestamp: 2024-06-15T17:28:35.580656\n",
      "Temperature: -12.91°C\n",
      "Moisture: 65.44%\n",
      "Wind Speed: 16.0 m/s\n",
      "\n",
      "Measurement received from Kafka:\n",
      "Timestamp: 2024-06-15T17:28:40.583587\n",
      "Temperature: 23.73°C\n",
      "Moisture: 81.43%\n",
      "Wind Speed: 18.22 m/s\n",
      "\n",
      "Measurement received from Kafka:\n",
      "Timestamp: 2024-06-15T17:28:45.591910\n",
      "Temperature: 9.46°C\n",
      "Moisture: 21.63%\n",
      "Wind Speed: 1.97 m/s\n",
      "\n",
      "Measurement received from Kafka:\n",
      "Timestamp: 2024-06-15T17:28:50.596320\n",
      "Temperature: -8.13°C\n",
      "Moisture: 64.5%\n",
      "Wind Speed: 17.77 m/s\n",
      "\n",
      "Kafka Consumer closed.\n"
     ]
    }
   ],
   "source": [
    "# Function to consume and display messages from Kafka\n",
    "def consume_messages():\n",
    "    try:\n",
    "        consumer_measurement = KafkaConsumer(\n",
    "            main_topic,\n",
    "            bootstrap_servers=[kafka_broker],\n",
    "            auto_offset_reset='earliest',\n",
    "            enable_auto_commit=True,\n",
    "            group_id='measurement-consumer-group-first',\n",
    "            value_deserializer=lambda x: json.loads(x.decode('utf-8'))\n",
    "        )\n",
    "        \n",
    "        print(\"Starting to consume messages from Kafka...\")\n",
    "        for message in consumer_measurement:\n",
    "            measurement = message.value\n",
    "            print(f\"Measurement received from Kafka:\\n\"\n",
    "                  f\"Timestamp: {measurement['timestamp']}\\n\"\n",
    "                  f\"Temperature: {measurement['temperature']}°C\\n\"\n",
    "                  f\"Moisture: {measurement['moisture']}%\\n\"\n",
    "                  f\"Wind Speed: {measurement['wind_speed']} m/s\\n\")\n",
    "            timestampt_list.append(measurement['timestamp'])\n",
    "            temp_list.append(measurement['temperature'])\n",
    "            moist_list.append(measurement['moisture'])\n",
    "            wind_list.append(measurement['wind_speed'])\n",
    "            \n",
    "            if len(timestampt_list) == 15:\n",
    "                break\n",
    "    \n",
    "    except KeyboardInterrupt:\n",
    "        print(\"\\nStopping the consumer...\")\n",
    "            \n",
    "\n",
    "    except KafkaError as e:\n",
    "        print(f\"Error connecting to Kafka Consumer: {e}\")\n",
    "\n",
    "    finally:\n",
    "        measurement_dict['timestamp'] = timestampt_list\n",
    "        measurement_dict['temperature'] = temp_list\n",
    "        measurement_dict['moisture'] = moist_list\n",
    "        measurement_dict['wind_speed'] = wind_list\n",
    "        consumer_measurement.close()\n",
    "        print(\"Kafka Consumer closed.\")\n",
    "\n",
    "# Run the consumer\n",
    "if __name__ == \"__main__\":\n",
    "\n",
    "    consume_messages()"
   ]
  },
  {
   "cell_type": "markdown",
   "metadata": {},
   "source": [
    "Converting Data Received in Pandas Dataframe"
   ]
  },
  {
   "cell_type": "code",
   "execution_count": 18,
   "metadata": {},
   "outputs": [],
   "source": [
    "measurement_df = pd.DataFrame(measurement_dict)"
   ]
  },
  {
   "cell_type": "code",
   "execution_count": 19,
   "metadata": {},
   "outputs": [
    {
     "data": {
      "text/html": [
       "<div>\n",
       "<style scoped>\n",
       "    .dataframe tbody tr th:only-of-type {\n",
       "        vertical-align: middle;\n",
       "    }\n",
       "\n",
       "    .dataframe tbody tr th {\n",
       "        vertical-align: top;\n",
       "    }\n",
       "\n",
       "    .dataframe thead th {\n",
       "        text-align: right;\n",
       "    }\n",
       "</style>\n",
       "<table border=\"1\" class=\"dataframe\">\n",
       "  <thead>\n",
       "    <tr style=\"text-align: right;\">\n",
       "      <th></th>\n",
       "      <th>timestamp</th>\n",
       "      <th>temperature</th>\n",
       "      <th>moisture</th>\n",
       "      <th>wind_speed</th>\n",
       "    </tr>\n",
       "  </thead>\n",
       "  <tbody>\n",
       "    <tr>\n",
       "      <th>0</th>\n",
       "      <td>2024-06-15T17:27:39.896385</td>\n",
       "      <td>32.42</td>\n",
       "      <td>15.24</td>\n",
       "      <td>10.44</td>\n",
       "    </tr>\n",
       "    <tr>\n",
       "      <th>1</th>\n",
       "      <td>2024-06-15T17:27:45.526374</td>\n",
       "      <td>16.69</td>\n",
       "      <td>33.72</td>\n",
       "      <td>1.80</td>\n",
       "    </tr>\n",
       "    <tr>\n",
       "      <th>2</th>\n",
       "      <td>2024-06-15T17:27:50.530230</td>\n",
       "      <td>26.52</td>\n",
       "      <td>90.07</td>\n",
       "      <td>6.40</td>\n",
       "    </tr>\n",
       "    <tr>\n",
       "      <th>3</th>\n",
       "      <td>2024-06-15T17:27:55.536408</td>\n",
       "      <td>-17.71</td>\n",
       "      <td>63.11</td>\n",
       "      <td>14.75</td>\n",
       "    </tr>\n",
       "    <tr>\n",
       "      <th>4</th>\n",
       "      <td>2024-06-15T17:28:00.544421</td>\n",
       "      <td>29.75</td>\n",
       "      <td>70.88</td>\n",
       "      <td>0.72</td>\n",
       "    </tr>\n",
       "    <tr>\n",
       "      <th>5</th>\n",
       "      <td>2024-06-15T17:28:05.552621</td>\n",
       "      <td>11.98</td>\n",
       "      <td>19.83</td>\n",
       "      <td>17.47</td>\n",
       "    </tr>\n",
       "    <tr>\n",
       "      <th>6</th>\n",
       "      <td>2024-06-15T17:28:10.555439</td>\n",
       "      <td>31.05</td>\n",
       "      <td>7.95</td>\n",
       "      <td>12.69</td>\n",
       "    </tr>\n",
       "    <tr>\n",
       "      <th>7</th>\n",
       "      <td>2024-06-15T17:28:15.558146</td>\n",
       "      <td>-11.52</td>\n",
       "      <td>18.44</td>\n",
       "      <td>7.79</td>\n",
       "    </tr>\n",
       "    <tr>\n",
       "      <th>8</th>\n",
       "      <td>2024-06-15T17:28:20.565474</td>\n",
       "      <td>13.51</td>\n",
       "      <td>76.94</td>\n",
       "      <td>2.81</td>\n",
       "    </tr>\n",
       "    <tr>\n",
       "      <th>9</th>\n",
       "      <td>2024-06-15T17:28:25.570438</td>\n",
       "      <td>-16.38</td>\n",
       "      <td>74.04</td>\n",
       "      <td>12.82</td>\n",
       "    </tr>\n",
       "    <tr>\n",
       "      <th>10</th>\n",
       "      <td>2024-06-15T17:28:30.577281</td>\n",
       "      <td>-8.17</td>\n",
       "      <td>51.64</td>\n",
       "      <td>9.43</td>\n",
       "    </tr>\n",
       "    <tr>\n",
       "      <th>11</th>\n",
       "      <td>2024-06-15T17:28:35.580656</td>\n",
       "      <td>-12.91</td>\n",
       "      <td>65.44</td>\n",
       "      <td>16.00</td>\n",
       "    </tr>\n",
       "    <tr>\n",
       "      <th>12</th>\n",
       "      <td>2024-06-15T17:28:40.583587</td>\n",
       "      <td>23.73</td>\n",
       "      <td>81.43</td>\n",
       "      <td>18.22</td>\n",
       "    </tr>\n",
       "    <tr>\n",
       "      <th>13</th>\n",
       "      <td>2024-06-15T17:28:45.591910</td>\n",
       "      <td>9.46</td>\n",
       "      <td>21.63</td>\n",
       "      <td>1.97</td>\n",
       "    </tr>\n",
       "    <tr>\n",
       "      <th>14</th>\n",
       "      <td>2024-06-15T17:28:50.596320</td>\n",
       "      <td>-8.13</td>\n",
       "      <td>64.50</td>\n",
       "      <td>17.77</td>\n",
       "    </tr>\n",
       "  </tbody>\n",
       "</table>\n",
       "</div>"
      ],
      "text/plain": [
       "                     timestamp  temperature  moisture  wind_speed\n",
       "0   2024-06-15T17:27:39.896385        32.42     15.24       10.44\n",
       "1   2024-06-15T17:27:45.526374        16.69     33.72        1.80\n",
       "2   2024-06-15T17:27:50.530230        26.52     90.07        6.40\n",
       "3   2024-06-15T17:27:55.536408       -17.71     63.11       14.75\n",
       "4   2024-06-15T17:28:00.544421        29.75     70.88        0.72\n",
       "5   2024-06-15T17:28:05.552621        11.98     19.83       17.47\n",
       "6   2024-06-15T17:28:10.555439        31.05      7.95       12.69\n",
       "7   2024-06-15T17:28:15.558146       -11.52     18.44        7.79\n",
       "8   2024-06-15T17:28:20.565474        13.51     76.94        2.81\n",
       "9   2024-06-15T17:28:25.570438       -16.38     74.04       12.82\n",
       "10  2024-06-15T17:28:30.577281        -8.17     51.64        9.43\n",
       "11  2024-06-15T17:28:35.580656       -12.91     65.44       16.00\n",
       "12  2024-06-15T17:28:40.583587        23.73     81.43       18.22\n",
       "13  2024-06-15T17:28:45.591910         9.46     21.63        1.97\n",
       "14  2024-06-15T17:28:50.596320        -8.13     64.50       17.77"
      ]
     },
     "execution_count": 19,
     "metadata": {},
     "output_type": "execute_result"
    }
   ],
   "source": [
    "measurement_df"
   ]
  }
 ],
 "metadata": {
  "kernelspec": {
   "display_name": "test",
   "language": "python",
   "name": "python3"
  },
  "language_info": {
   "codemirror_mode": {
    "name": "ipython",
    "version": 3
   },
   "file_extension": ".py",
   "mimetype": "text/x-python",
   "name": "python",
   "nbconvert_exporter": "python",
   "pygments_lexer": "ipython3",
   "version": "3.11.5"
  }
 },
 "nbformat": 4,
 "nbformat_minor": 2
}
