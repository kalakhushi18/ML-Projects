{
 "cells": [
  {
   "cell_type": "code",
   "execution_count": 2,
   "metadata": {},
   "outputs": [],
   "source": [
    "#importing libraries\n",
    "\n",
    "import requests \n",
    "import json"
   ]
  },
  {
   "cell_type": "markdown",
   "metadata": {},
   "source": [
    "#### Question 1\n",
    "\n",
    "Aviation Weather Center "
   ]
  },
  {
   "cell_type": "code",
   "execution_count": 33,
   "metadata": {},
   "outputs": [
    {
     "name": "stdout",
     "output_type": "stream",
     "text": [
      "API Request Successful!\n",
      "\n",
      "1.1: Name of the Airport: HAMBURG AIRPORT \n",
      "\n",
      "1.2: IATA Code of the Airport: HAM \n",
      "\n",
      "1.3: Geolocation of the Airport:\n",
      "  Latitude: 53.6318\n",
      "  Longitude: 9.9951 \n",
      "\n",
      "1.4: Number of Runways at the Airport: 2\n"
     ]
    }
   ],
   "source": [
    "# Accessing the Weather station name with the help of eddh\n",
    "id = 'EDDH'\n",
    "params_aviation = {\n",
    "    \"ids\": id,\n",
    "    \"format\": \"json\"\n",
    "}\n",
    "aviation_url = 'https://aviationweather.gov/api/data/airport/?'\n",
    "response_aviation = requests.get(url= aviation_url, params=params_aviation)\n",
    "\n",
    "try:\n",
    "    # GET request to the API\n",
    "    response_aviation = requests.get(url= aviation_url, params=params_aviation)\n",
    "    \n",
    "    # Response check\n",
    "    if response_aviation.status_code == 200:\n",
    "        \n",
    "        data = response_aviation.json()\n",
    "   \n",
    "        print(\"API Request Successful!\\n\")\n",
    "        \n",
    "        airport = data[0] \n",
    "        \n",
    "        print(\"1.1: Name of the Airport:\", airport.get('name', 'N/A'), '\\n')  \n",
    "        print(\"1.2: IATA Code of the Airport:\", airport.get('iataId', 'N/A'), '\\n')\n",
    "        print(\"1.3: Geolocation of the Airport:\")\n",
    "        print(\"  Latitude:\", airport.get('lat', 'N/A'))\n",
    "        print(\"  Longitude:\", airport.get('lon', 'N/A'), '\\n')\n",
    "        print(\"1.4: Number of Runways at the Airport:\", airport.get('rwyNum', 'N/A'))\n",
    "    else:\n",
    "        print(f\"Error: Received HTTP status code {response_aviation.status_code}\")\n",
    "except requests.exceptions.RequestException as e:\n",
    "    \n",
    "    print(\"An error occurred while making the API request:\", str(e))"
   ]
  },
  {
   "cell_type": "markdown",
   "metadata": {},
   "source": [
    "#### Question 2\n",
    "\n",
    "Open Library API"
   ]
  },
  {
   "cell_type": "code",
   "execution_count": 29,
   "metadata": {},
   "outputs": [
    {
     "name": "stdout",
     "output_type": "stream",
     "text": [
      "API Request Successful!\n",
      "\n",
      "2.1.1: The Title of the Book is: Quantum Internet \n",
      "\n",
      "2.1.2: The subtitle of the Book is: The Second Quantum Revolution \n",
      "\n",
      "2.1.3: The full Title of the Book is: Quantum Internet The Second Quantum Revolution \n",
      "\n"
     ]
    }
   ],
   "source": [
    "# Accessing Title and Subtitle of the book with ISBN Number\n",
    "\n",
    "isbn = '978-1108491457'\n",
    "\n",
    "headers = {\n",
    "    \"Accept\": \"application/json\"\n",
    "}\n",
    "\n",
    "isbn_url = f'https://openlibrary.org/isbn/{isbn}'\n",
    "\n",
    "response_book = requests.get(url= isbn_url, headers=headers) \n",
    "\n",
    "try: \n",
    "    if response_book.status_code == 200:\n",
    "         data = response_book.json()\n",
    "\n",
    "         #extracting author key for Author retrieval\n",
    "         author_key = data['authors'][0]['key']\n",
    "\n",
    "         print(f\"API Request Successful!\\n\")\n",
    "\n",
    "         print(\"2.1.1: The Title of the Book is:\", data['title'], '\\n') \n",
    "         print(\"2.1.2: The subtitle of the Book is:\", data['subtitle'], '\\n')\n",
    "         print(\"2.1.3: The full Title of the Book is:\", data['full_title'], '\\n')\n",
    "\n",
    "except requests.exceptions.RequestException as e:\n",
    "    print(\"An error occurred while making the API request:\", str(e))\n"
   ]
  },
  {
   "cell_type": "code",
   "execution_count": 30,
   "metadata": {},
   "outputs": [
    {
     "name": "stdout",
     "output_type": "stream",
     "text": [
      "API Request Successful!\n",
      "\n",
      "2.2 The author name of the book is:  Peter P. Rohde\n"
     ]
    }
   ],
   "source": [
    "# Accesing the Author Name using the Author key retrieved by ISBN Number\n",
    "\n",
    "author_url = f'https://openlibrary.org/{author_key}'\n",
    "\n",
    "headers = {\n",
    "    \"Accept\": \"application/json\"\n",
    "}\n",
    "response_author = requests.get(url= author_url, headers= headers) \n",
    "    \n",
    "try: \n",
    "    if response_author.status_code == 200:\n",
    "        \n",
    "        data = response_author.json()\n",
    "            \n",
    "        print(f\"API Request Successful!\\n\")  \n",
    "\n",
    "        print(\"2.2 The author name of the book is: \", data['name'])\n",
    "          \n",
    "    else:\n",
    "        print(f\"Error: Received HTTP status code {response_author.status_code}\")\n",
    "    \n",
    "        \n",
    "except requests.exceptions.RequestException as e:\n",
    "    print(\"An error occurred while making the API request:\", str(e))"
   ]
  },
  {
   "cell_type": "code",
   "execution_count": 31,
   "metadata": {},
   "outputs": [
    {
     "name": "stdout",
     "output_type": "stream",
     "text": [
      "API Request Successful!\n",
      "\n",
      "Author: Marko Lukša\n",
      "\n",
      "2.3.1: The top work of Marko Luksa is:  Kubernetes in Action\n"
     ]
    }
   ],
   "source": [
    "# Accessing the Top-work of Marko Luksa\n",
    "\n",
    "open_author_url = 'https://openlibrary.org/search/authors.json?q=Marko%Luksa'\n",
    "response_author_work = requests.get(url = open_author_url,  headers= headers)\n",
    "\n",
    "try: \n",
    "    if response_author_work.status_code == 200:\n",
    "        \n",
    "        data = response_author_work.json()\n",
    "\n",
    "        print(f\"API Request Successful!\\n\")\n",
    "\n",
    "        print(f\"Author: Marko Lukša\\n\")\n",
    "       \n",
    "        print(\"2.3.1: The top work of Marko Luksa is: \", data['docs'][0]['top_work'])\n",
    "          \n",
    "    else:\n",
    "        print(f\"Error: Received HTTP status code {response_author_work.status_code}\")\n",
    "    \n",
    "        \n",
    "except requests.exceptions.RequestException as e:\n",
    "    print(\"An error occurred while making the API request:\", str(e))"
   ]
  },
  {
   "cell_type": "code",
   "execution_count": 32,
   "metadata": {},
   "outputs": [
    {
     "name": "stdout",
     "output_type": "stream",
     "text": [
      "API Request Successful!\n",
      "\n",
      "Author: Marko Lukša\n",
      "\n",
      "2.3.2: Total Number of Books Written: 2\n",
      "\n",
      "2.4: List of Book Titles:\n",
      "1. Kubernetes in Action\n",
      "2. Kubernetes in Action, Second Edition\n"
     ]
    }
   ],
   "source": [
    "#Accesing the Number of books and the Title of books written by Marko Luksa\n",
    "\n",
    "author_search_url = \"https://openlibrary.org/search.json\"\n",
    "\n",
    "params = {'author': 'Marko Luksa'}\n",
    "\n",
    "try:\n",
    "    response = requests.get(url=author_search_url, params=params)\n",
    "\n",
    "    if response.status_code == 200:\n",
    "        data = response.json()\n",
    "        books = data.get('docs', [])\n",
    "        \n",
    "        if books:\n",
    "            total_books = len(books)\n",
    "            \n",
    "            # Extract the titles of all the books\n",
    "            titles = [book.get('title', 'Unknown Title') for book in books]\n",
    "\n",
    "            \n",
    "            # Print the results\n",
    "            print(f\"API Request Successful!\\n\")\n",
    "            print(f\"Author: Marko Lukša\\n\")\n",
    "            print(f\"2.3.2: Total Number of Books Written: {total_books}\\n\")\n",
    "            print(\"2.4: List of Book Titles:\")\n",
    "            for idx, title in enumerate(titles, start=1):\n",
    "                print(f\"{idx}. {title}\")\n",
    "        else:\n",
    "            print(\"No works found for the author 'Marko Lukša'.\")\n",
    "    else:\n",
    "      \n",
    "        print(f\"Error: Received HTTP status code {response.status_code}\")\n",
    "except requests.exceptions.RequestException as e:\n",
    " \n",
    "    print(\"An error occurred while making the API request:\", str(e))\n"
   ]
  },
  {
   "cell_type": "markdown",
   "metadata": {},
   "source": [
    "#### Question 3 \n",
    "\n",
    "Digitize the Planet"
   ]
  },
  {
   "cell_type": "code",
   "execution_count": 34,
   "metadata": {},
   "outputs": [
    {
     "name": "stdout",
     "output_type": "stream",
     "text": [
      "API Request Successful!\n",
      "\n",
      "3.1: The name of the Protected area is :  Schleswig-Holsteinisches Wattenmeer\n",
      "3.2: The name of the  source organization of the Geometry info  is :  Bundesamt für Naturschutz\n",
      "3.3: The category of the Protected area is :  National Park\n"
     ]
    }
   ],
   "source": [
    "# Accessing the Protected Area Information using UUID\n",
    "\n",
    "uuid = '9a482446-cab1-4338-9df8-7bb627b339e8'\n",
    "plantet_url = f'https://content.digitizetheplanet.org/api/protectedarea/{uuid}/'\n",
    "\n",
    "try:\n",
    "    response = requests.get(url=plantet_url)\n",
    "\n",
    "    if response.status_code == 200:\n",
    "\n",
    "        data_planet = response.json()\n",
    "\n",
    "        print(f\"API Request Successful!\\n\")\n",
    "\n",
    "        print(\"3.1: The name of the Protected area is : \", data_planet['name_en'])\n",
    "        print(\"3.2: The name of the  source organization of the Geometry info  is : \", data_planet['geometry_source_organization'])\n",
    "        print(\"3.3: The category of the Protected area is : \", data_planet['category']['protectedareacategory_en'])\n",
    "\n",
    "    else:\n",
    "      \n",
    "        print(f\"Error: Received HTTP status code {response.status_code}\")\n",
    "except requests.exceptions.RequestException as e:\n",
    " \n",
    "    print(\"An error occurred while making the API request:\", str(e))\n",
    "\n"
   ]
  },
  {
   "cell_type": "code",
   "execution_count": 36,
   "metadata": {},
   "outputs": [
    {
     "name": "stdout",
     "output_type": "stream",
     "text": [
      "API Request Successful!\n",
      "\n",
      "3.4.1: The acitivity is: Camping\n",
      "3.4.2: The activity place is:  Total area of the territory\n",
      "3.4.3: The activity permission is:  forbidden\n"
     ]
    }
   ],
   "source": [
    "# Accessing the Name of the Activity, Activity Place and acitivity permission from given protected rule id\n",
    "\n",
    "id = '149'\n",
    "protected_rule = f'https://content.digitizetheplanet.org/api/protectedarearule/{id}/'\n",
    "\n",
    "try:\n",
    "    response = requests.get(url=protected_rule)\n",
    "\n",
    "    if response.status_code == 200:\n",
    "\n",
    "        data_activity = response.json()\n",
    "        print(f\"API Request Successful!\\n\")\n",
    "        print(\"3.4.1: The acitivity is:\", data_activity['activity']['activity_en'])\n",
    "        print(\"3.4.2: The activity place is: \", data_activity['activityplace']['place_en'])\n",
    "        print(\"3.4.3: The activity permission is: \", data_activity['activitypermission']['permission_en'])\n",
    "        park_uuid = data_activity['park']\n",
    "\n",
    "    else:\n",
    "      \n",
    "        print(f\"Error: Received HTTP status code {response.status_code}\")\n",
    "except requests.exceptions.RequestException as e:\n",
    " \n",
    "    print(\"An error occurred while making the API request:\", str(e))\n"
   ]
  },
  {
   "cell_type": "code",
   "execution_count": 38,
   "metadata": {},
   "outputs": [
    {
     "name": "stdout",
     "output_type": "stream",
     "text": [
      "The park or Protected UUID found from above is:  c9c5ec51-1c26-420b-91fc-e3757083b178\n",
      "API Request Successful!\n",
      "\n",
      "3.4.4: The name of the Protected area is :  Ferbitzer Bruch\n"
     ]
    }
   ],
   "source": [
    "#Accessing the Name of the Protected Area by using the Park uuid\n",
    "\n",
    "print(\"The park or Protected UUID found from above is: \", park_uuid)\n",
    "\n",
    "protected_url= f'https://content.digitizetheplanet.org/api/protectedarea/{park_uuid}/'\n",
    "\n",
    "try:\n",
    "    response_protected = requests.get(url= protected_url)\n",
    "\n",
    "    if response_protected.status_code == 200:\n",
    "\n",
    "        data_protected = response_protected.json()\n",
    "        print(f\"API Request Successful!\\n\")\n",
    "        print(\"3.4.4: The name of the Protected area is : \", data_protected['name_en'])\n",
    "\n",
    "    else:\n",
    "      \n",
    "        print(f\"Error: Received HTTP status code {response_protected.status_code}\")\n",
    "except requests.exceptions.RequestException as e:\n",
    " \n",
    "    print(\"An error occurred while making the API request:\", str(e))\n"
   ]
  },
  {
   "cell_type": "markdown",
   "metadata": {},
   "source": [
    "### Observations: \n",
    "\n",
    "The API Request is performed using python package \"request\" and for accessing the data in json format python package \"json\" is used"
   ]
  }
 ],
 "metadata": {
  "kernelspec": {
   "display_name": "Python 3",
   "language": "python",
   "name": "python3"
  },
  "language_info": {
   "codemirror_mode": {
    "name": "ipython",
    "version": 3
   },
   "file_extension": ".py",
   "mimetype": "text/x-python",
   "name": "python",
   "nbconvert_exporter": "python",
   "pygments_lexer": "ipython3",
   "version": "3.11.5"
  }
 },
 "nbformat": 4,
 "nbformat_minor": 2
}
