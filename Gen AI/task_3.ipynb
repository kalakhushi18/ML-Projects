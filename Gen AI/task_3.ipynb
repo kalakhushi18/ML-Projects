{
 "cells": [
  {
   "cell_type": "markdown",
   "metadata": {},
   "source": [
    "### Task 3\n",
    "Agent"
   ]
  },
  {
   "cell_type": "code",
   "execution_count": 2,
   "metadata": {},
   "outputs": [
    {
     "name": "stderr",
     "output_type": "stream",
     "text": [
      "c:\\Users\\Asus\\envs\\test\\Lib\\site-packages\\pydantic\\_internal\\_fields.py:132: UserWarning: Field \"model_name\" in LMStudio has conflict with protected namespace \"model_\".\n",
      "\n",
      "You may be able to resolve this warning by setting `model_config['protected_namespaces'] = ()`.\n",
      "  warnings.warn(\n"
     ]
    }
   ],
   "source": [
    "from llama_index.llms.lmstudio import LMStudio\n",
    "from dotenv import load_dotenv\n",
    "\n",
    "load_dotenv()\n",
    "from llama_index.core.agent import ReActAgent\n",
    "# from llama_index.llms.openai import OpenAI\n",
    "from llama_index.core.tools import FunctionTool\n"
   ]
  },
  {
   "cell_type": "code",
   "execution_count": 10,
   "metadata": {},
   "outputs": [],
   "source": [
    "import nest_asyncio\n",
    "\n",
    "nest_asyncio.apply()\n"
   ]
  },
  {
   "cell_type": "code",
   "execution_count": 3,
   "metadata": {},
   "outputs": [],
   "source": [
    "llm = LMStudio(\n",
    "    model_name=\"llama-3.2-1b-instruct\",\n",
    "    base_url=\"http://localhost:1234/v1\",\n",
    "    temperature=0.7,\n",
    ")"
   ]
  },
  {
   "cell_type": "code",
   "execution_count": 4,
   "metadata": {},
   "outputs": [],
   "source": [
    "def multiply(a: float, b: float) -> float:\n",
    "    \"\"\"Multiply two numbers and returns the product\"\"\"\n",
    "    return a * b\n",
    "\n",
    "\n",
    "multiply_tool = FunctionTool.from_defaults(fn=multiply)\n",
    "\n",
    "\n",
    "def add(a: float, b: float) -> float:\n",
    "    \"\"\"Add two numbers and returns the sum\"\"\"\n",
    "    return a + b\n",
    "\n",
    "\n",
    "add_tool = FunctionTool.from_defaults(fn=add)"
   ]
  },
  {
   "cell_type": "code",
   "execution_count": 6,
   "metadata": {},
   "outputs": [
    {
     "name": "stdout",
     "output_type": "stream",
     "text": [
      "2 + 2 = 4!\n"
     ]
    }
   ],
   "source": [
    "response = llm.complete(\"Hey there, what is 2+2?\")\n",
    "print(str(response))"
   ]
  },
  {
   "cell_type": "code",
   "execution_count": 7,
   "metadata": {},
   "outputs": [],
   "source": [
    "agent = ReActAgent.from_tools([multiply_tool, add_tool], llm=llm, verbose=True)"
   ]
  },
  {
   "cell_type": "code",
   "execution_count": 12,
   "metadata": {},
   "outputs": [],
   "source": [
    "from llama_index.core.base.llms.types import ChatMessage, MessageRole\n",
    "messages = [\n",
    "    ChatMessage(\n",
    "        role=MessageRole.SYSTEM,\n",
    "        content=\"You an expert AI assistant. Help User with their queries.\",\n",
    "    ),\n",
    "    ChatMessage(\n",
    "        role=MessageRole.USER,\n",
    "        content=\"What is the significance of the number 42?\",\n",
    "    ),\n",
    "]"
   ]
  },
  {
   "cell_type": "code",
   "execution_count": 13,
   "metadata": {},
   "outputs": [
    {
     "name": "stdout",
     "output_type": "stream",
     "text": [
      "assistant: The infamous \"Answer to the Ultimate Question of Life, the Universe, and Everything\" from Douglas Adams' science fiction series \"The Hitchhiker's Guide to the Galaxy.\" The answer, according to the book, is 42.\n",
      "\n",
      "The significance of this number can be interpreted in various ways. Here are a few:\n",
      "\n",
      "1. **Mathematical significance**: In mathematics, 42 is often considered an interesting or arbitrary number due to its proximity to pi (3.14) and other irrational numbers.\n",
      "2. **Cultural reference**: The answer has become a cultural phenomenon, with numerous references and parodies in popular media, such as films, TV shows, music, and even memes.\n",
      "3. **Philosophical implications**: Some interpretations suggest that the number 42 holds secrets to understanding the nature of the universe, life itself, or the search for meaning. However, these ideas are highly speculative and not universally accepted.\n",
      "4. **Divergent thinking**: The answer's uniqueness might be seen as a reflection of Douglas Adams' own unconventional approach to problem-solving and creative writing.\n",
      "5. **Symbolism**: 42 could represent a number that holds significance in various contexts, such as the number of digits on an ancient artifact or the number of iterations in a mathematical formula.\n",
      "\n",
      "While there is no definitive answer to what \"significance\" means for this specific question, it's clear that the number 42 has become a cultural phenomenon that transcends its literal meaning.\n"
     ]
    }
   ],
   "source": [
    "response = llm.chat(messages=messages)\n",
    "print(str(response))"
   ]
  },
  {
   "cell_type": "code",
   "execution_count": 14,
   "metadata": {},
   "outputs": [
    {
     "name": "stdout",
     "output_type": "stream",
     "text": [
      "The infamous number 42! It's a number that has been etched into popular culture, often associated with Douglas Adams' science fiction series \"The Hitchhiker's Guide to the Galaxy.\" The book was published in 1979 and became a bestseller.\n",
      "\n",
      "In the story, the supercomputer Deep Thought is asked to calculate the \"Answer to the Ultimate Question of Life, the Universe, and Everything.\" After 7.5 million years of computation, it reveals that the answer is... 42!\n",
      "\n",
      "The significance of this number lies in its use as a humorous and irreverent commentary on the search for meaning and purpose. The book pokes fun at the idea that there may be an ultimate question to which the answer is not yet known, but rather, an infinite series of questions.\n",
      "\n",
      "Adams himself said that he chose 42 randomly, but the number has since become synonymous with his work. It's a reminder that sometimes, simplicity and absurdity can be more effective in conveying complex ideas than grand, profound statements.\n",
      "\n",
      "Interestingly, there are some theories about why Adams selected this particular number:\n",
      "\n",
      "* The number 42 is associated with mathematical constants, such as π (pi) and e.\n",
      "* The digits \"4\" and \"2\" are both prime numbers.\n",
      "* Some believe that the number has an otherworldly or mystical significance in the context of the story.\n",
      "\n",
      "Regardless of its origins, the number 42 has become a cultural phenomenon, symbolizing the search for meaning and humor in the face of uncertainty. It's a reminder to not take ourselves too seriously and to appreciate the simple things in life.\n",
      "\n",
      "What do you think about the significance of 42?"
     ]
    }
   ],
   "source": [
    "response = llm.stream_chat(messages=messages)\n",
    "for r in response:\n",
    "    print(r.delta, end=\"\")"
   ]
  },
  {
   "cell_type": "code",
   "execution_count": 16,
   "metadata": {},
   "outputs": [
    {
     "name": "stdout",
     "output_type": "stream",
     "text": [
      "A question that delves into some advanced mathematical concepts!\n",
      "\n",
      "In mathematics, particularly in calculus and analysis, there are several approaches to dealing with \"infinite\" quantities. Here's a brief overview:\n",
      "\n",
      "**Limit Definition**\n",
      "\n",
      "One way to approach infinity is through the concept of limits. In calculus, an infinite product (or multiplication) is defined by the limit definition:\n",
      "\n",
      "∞ × ∞ = lim(n→∞) [f(n)]^n\n",
      "\n",
      "where f(n) is a function, and n represents an integer. This means that as n approaches infinity, we define the product of ∞ × ∞ as the limit of the expression (f(n))^n.\n",
      "\n",
      "**Infinite Product Formula**\n",
      "\n",
      "Another way to express infinite products is through the formula:\n",
      "\n",
      "∞ = lim(n→∞) [1 + f(1)/n]\n",
      "\n",
      "where 1 represents a constant value, and n approaches infinity. This formula defines the infinite product as the limit of the expression (f(1)/n).\n",
      "\n",
      "**Product of Infinite Series**\n",
      "\n",
      "A more advanced approach is to consider products of infinite series. For example:\n",
      "\n",
      "∞ = lim(n→∞) [1 + f(1)/n + f(2)/n^2 + ...]\n",
      "\n",
      "Here, we define an infinite product as the limit of a sum of terms where each term involves the function f(n).\n",
      "\n",
      "**Infinite Product Formula using Infinite Series**\n",
      "\n",
      "Another formula for infinite products is based on infinite series. For example:\n",
      "\n",
      "∞ = 1 × ∑[f(n)/n]\n",
      "\n",
      "where the sum represents an infinite series with each term involving the function f(n).\n",
      "\n",
      "**Generalized Limit Definition**\n",
      "\n",
      "There's also a generalization of these concepts, known as generalized limit definitions, which provide more nuanced ways to approach infinity in various mathematical contexts.\n",
      "\n",
      "I hope this provides some insight into how mathematicians deal with infinite products! Do you have any specific questions or areas related to this topic?"
     ]
    }
   ],
   "source": [
    "messages = [\n",
    "    ChatMessage(\n",
    "        role=MessageRole.SYSTEM,\n",
    "        content=\"You an expert AI assistant. Help User with their queries.\",\n",
    "    ),\n",
    "    ChatMessage(\n",
    "        role=MessageRole.USER,\n",
    "        content=\"What is the multiplication for infinite into infinite in mathematics \",\n",
    "    ),\n",
    "]\n",
    "\n",
    "response = llm.stream_chat(messages=messages)\n",
    "for r in response:\n",
    "    print(r.delta, end=\"\")"
   ]
  }
 ],
 "metadata": {
  "kernelspec": {
   "display_name": "test",
   "language": "python",
   "name": "python3"
  },
  "language_info": {
   "codemirror_mode": {
    "name": "ipython",
    "version": 3
   },
   "file_extension": ".py",
   "mimetype": "text/x-python",
   "name": "python",
   "nbconvert_exporter": "python",
   "pygments_lexer": "ipython3",
   "version": "3.11.5"
  }
 },
 "nbformat": 4,
 "nbformat_minor": 2
}
