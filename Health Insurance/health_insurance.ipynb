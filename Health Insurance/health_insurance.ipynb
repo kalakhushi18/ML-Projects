{
 "cells": [
  {
   "cell_type": "code",
   "execution_count": null,
   "metadata": {},
   "outputs": [],
   "source": [
    "# from ISLP import load_data\n",
    "# Wage = load_data('Wage')\n",
    "# Wage.columns"
   ]
  }
 ],
 "metadata": {
  "language_info": {
   "name": "python"
  }
 },
 "nbformat": 4,
 "nbformat_minor": 2
}
