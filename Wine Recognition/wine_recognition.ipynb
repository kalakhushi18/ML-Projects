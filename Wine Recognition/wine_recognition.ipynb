{
 "cells": [
  {
   "cell_type": "code",
   "execution_count": null,
   "metadata": {},
   "outputs": [],
   "source": [
    "# Use baseline model as decision tree and plot the graph \n",
    "# The other model use XGBoost Classifier\n",
    "#Perform train test split with stratify \n",
    "# one hot encoding with pd.get_dummies()"
   ]
  }
 ],
 "metadata": {
  "language_info": {
   "name": "python"
  }
 },
 "nbformat": 4,
 "nbformat_minor": 2
}
